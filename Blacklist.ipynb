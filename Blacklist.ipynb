{
 "cells": [
  {
   "cell_type": "code",
   "execution_count": null,
   "metadata": {},
   "outputs": [],
   "source": [
    "### here we import various libraries needed\n",
    "import pandas as pd\n",
    "import numpy as np\n",
    "from ebmdatalab import bq\n",
    "from ebmdatalab import charts\n",
    "from ebmdatalab import maps"
   ]
  },
  {
   "cell_type": "code",
   "execution_count": null,
   "metadata": {},
   "outputs": [],
   "source": [
    "sql='''SELECT\n",
    "presc.month,\n",
    "pct,\n",
    "pract.name,\n",
    "presc.practice,\n",
    "AVG(total_list_size) AS list_size,\n",
    "presc.bnf_code,\n",
    "presc.bnf_name,\n",
    "SUM(items) AS totalitems,\n",
    "SUM(actual_cost) AS totalcost\n",
    "FROM\n",
    "ebmdatalab.hscic.normalised_prescribing_standard AS presc\n",
    "LEFT JOIN\n",
    "ebmdatalab.hscic.practices AS pract\n",
    "ON\n",
    "presc.practice=pract.code\n",
    "LEFT JOIN  # is this join in the right place  review\n",
    "ebmdatalab.hscic.practice_statistics_all_years AS stat\n",
    "ON\n",
    "presc.practice = stat.practice\n",
    "AND presc.month = stat.month\n",
    "LEFT JOIN\n",
    "ebmdatalab.dmd.product AS dmd\n",
    "ON\n",
    "presc.bnf_code=dmd.bnf_code\n",
    "WHERE\n",
    "dmd.is_blacklisted = true\n",
    "GROUP BY\n",
    "month,\n",
    "pct,\n",
    "pract.name,\n",
    "presc.practice,\n",
    "presc.bnf_code,\n",
    "presc.bnf_name'''\n",
    "\n",
    "\n",
    "df_blacklist = bq.cached_read(sql, csv_path='df_blacklist.csv', use_cache=True)  # add `use_cache=False` to override\n",
    "df_blacklist['month'] = df_inhaler['month'].astype('datetime64[ns]')\n",
    "df_blacklist.head()"
   ]
  }
 ],
 "metadata": {
  "kernelspec": {
   "display_name": "Python 3",
   "language": "python",
   "name": "python3"
  },
  "language_info": {
   "codemirror_mode": {
    "name": "ipython",
    "version": 3
   },
   "file_extension": ".py",
   "mimetype": "text/x-python",
   "name": "python",
   "nbconvert_exporter": "python",
   "pygments_lexer": "ipython3",
   "version": "3.6.5"
  }
 },
 "nbformat": 4,
 "nbformat_minor": 2
}
