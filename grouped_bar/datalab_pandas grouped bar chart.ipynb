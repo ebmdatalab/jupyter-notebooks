{
 "cells": [
  {
   "cell_type": "code",
   "execution_count": 1,
   "metadata": {},
   "outputs": [
    {
     "data": {
      "text/html": [
       "<div>\n",
       "<style scoped>\n",
       "    .dataframe tbody tr th:only-of-type {\n",
       "        vertical-align: middle;\n",
       "    }\n",
       "\n",
       "    .dataframe tbody tr th {\n",
       "        vertical-align: top;\n",
       "    }\n",
       "\n",
       "    .dataframe thead th {\n",
       "        text-align: right;\n",
       "    }\n",
       "</style>\n",
       "<table border=\"1\" class=\"dataframe\">\n",
       "  <thead>\n",
       "    <tr style=\"text-align: right;\">\n",
       "      <th></th>\n",
       "      <th>group</th>\n",
       "      <th>method</th>\n",
       "      <th>category1</th>\n",
       "      <th>category2</th>\n",
       "      <th>category3</th>\n",
       "    </tr>\n",
       "  </thead>\n",
       "  <tbody>\n",
       "    <tr>\n",
       "      <th>0</th>\n",
       "      <td>group1</td>\n",
       "      <td>email</td>\n",
       "      <td>10</td>\n",
       "      <td>5</td>\n",
       "      <td>1</td>\n",
       "    </tr>\n",
       "    <tr>\n",
       "      <th>1</th>\n",
       "      <td>group1</td>\n",
       "      <td>fax</td>\n",
       "      <td>11</td>\n",
       "      <td>10</td>\n",
       "      <td>6</td>\n",
       "    </tr>\n",
       "    <tr>\n",
       "      <th>2</th>\n",
       "      <td>group1</td>\n",
       "      <td>letter</td>\n",
       "      <td>25</td>\n",
       "      <td>19</td>\n",
       "      <td>13</td>\n",
       "    </tr>\n",
       "    <tr>\n",
       "      <th>3</th>\n",
       "      <td>group2</td>\n",
       "      <td>email</td>\n",
       "      <td>6</td>\n",
       "      <td>4</td>\n",
       "      <td>2</td>\n",
       "    </tr>\n",
       "    <tr>\n",
       "      <th>4</th>\n",
       "      <td>group2</td>\n",
       "      <td>fax</td>\n",
       "      <td>12</td>\n",
       "      <td>10</td>\n",
       "      <td>8</td>\n",
       "    </tr>\n",
       "    <tr>\n",
       "      <th>5</th>\n",
       "      <td>group2</td>\n",
       "      <td>letter</td>\n",
       "      <td>22</td>\n",
       "      <td>18</td>\n",
       "      <td>10</td>\n",
       "    </tr>\n",
       "    <tr>\n",
       "      <th>6</th>\n",
       "      <td>group3</td>\n",
       "      <td>email</td>\n",
       "      <td>6</td>\n",
       "      <td>4</td>\n",
       "      <td>2</td>\n",
       "    </tr>\n",
       "    <tr>\n",
       "      <th>7</th>\n",
       "      <td>group3</td>\n",
       "      <td>fax</td>\n",
       "      <td>12</td>\n",
       "      <td>10</td>\n",
       "      <td>8</td>\n",
       "    </tr>\n",
       "    <tr>\n",
       "      <th>8</th>\n",
       "      <td>group3</td>\n",
       "      <td>letter</td>\n",
       "      <td>22</td>\n",
       "      <td>18</td>\n",
       "      <td>10</td>\n",
       "    </tr>\n",
       "  </tbody>\n",
       "</table>\n",
       "</div>"
      ],
      "text/plain": [
       "    group  method  category1  category2  category3\n",
       "0  group1   email         10          5          1\n",
       "1  group1     fax         11         10          6\n",
       "2  group1  letter         25         19         13\n",
       "3  group2   email          6          4          2\n",
       "4  group2     fax         12         10          8\n",
       "5  group2  letter         22         18         10\n",
       "6  group3   email          6          4          2\n",
       "7  group3     fax         12         10          8\n",
       "8  group3  letter         22         18         10"
      ]
     },
     "execution_count": 1,
     "metadata": {},
     "output_type": "execute_result"
    }
   ],
   "source": [
    "# Set up a dataframe as follows such that each CATEGORY (colour) is a separate column\n",
    "\n",
    "\n",
    "import pandas as pd \n",
    "  \n",
    "# initialize list of lists \n",
    "data = [['group1', \"email\",  10,  5,  1], ['group1', \"fax\",  11,  10,  6], ['group1', \"letter\",  25,  19,  13],\n",
    "        ['group2', \"email\", 6,  4,  2], ['group2', \"fax\",  12,  10,  8], ['group2', \"letter\",  22,  18,  10],\n",
    "        ['group3', \"email\", 6,  4,  2], ['group3', \"fax\",  12,  10,  8], ['group3', \"letter\",  22,  18,  10]]\n",
    "  \n",
    "# Create the pandas DataFrame \n",
    "df = pd.DataFrame(data, columns = ['group', 'method', 'category1', 'category2', 'category3']) \n",
    "\n",
    "df"
   ]
  },
  {
   "cell_type": "markdown",
   "metadata": {},
   "source": [
    "## Set up group spacing along x axis\n",
    "\n",
    "NB this assumes that all groups and methods repeat"
   ]
  },
  {
   "cell_type": "code",
   "execution_count": 2,
   "metadata": {},
   "outputs": [
    {
     "data": {
      "text/plain": [
       "array([ 0,  1,  2,  4,  5,  6,  8,  9, 10])"
      ]
     },
     "execution_count": 2,
     "metadata": {},
     "output_type": "execute_result"
    }
   ],
   "source": [
    "import numpy as np\n",
    "\n",
    "#count how many \"groups\" and how many \"methods\"\n",
    "ngroups = df[\"group\"].nunique()\n",
    "nmethods = df[\"method\"].nunique()\n",
    "\n",
    "# create a number sequence with the number of spaces on x axis required\n",
    "ind = np.arange(0,df[\"group\"].count()+ df[\"group\"].nunique()-1)\n",
    "\n",
    "# create a sequence of the positions where no data will be plotted (ie. the gaps between categories)\n",
    "index = np.arange(nmethods,len(ind),nmethods+1)\n",
    "\n",
    "new_ind = np.delete(ind, index)\n",
    "\n",
    "new_ind\n"
   ]
  },
  {
   "cell_type": "markdown",
   "metadata": {},
   "source": [
    "# create chart"
   ]
  },
  {
   "cell_type": "code",
   "execution_count": 3,
   "metadata": {},
   "outputs": [
    {
     "data": {
      "image/png": "[encoded data removed]",
      "text/plain": [
       "<matplotlib.figure.Figure at 0x18d3a2757b8>"
      ]
     },
     "metadata": {},
     "output_type": "display_data"
    }
   ],
   "source": [
    "\n",
    "\n",
    "# set required details:\n",
    "ylabel = \"ylabel\"\n",
    "colors = [\"green\",\"cyan\",\"blue\"]\n",
    "\n",
    "\n",
    "import matplotlib.pyplot as plt\n",
    "from matplotlib import gridspec\n",
    "\n",
    "\n",
    "fig = plt.subplots(figsize=(15,8))\n",
    "\n",
    "#gs = gridspec.GridSpec(1, 2, width_ratios=[2, 3]) \n",
    "\n",
    "#ax0 = plt.subplot(gs[0])\n",
    "\n",
    "width = 0.7       # the width of the bars\n",
    "\n",
    "bottom = pd.DataFrame(0, index=np.arange(0, df.shape[0]), columns=np.arange(1))\n",
    "\n",
    "for n in np.arange(1,len(df.columns)-1):\n",
    "    bottom[n] = df[df.columns[n+1]] + bottom[n-1] \n",
    "    if n==1:\n",
    "        p1 = plt.bar(new_ind, df[df.columns[n+1]], width, color=colors[n-1])\n",
    "    else:\n",
    "        p2 = plt.bar(new_ind, df[df.columns[n+1]], width, bottom=bottom[n-1], color=colors[n-1])\n",
    "        c = p2[0]\n",
    "\n",
    "plt.ylabel(ylabel, size=16)\n",
    "plt.yticks(size=14)\n",
    "\n",
    "plt.xticks(new_ind, df['method'], size=14,  rotation='vertical')\n",
    "plt.xlabel(pd.Series(df['group'].unique()).to_string(), size=20)\n",
    "\n",
    "plt.legend((p1[0], p2[0], p2[0]), (\"no prior clicks or views\",\"clicked in earlier wave\",\"page views during baseline\"),fontsize=16)\n",
    "\n",
    "plt.tight_layout()\n",
    "plt.show()\n"
   ]
  },
  {
   "cell_type": "code",
   "execution_count": null,
   "metadata": {
    "collapsed": true
   },
   "outputs": [],
   "source": []
  }
 ],
 "metadata": {
  "kernelspec": {
   "display_name": "Python 3",
   "language": "python",
   "name": "python3"
  },
  "language_info": {
   "codemirror_mode": {
    "name": "ipython",
    "version": 3
   },
   "file_extension": ".py",
   "mimetype": "text/x-python",
   "name": "python",
   "nbconvert_exporter": "python",
   "pygments_lexer": "ipython3",
   "version": "3.6.3"
  }
 },
 "nbformat": 4,
 "nbformat_minor": 2
}
