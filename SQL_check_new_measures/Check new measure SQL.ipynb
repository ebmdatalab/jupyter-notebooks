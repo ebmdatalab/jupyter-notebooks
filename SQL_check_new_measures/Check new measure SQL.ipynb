{
 "cells": [
  {
   "cell_type": "code",
   "execution_count": 1,
   "metadata": {
    "hideCode": false,
    "hidePrompt": false
   },
   "outputs": [],
   "source": [
    "import pandas as pd\n",
    "import numpy as np\n",
    "import matplotlib\n",
    "import matplotlib.pyplot as plt\n",
    "from ebmdatalab import bq"
   ]
  },
  {
   "cell_type": "code",
   "execution_count": 2,
   "metadata": {
    "hideCode": false,
    "hidePrompt": false
   },
   "outputs": [
    {
     "name": "stderr",
     "output_type": "stream",
     "text": [
      "C:\\Users\\racro\\Anaconda3\\lib\\site-packages\\pandas\\io\\gbq.py:108: FutureWarning: verbose is deprecated and will be removed in a future version. Set logging level in order to vary verbosity\n",
      "  **kwargs)\n"
     ]
    }
   ],
   "source": [
    "#get table names for CCG measures where staging table = live measure table\n",
    "\n",
    "sql = \"\"\"\n",
    "SELECT\n",
    " staging.*\n",
    "FROM\n",
    " staging_measures.INFORMATION_SCHEMA.TABLES as staging --staging table schema\n",
    " join measures.INFORMATION_SCHEMA.TABLES as live --live table schema\n",
    "on staging.table_name=live.table_name --join tables\n",
    " where\n",
    " staging.table_name like 'ccg%'\n",
    " order by staging.creation_time DESC\n",
    "\n",
    "\"\"\"\n",
    "table_df = bq.cached_read(sql, csv_path='staging_df.csv', use_cache=False)"
   ]
  },
  {
   "cell_type": "code",
   "execution_count": 3,
   "metadata": {
    "hideCode": false,
    "hidePrompt": false
   },
   "outputs": [],
   "source": [
    "##create dataframe consisting of all staging and live measure, calculating difference between two\n",
    "staging_df=pd.DataFrame()\n",
    "\n",
    "#create for next loop to go through each table name in the previous query\n",
    "for table_name in table_df['table_name']:\n",
    "    \n",
    "    sql = \"\"\"\n",
    "    SELECT\n",
    "      '{}' AS table_name, --selects current table name in for next loop\n",
    "      ROUND(SUM(a.numerator)-SUM(b.numerator),0) AS num_dif, --calculates difference between staging and live numerators\n",
    "      ROUND(SUM(a.denominator)-SUM(b.denominator),0) AS den_dif --calculates difference between staging and live denominators\n",
    "    FROM\n",
    "      `ebmdatalab.staging_measures.{}` AS a\n",
    "    INNER JOIN\n",
    "      `ebmdatalab.measures.{}` AS b\n",
    "    ON\n",
    "      a.month = b.month\n",
    "      AND a.pct_id = b.pct_id\n",
    "    GROUP BY\n",
    "      table_name\n",
    "    \"\"\"\n",
    "    \n",
    "    sql = sql.format(table_name, table_name, table_name) #using python string to add table_name to SQL\n",
    "    #concatenate each table name into single file during for next loop\n",
    "    staging_df = pd.concat([staging_df, bq.cached_read(sql, '{}_staging_df.csv'.format(table_name), use_cache=True)])\n",
    "    #save as csv\n",
    "    staging_df.to_csv(\"stagingtest.csv\")"
   ]
  },
  {
   "cell_type": "code",
   "execution_count": 5,
   "metadata": {
    "hideCode": false,
    "hidePrompt": false
   },
   "outputs": [
    {
     "data": {
      "text/html": [
       "<div>\n",
       "<style scoped>\n",
       "    .dataframe tbody tr th:only-of-type {\n",
       "        vertical-align: middle;\n",
       "    }\n",
       "\n",
       "    .dataframe tbody tr th {\n",
       "        vertical-align: top;\n",
       "    }\n",
       "\n",
       "    .dataframe thead th {\n",
       "        text-align: right;\n",
       "    }\n",
       "</style>\n",
       "<table border=\"1\" class=\"dataframe\">\n",
       "  <thead>\n",
       "    <tr style=\"text-align: right;\">\n",
       "      <th></th>\n",
       "      <th>table_name</th>\n",
       "      <th>num_dif</th>\n",
       "      <th>den_dif</th>\n",
       "    </tr>\n",
       "  </thead>\n",
       "  <tbody>\n",
       "    <tr>\n",
       "      <th>0</th>\n",
       "      <td>ccg_data_ppi</td>\n",
       "      <td>0.0</td>\n",
       "      <td>328290.0</td>\n",
       "    </tr>\n",
       "    <tr>\n",
       "      <th>0</th>\n",
       "      <td>ccg_data_lpglucosamine</td>\n",
       "      <td>-283.0</td>\n",
       "      <td>0.0</td>\n",
       "    </tr>\n",
       "    <tr>\n",
       "      <th>0</th>\n",
       "      <td>ccg_data_lpbathshoweremollients</td>\n",
       "      <td>30257952.0</td>\n",
       "      <td>0.0</td>\n",
       "    </tr>\n",
       "  </tbody>\n",
       "</table>\n",
       "</div>"
      ],
      "text/plain": [
       "                        table_name     num_dif   den_dif\n",
       "0                     ccg_data_ppi         0.0  328290.0\n",
       "0           ccg_data_lpglucosamine      -283.0       0.0\n",
       "0  ccg_data_lpbathshoweremollients  30257952.0       0.0"
      ]
     },
     "execution_count": 5,
     "metadata": {},
     "output_type": "execute_result"
    }
   ],
   "source": [
    "#removes any rows where the staging table is the same as live table, showing just where there are differences\n",
    "staging_df.loc[(staging_df[\"num_dif\"]!=0) | (staging_df[\"den_dif\"]!=0)]"
   ]
  }
 ],
 "metadata": {
  "hide_code_all_hidden": false,
  "kernelspec": {
   "display_name": "Python 3",
   "language": "python",
   "name": "python3"
  },
  "language_info": {
   "codemirror_mode": {
    "name": "ipython",
    "version": 3
   },
   "file_extension": ".py",
   "mimetype": "text/x-python",
   "name": "python",
   "nbconvert_exporter": "python",
   "pygments_lexer": "ipython3",
   "version": "3.7.1"
  }
 },
 "nbformat": 4,
 "nbformat_minor": 2
}
