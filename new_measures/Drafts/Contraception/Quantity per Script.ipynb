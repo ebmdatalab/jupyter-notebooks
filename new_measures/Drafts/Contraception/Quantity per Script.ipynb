{
 "cells": [
  {
   "cell_type": "markdown",
   "metadata": {},
   "source": [
    "### Rationale\n",
    "Recently a tweet went viral about the administrative burdern of taking contraception and the author has set out the issues in a Stylist issue [here](https://www.stylist.co.uk/life/contraceptive-pill-coil-pharmacies-out-of-stock-inconvenience-viral-twitter-thread/278249). There are many aspects to the administrative burden descriebed shortages, cancelled appointments etc. but one aspect covered is the prescription duration. The author identified that there appears to be no rhyme or reason to whether a GP issues 3, 6 or 12 months. Our previous work (draft paper nearly ready to ship) has identified that there actually some factors associated with the prescription duration. After our recent development of importing raw quantity on to OpenPrescribing, this notebook seeks to describe the duration of common contraceptives issued by general practices across England.  \n",
    "\n"
   ]
  },
  {
   "cell_type": "code",
   "execution_count": null,
   "metadata": {},
   "outputs": [],
   "source": []
  }
 ],
 "metadata": {
  "kernelspec": {
   "display_name": "Python 3",
   "language": "python",
   "name": "python3"
  },
  "language_info": {
   "codemirror_mode": {
    "name": "ipython",
    "version": 3
   },
   "file_extension": ".py",
   "mimetype": "text/x-python",
   "name": "python",
   "nbconvert_exporter": "python",
   "pygments_lexer": "ipython3",
   "version": "3.6.5"
  }
 },
 "nbformat": 4,
 "nbformat_minor": 2
}
