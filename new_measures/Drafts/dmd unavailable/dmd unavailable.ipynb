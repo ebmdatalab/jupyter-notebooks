{
 "cells": [
  {
   "cell_type": "markdown",
   "metadata": {},
   "source": [
    "The NHS dm+d contains a flag which marks if something is unavalable. A related [notebook](https://gist.github.com/sebbacon/317938750ea79e6291ae2cac51a0d31b) uncovered reimbursement against a prouct which dm+d reports as unavailable for the last five years. Here we invesitigate reimbursement of unavailable products."
   ]
  },
  {
   "cell_type": "code",
   "execution_count": 1,
   "metadata": {},
   "outputs": [],
   "source": [
    "##importing libraries\n",
    "import pandas as pd\n",
    "import numpy as np\n",
    "from ebmdatalab import bq, maps, charts\n",
    "import matplotlib.pyplot as plt\n",
    "import matplotlib.gridspec as gridspec\n",
    "import matplotlib.dates as mdates"
   ]
  },
  {
   "cell_type": "code",
   "execution_count": 2,
   "metadata": {},
   "outputs": [],
   "source": [
    "##ensure £ and pence are set right\n",
    "pd.set_option('display.float_format', lambda x: '%.2f' % x)"
   ]
  },
  {
   "cell_type": "markdown",
   "metadata": {},
   "source": [
    "There is a flag at vmp level relating to availability where all AMP(P) should be unavailable according to the documentation of dm+d"
   ]
  },
  {
   "cell_type": "code",
   "execution_count": 3,
   "metadata": {},
   "outputs": [
    {
     "data": {
      "text/html": [
       "<div>\n",
       "<style scoped>\n",
       "    .dataframe tbody tr th:only-of-type {\n",
       "        vertical-align: middle;\n",
       "    }\n",
       "\n",
       "    .dataframe tbody tr th {\n",
       "        vertical-align: top;\n",
       "    }\n",
       "\n",
       "    .dataframe thead th {\n",
       "        text-align: right;\n",
       "    }\n",
       "</style>\n",
       "<table border=\"1\" class=\"dataframe\">\n",
       "  <thead>\n",
       "    <tr style=\"text-align: right;\">\n",
       "      <th></th>\n",
       "      <th>Date</th>\n",
       "      <th>supplier</th>\n",
       "      <th>bnf_name</th>\n",
       "      <th>bnf_code</th>\n",
       "      <th>id</th>\n",
       "      <th>non_availdt</th>\n",
       "      <th>Items</th>\n",
       "      <th>actual_Cost</th>\n",
       "    </tr>\n",
       "  </thead>\n",
       "  <tbody>\n",
       "    <tr>\n",
       "      <th>0</th>\n",
       "      <td>2019-04-01</td>\n",
       "      <td>TPP</td>\n",
       "      <td>Alum Hydrox_Cap 475mg</td>\n",
       "      <td>0101010C0AAAAAA</td>\n",
       "      <td>316937008</td>\n",
       "      <td>2019-05-15</td>\n",
       "      <td>2</td>\n",
       "      <td>24.75</td>\n",
       "    </tr>\n",
       "    <tr>\n",
       "      <th>1</th>\n",
       "      <td>2019-04-01</td>\n",
       "      <td>TPP</td>\n",
       "      <td>K-Y Lubri Jelly</td>\n",
       "      <td>21140000005</td>\n",
       "      <td>34159511000001108</td>\n",
       "      <td>2019-02-01</td>\n",
       "      <td>1</td>\n",
       "      <td>2.18</td>\n",
       "    </tr>\n",
       "    <tr>\n",
       "      <th>2</th>\n",
       "      <td>2019-04-01</td>\n",
       "      <td>TPP</td>\n",
       "      <td>Nutramigen 2 LIPIL_Pdr</td>\n",
       "      <td>090401000BBLPA0</td>\n",
       "      <td>5174311000001105</td>\n",
       "      <td>2017-06-06</td>\n",
       "      <td>1</td>\n",
       "      <td>51.07</td>\n",
       "    </tr>\n",
       "    <tr>\n",
       "      <th>3</th>\n",
       "      <td>2019-04-01</td>\n",
       "      <td>TPP</td>\n",
       "      <td>SMA_Gold Prem 2 Milk</td>\n",
       "      <td>090900000BBKPA0</td>\n",
       "      <td>20594911000001102</td>\n",
       "      <td>2017-12-11</td>\n",
       "      <td>2</td>\n",
       "      <td>15.26</td>\n",
       "    </tr>\n",
       "    <tr>\n",
       "      <th>4</th>\n",
       "      <td>2019-04-01</td>\n",
       "      <td>TPP</td>\n",
       "      <td>Nifedipine_Cap 10mg</td>\n",
       "      <td>0206020R0AAABAB</td>\n",
       "      <td>319223009</td>\n",
       "      <td>2019-03-18</td>\n",
       "      <td>6</td>\n",
       "      <td>38.21</td>\n",
       "    </tr>\n",
       "    <tr>\n",
       "      <th>5</th>\n",
       "      <td>2019-04-01</td>\n",
       "      <td>Vision</td>\n",
       "      <td>Nifedipine_Cap 10mg</td>\n",
       "      <td>0206020R0AAABAB</td>\n",
       "      <td>319223009</td>\n",
       "      <td>2019-03-18</td>\n",
       "      <td>2</td>\n",
       "      <td>15.34</td>\n",
       "    </tr>\n",
       "    <tr>\n",
       "      <th>6</th>\n",
       "      <td>2019-04-01</td>\n",
       "      <td>EMIS</td>\n",
       "      <td>SMA_PRO Anti-reflux Pdr</td>\n",
       "      <td>090900000BBLHA0</td>\n",
       "      <td>35308011000001100</td>\n",
       "      <td>2019-03-12</td>\n",
       "      <td>2</td>\n",
       "      <td>28.27</td>\n",
       "    </tr>\n",
       "    <tr>\n",
       "      <th>7</th>\n",
       "      <td>2019-04-01</td>\n",
       "      <td>EMIS</td>\n",
       "      <td>Nifedipine_Cap 10mg</td>\n",
       "      <td>0206020R0AAABAB</td>\n",
       "      <td>319223009</td>\n",
       "      <td>2019-03-18</td>\n",
       "      <td>3</td>\n",
       "      <td>32.60</td>\n",
       "    </tr>\n",
       "    <tr>\n",
       "      <th>8</th>\n",
       "      <td>2019-04-01</td>\n",
       "      <td>TPP</td>\n",
       "      <td>Salbutamol_Inha 100mcg (200 D)</td>\n",
       "      <td>0301011R0AAAAAA</td>\n",
       "      <td>35936511000001108</td>\n",
       "      <td>2009-02-25</td>\n",
       "      <td>6</td>\n",
       "      <td>12.62</td>\n",
       "    </tr>\n",
       "    <tr>\n",
       "      <th>9</th>\n",
       "      <td>2019-04-01</td>\n",
       "      <td>Vision</td>\n",
       "      <td>SMA_PRO Gold Prem 2 Liq</td>\n",
       "      <td>090900000BBLEA0</td>\n",
       "      <td>33665811000001102</td>\n",
       "      <td>2019-03-12</td>\n",
       "      <td>1</td>\n",
       "      <td>6.11</td>\n",
       "    </tr>\n",
       "  </tbody>\n",
       "</table>\n",
       "</div>"
      ],
      "text/plain": [
       "         Date supplier                        bnf_name         bnf_code  \\\n",
       "0  2019-04-01      TPP           Alum Hydrox_Cap 475mg  0101010C0AAAAAA   \n",
       "1  2019-04-01      TPP                 K-Y Lubri Jelly      21140000005   \n",
       "2  2019-04-01      TPP          Nutramigen 2 LIPIL_Pdr  090401000BBLPA0   \n",
       "3  2019-04-01      TPP            SMA_Gold Prem 2 Milk  090900000BBKPA0   \n",
       "4  2019-04-01      TPP             Nifedipine_Cap 10mg  0206020R0AAABAB   \n",
       "5  2019-04-01   Vision             Nifedipine_Cap 10mg  0206020R0AAABAB   \n",
       "6  2019-04-01     EMIS         SMA_PRO Anti-reflux Pdr  090900000BBLHA0   \n",
       "7  2019-04-01     EMIS             Nifedipine_Cap 10mg  0206020R0AAABAB   \n",
       "8  2019-04-01      TPP  Salbutamol_Inha 100mcg (200 D)  0301011R0AAAAAA   \n",
       "9  2019-04-01   Vision         SMA_PRO Gold Prem 2 Liq  090900000BBLEA0   \n",
       "\n",
       "                  id non_availdt  Items  actual_Cost  \n",
       "0          316937008  2019-05-15      2        24.75  \n",
       "1  34159511000001108  2019-02-01      1         2.18  \n",
       "2   5174311000001105  2017-06-06      1        51.07  \n",
       "3  20594911000001102  2017-12-11      2        15.26  \n",
       "4          319223009  2019-03-18      6        38.21  \n",
       "5          319223009  2019-03-18      2        15.34  \n",
       "6  35308011000001100  2019-03-12      2        28.27  \n",
       "7          319223009  2019-03-18      3        32.60  \n",
       "8  35936511000001108  2009-02-25      6        12.62  \n",
       "9  33665811000001102  2019-03-12      1         6.11  "
      ]
     },
     "execution_count": 3,
     "metadata": {},
     "output_type": "execute_result"
    }
   ],
   "source": [
    "sql = '''\n",
    "SELECT\n",
    "  Date,\n",
    "  TRIM(Principal_Supplier) AS supplier,\n",
    "  bnf_name,\n",
    "  presc.bnf_code,\n",
    "  vmp.id,\n",
    "  non_availdt,\n",
    "  Items,\n",
    "  actual_Cost\n",
    "FROM\n",
    "  ebmdatalab.hscic.prescribing_2019_04 AS presc ##latest month\n",
    "Inner JOIN\n",
    "  ebmdatalab.dmd.vmp AS vmp\n",
    "ON\n",
    "  presc.bnf_code = vmp.bnf_code\n",
    "JOIN\n",
    "  ebmdatalab.alex.vendors AS software #this is where the up to date vendors table is held\n",
    "ON\n",
    "  software.ODS = presc.practice\n",
    "  AND Date = presc.month\n",
    "WHERE\n",
    "  non_avail = 1 ###1 = Actual Products not Available\n",
    "  AND presc.bnf_code != \"190203000BBAAA0\" ## exclude hompathay that has only one bnf code for all VMPs\n",
    "GROUP BY\n",
    "  Date,\n",
    "  supplier,\n",
    "  bnf_name,\n",
    "  presc.bnf_code,\n",
    "  vmp.id,\n",
    "  non_avail,\n",
    "  non_availdt,\n",
    "  Items,\n",
    "  actual_Cost\n",
    "'''\n",
    "\n",
    "\n",
    "\n",
    "df_unavailable_vmp = bq.cached_read(sql, csv_path='amp_dmd_unavailable_vmp.csv')\n",
    "df_unavailable_vmp.head(10)"
   ]
  },
  {
   "cell_type": "markdown",
   "metadata": {},
   "source": [
    "## April Totals"
   ]
  },
  {
   "cell_type": "code",
   "execution_count": 4,
   "metadata": {},
   "outputs": [
    {
     "data": {
      "text/plain": [
       "Items             12094\n",
       "actual_Cost   240786.22\n",
       "dtype: object"
      ]
     },
     "execution_count": 4,
     "metadata": {},
     "output_type": "execute_result"
    }
   ],
   "source": [
    "\n",
    "df_unavailable_vmp.sum()[['Items','actual_Cost']]"
   ]
  },
  {
   "cell_type": "markdown",
   "metadata": {},
   "source": [
    "Aproxmately £250K was spent on items that are not available in April 2019. £113k on products (see below) that have been not available for more than 12 months."
   ]
  },
  {
   "cell_type": "code",
   "execution_count": 5,
   "metadata": {},
   "outputs": [
    {
     "data": {
      "text/plain": [
       "array(['Alum Hydrox_Cap 475mg', 'K-Y Lubri Jelly',\n",
       "       'Nutramigen 2 LIPIL_Pdr', 'SMA_Gold Prem 2 Milk',\n",
       "       'Nifedipine_Cap 10mg', 'SMA_PRO Anti-reflux Pdr',\n",
       "       'Salbutamol_Inha 100mcg (200 D)', 'SMA_PRO Gold Prem 2 Liq',\n",
       "       'Nifedipine_Cap 5mg', 'Diltiazem HCl_Cap 60mg M/R',\n",
       "       'SMA_PRO High Energy Liq', 'SMA_PRO Gold Prem 2 Pdr',\n",
       "       'Acetic Acid_Ear Spy 2% 5ml',\n",
       "       'Midazolam_OromucSoln 7.5mg/1.5mlPfos S/F',\n",
       "       'U100 Syrg Sle Use 1ml + 12mm Needle-Ster Hypod Syrg',\n",
       "       'Diazepam_Oral Soln 2mg/5ml',\n",
       "       'Surg Suture W319 Ethilon Non-Absorb Ster Polyam 6 Monof',\n",
       "       'Colecal & Calc_Tab 800u/1.25g',\n",
       "       'Midazolam_Oromuc Soln 5mg/1ml Pfos S/F', 'Olive Oil_Ear Dps',\n",
       "       'Fresubin 2kcal_Drink S/Pack', 'LittleVit_Multivit Dps',\n",
       "       'Surg Suture W320 Ethilon Non-Absorb Ster Polyam 6 Monof',\n",
       "       'Clonazepam_Liq Spec 2mg/5ml', 'Nutramigen 1 LIPIL_Pdr',\n",
       "       'Mexiletine HCl_Tab 200mg', 'Verapamil HCl_Cap 120mg M/R',\n",
       "       'Nedocromil Sod_Eye Dps Aq 2%',\n",
       "       'SMA_High Energy Milk Ready To Use',\n",
       "       'Surg Suture W1615T Ethilon Non-Absorb Ster Polyam 6 Monof',\n",
       "       'U100 Syrg Sle Use 0.5ml + 12mm Needle-Ster Hypod Syrg',\n",
       "       'Midazolam_Oromuc Soln 10mg/2ml Pfos S/F',\n",
       "       'Clobazam_Liq Spec 500mcg/5ml', 'Verapamil HCl_Cap 240mg M/R',\n",
       "       'SMA_Gold Prem 2 Catch-up For Pdr', 'Salic Acid_Oint 10%',\n",
       "       'Erythromycin_Cap E/C 250mg', 'Cefaclor_Cap 250mg',\n",
       "       'Salbut/Ipratrop_NebSoln 2.5/.5/2.5ml Amp',\n",
       "       'Prednisone_Tab 5mg M/R', 'Glycerol_Crm 25%',\n",
       "       'Diazepam_Liq Spec 10mg/5ml', 'Mesalazine_Suppos 250mg',\n",
       "       'Menthol_Gel 2%', 'E45_Intense Recovery Lot', 'SMA_Staydown Pdr',\n",
       "       'Tramadol HCl_Tab 75mg M/R', 'Low Fat 1+ Module_Pdr',\n",
       "       'Resource_Dessert Energy (3 Flav)',\n",
       "       'Silver Nit Caustic_Applic 75%',\n",
       "       'Kliniderm fiber cmc 10cm x 10cm Wound Dress Protease Matrix',\n",
       "       'Zafirlukast_Tab 20mg', 'Fresubin Energy_Liq S/Pack',\n",
       "       'Chlordiazepox HCl_Tab 10mg',\n",
       "       'U100 Kendall Magellan Sle Use 1ml+8mm Safety Needle-Ster',\n",
       "       'Fresubin Jucy_Drink S/Pack', 'Otovent Inflation Dev Auto',\n",
       "       'Hydrocort/Pramocaine_Foam Enema (40D)',\n",
       "       'Clobetasol Prop_Foam Aero 500mcg/g 100g',\n",
       "       'Leuprorelin Acet_Inj 3.75mg Vl + Dil',\n",
       "       'Milex Slc Arcing-Arcing Spring(TypeC)Vag Diaph Contracep Dev',\n",
       "       'Midazolam_OromucSoln 2.5mg/0.5mlPfos S/F',\n",
       "       'Hepat B_Vac 10mcg/ml 1ml Pfs',\n",
       "       'Allevyn Gentle 5cm x 5cm Wound Dress Soft Polymer',\n",
       "       'Beclomet Diprop_Inha B/A 50mcg (200 D)',\n",
       "       'Influenza_Vac Surf/Antgn Inact 0.5ml Pfs',\n",
       "       'K Press Size 25-32cm (8cm) 8cm x 10.5m M/Layer Compress Band',\n",
       "       'Milex Slc Omniflex-Coil Spring(TypeB)Vag Diaph Contracep Dev',\n",
       "       'Cefixime_Tab 400mg', 'Timolol_Eye Dps 0.5% Ud',\n",
       "       'buddy 30mm Top + 20mm Lower Apertures Isolated Wound Prote',\n",
       "       'Sod Cromoglicate_Aq Nsl Spy 4% 22ml',\n",
       "       'Testosterone Undecan_Inj 250mg/ml 4mlAmp',\n",
       "       'Fluphenazine Decan_Inj 25mg/ml 2ml Amp',\n",
       "       'Diamorph HCl_Inj 10mg Vl (Dry)', 'Sildenafil_Tab Chble 100mg S/F',\n",
       "       'Methotrexate_Inj 10mg/0.2ml Pfs',\n",
       "       'Methotrexate_Inj 20mg/0.4ml Pfs',\n",
       "       'Salic Acid/Lactic Acid_Gel 11%/4%', 'Emedastine_Eye Dps 0.5mg/ml',\n",
       "       'Diamorph HCl_Inj 5mg Vl (Dry)', 'Sod Cit_Gran Sach 4g',\n",
       "       'Donepezil HCl_Orodisper Tab 10mg', 'Hypromellose_Eye Dps 1%',\n",
       "       'Rimexolone_Eye Dps 10mg/ml', 'Gppe Ear Dps_Earex',\n",
       "       'Carteolol HCl_Eye Dps 2%',\n",
       "       'Kliniderm fiber cmc 5cm x 5cm Wound Dress Protease Matrix',\n",
       "       'Methotrexate_Inj 15mg/0.3ml Pfs', 'Lubiprostone_Cap 24mcg',\n",
       "       'Lido HCl/Cetalkonium Chlor_Gel .33%/.01%',\n",
       "       'Kliniderm fiber cmc 15cm x 15cm Wound Dress Protease Matrix',\n",
       "       'Macrogol_Co Oral Pdr Sach', 'Valsartan_Tab 80mg',\n",
       "       'Verapamil HCl_Cap 180mg M/R', 'Donepezil HCl_Orodisper Tab 5mg',\n",
       "       'Estradiol/Drospirenone_Tab 1mg/2mg',\n",
       "       'Metoprolol Tart_Tab 200mg M/R', 'Bambuterol HCl_Tab 20mg',\n",
       "       'Minocycline HCl_Cap 50mg', 'Co-Zidocapt_Tab 25mg/50mg',\n",
       "       'Etodolac_Cap 300mg', 'Fenofibrate_Cap 200mg',\n",
       "       'Ispag Husk_Gran Sach 3.5g G/F S/F', 'Octenisan_Nsl Gel',\n",
       "       'Ascorbic Acid/Zn Cit_Tab Eff 1g/10mg',\n",
       "       'Timolol_Eye Dps 0.25% 0.2ml Ud P/F', 'Hydrocort/Urea_Crm 1%/10%',\n",
       "       'Fluocinolone/Neomycin_Crm 0.025%/0.5%',\n",
       "       'Macrogol 4000_Pdr Sach 10g S/F', 'Sod Chlor_Inj 0.9% 10ml Vl',\n",
       "       'Carbomer_Eye Gel 0.35%', 'Wool Fat_Oint',\n",
       "       'Clobazam_Liq Spec 5mg/5ml', 'Senna_Oral Soln 7.5mg/5ml',\n",
       "       'Cefaclor_Oral Susp 250mg/5ml S/F',\n",
       "       'Paracet_Oral Soln Paed 120mg/5ml',\n",
       "       'Cefaclor_Oral Susp 125mg/5ml S/F',\n",
       "       'U100 Kendall Magellan Sle Use 0.5ml+8mm Safety Needle-Ster',\n",
       "       'U100 Kendall Magellan Sle Use 0.5ml+12mm Safety Needle-Ster',\n",
       "       'Fluocinolone Aceton_Crm 0.0025%',\n",
       "       'U100 Kendall Magellan Sle Use 0.3ml+8mm Safety Needle-Ster',\n",
       "       'U100 Kendall Magellan Sle Use 0.3ml+12mm Safety Needle-Ster',\n",
       "       'Colistimeth Sod_Neb Pdr 2mega u', 'Glucosamine HCl_Tab 625mg',\n",
       "       'Amiloride HCl/Cyclopenth_Tab 2.5/0.25mg',\n",
       "       'Nicardipine HCl_Cap 30mg M/R',\n",
       "       'Perindopril Erbum/Indapam_Tab 4mg/1.25mg',\n",
       "       'Naproxen_Tab 500mg M/R', 'Acemetacin_Cap 60mg',\n",
       "       'Calcipotriol_Crm 50mcg/1g',\n",
       "       'U100 Kendall Magellan Sle Use 1ml+12mm Safety Needle-Ster',\n",
       "       'Deferiprone_Tab 500mg', 'Phenylbutazone_Tab 100mg',\n",
       "       'Alverine Cit/Simeticone_Cap 60mg/300mg',\n",
       "       'Seven Seas_Essentials Cran Fte Cap 200mg', 'Glycerol_Crm 40%',\n",
       "       'Aminophylline_Tab 225mg M/R', 'Everolimus_Tab 500mcg',\n",
       "       'Clobazam_Liq Spec 25mg/5ml', 'Deferiprone_Tab 1g',\n",
       "       'Tobramycin_Inj 40mg/ml 1ml Vl', 'Triclosan_Liq 1%',\n",
       "       'Clobazam_Liq Spec 100mg/5ml',\n",
       "       'Diclofenac Sod_Tab Disper 50mg S/F',\n",
       "       'Alum Ox_Paste 38.09% (Fine Particles)',\n",
       "       'Miconazole Nit_Vag Cap 1200mg',\n",
       "       'Meningoc_Vac A+C+W135+Y 0.5ml Vl + Dil',\n",
       "       'Ibuprofen_Foam Aero 5% 125g',\n",
       "       'Leuprorelin Acet_Inj 11.25mg Vl + Dil',\n",
       "       'Beclomet Diprop_Inha 50mcg (200D)', 'Vitasavoury_S/Pack Pdr',\n",
       "       'Sildenafil_Tab Chble 50mg S/F', 'Methotrexate_Inj 25mg/0.5ml Pfs',\n",
       "       'K Press Size 0 (Short)10cm x 6.5m M/Layer Compress Bandaging',\n",
       "       'Bisoprolol/Aspirin_Cap 5mg/75mg',\n",
       "       'Fluphenazine Decan_Inj 100mg/ml 0.5ml Am',\n",
       "       'K Press Size 25-32cm(12cm)12cm x 10.5m M/Layer Compress Band',\n",
       "       'Sildenafil_Tab Chble 25mg S/F', 'Co-Danthrusate_Cap 50mg/60mg',\n",
       "       'Ketoprofen_Cap 50mg',\n",
       "       'Neria Soft 90SubcutaneousD/DeliveryAcc110cmTubing6mm/27Gauge',\n",
       "       'Colecal/Folic Acid_Cap 400u/400mcg', 'Prednisone_Tab 1mg M/R',\n",
       "       'Chlorhex Acet_Dust Pdr 1%', 'Clobazam_Liq Spec 2mg/5ml',\n",
       "       'Nicardipine HCl_Cap 45mg M/R', 'Cortaflex HA_Cap 200mg',\n",
       "       'Betameth_Tab 500mcg', 'Carbamazepine_Tab Chble 100mg',\n",
       "       'Clobazam_Liq Spec 2.5mg/5ml',\n",
       "       'E45_Derma Protect F/Act 24H Moist Spy',\n",
       "       'Perindopril/Indapamide_Tab 5mg/1.25mg', 'Vit E_Crm 50u/g',\n",
       "       'Cefalexin_Oral Susp 500mg/5ml', 'Senna_Tab 12mg',\n",
       "       'Sod Fluoride_Mthwsh 2%', 'Glycerol,Honey & Lem_Linct',\n",
       "       'Rivastigmine_Oral Soln 2mg/1ml',\n",
       "       'Pholcodine_Oral Soln 2mg/5ml S/F', 'Mesterolone_Tab 25mg',\n",
       "       'GA1 Maxamaid_Pdr', 'Nestle Nutrition_Flav Mix (4 Flav)',\n",
       "       'Pneumococcal_Vac 0.5ml Vl', 'Beclomet Diprop_Inha 250mcg (200D)',\n",
       "       'Beclomet Diprop_Inha 100mcg (200D)', 'Carteolol HCl_Eye Dps 1%',\n",
       "       'Ubidecarenone_Cap 10mg',\n",
       "       'Paracet/Phenyleph HCl_Pdr Sach 1g/12.2mg', 'AquaBan Herbal_Tab',\n",
       "       'Formaldehyde_Soln Gel 0.75%', 'Rosiglitazone_Tab 8mg',\n",
       "       'Co-Danthramer_Cap 25mg/200mg', 'Chlordiazepox HCl_Tab 5mg',\n",
       "       'Dithranol_Crm 3%', 'Progesterone_Inj Prep 100mg/2ml Amp',\n",
       "       'Eluxadoline_Tab 100mg', 'Ispag Husk_Pdr Sach 3.4g Orange S/F',\n",
       "       'Amitriptyline/Perphenazine_Tab 25mg/2mg', 'Isradipine_Tab 2.5mg',\n",
       "       'Ispag Husk_Pdr S/F'], dtype=object)"
      ]
     },
     "execution_count": 5,
     "metadata": {},
     "output_type": "execute_result"
    }
   ],
   "source": [
    "###lets look at individual products to get a sense check\n",
    "df_unavailable_vmp.bnf_name.unique()"
   ]
  },
  {
   "cell_type": "code",
   "execution_count": 6,
   "metadata": {},
   "outputs": [
    {
     "data": {
      "text/plain": [
       "201"
      ]
     },
     "execution_count": 6,
     "metadata": {},
     "output_type": "execute_result"
    }
   ],
   "source": [
    "##count the unique preparations\n",
    "df_unavailable_vmp.bnf_name.nunique()"
   ]
  },
  {
   "cell_type": "code",
   "execution_count": 7,
   "metadata": {},
   "outputs": [],
   "source": [
    "##this is a list of products that look like they may be available for checking\n",
    "interesting = ['Nifedipine_Cap 10mg', 'Estradiol/Drospirenone_Tab 1mg/2mg', 'Deferiprone_Tab 500mg', 'Nifedipine_Cap 5mg', 'Olive Oil_Ear Dps', 'Colistimeth Sod_Neb Pdr 2mega u']"
   ]
  },
  {
   "cell_type": "code",
   "execution_count": 8,
   "metadata": {},
   "outputs": [
    {
     "data": {
      "text/html": [
       "<div>\n",
       "<style scoped>\n",
       "    .dataframe tbody tr th:only-of-type {\n",
       "        vertical-align: middle;\n",
       "    }\n",
       "\n",
       "    .dataframe tbody tr th {\n",
       "        vertical-align: top;\n",
       "    }\n",
       "\n",
       "    .dataframe thead th {\n",
       "        text-align: right;\n",
       "    }\n",
       "</style>\n",
       "<table border=\"1\" class=\"dataframe\">\n",
       "  <thead>\n",
       "    <tr style=\"text-align: right;\">\n",
       "      <th></th>\n",
       "      <th>Date</th>\n",
       "      <th>supplier</th>\n",
       "      <th>bnf_name</th>\n",
       "      <th>bnf_code</th>\n",
       "      <th>id</th>\n",
       "      <th>non_availdt</th>\n",
       "      <th>Items</th>\n",
       "      <th>actual_Cost</th>\n",
       "    </tr>\n",
       "  </thead>\n",
       "  <tbody>\n",
       "    <tr>\n",
       "      <th>4</th>\n",
       "      <td>2019-04-01</td>\n",
       "      <td>TPP</td>\n",
       "      <td>Nifedipine_Cap 10mg</td>\n",
       "      <td>0206020R0AAABAB</td>\n",
       "      <td>319223009</td>\n",
       "      <td>2019-03-18</td>\n",
       "      <td>6</td>\n",
       "      <td>38.21</td>\n",
       "    </tr>\n",
       "    <tr>\n",
       "      <th>5</th>\n",
       "      <td>2019-04-01</td>\n",
       "      <td>Vision</td>\n",
       "      <td>Nifedipine_Cap 10mg</td>\n",
       "      <td>0206020R0AAABAB</td>\n",
       "      <td>319223009</td>\n",
       "      <td>2019-03-18</td>\n",
       "      <td>2</td>\n",
       "      <td>15.34</td>\n",
       "    </tr>\n",
       "    <tr>\n",
       "      <th>7</th>\n",
       "      <td>2019-04-01</td>\n",
       "      <td>EMIS</td>\n",
       "      <td>Nifedipine_Cap 10mg</td>\n",
       "      <td>0206020R0AAABAB</td>\n",
       "      <td>319223009</td>\n",
       "      <td>2019-03-18</td>\n",
       "      <td>3</td>\n",
       "      <td>32.60</td>\n",
       "    </tr>\n",
       "    <tr>\n",
       "      <th>11</th>\n",
       "      <td>2019-04-01</td>\n",
       "      <td>EMIS</td>\n",
       "      <td>Nifedipine_Cap 5mg</td>\n",
       "      <td>0206020R0AAAAAA</td>\n",
       "      <td>319222004</td>\n",
       "      <td>2019-02-18</td>\n",
       "      <td>6</td>\n",
       "      <td>8.14</td>\n",
       "    </tr>\n",
       "    <tr>\n",
       "      <th>15</th>\n",
       "      <td>2019-04-01</td>\n",
       "      <td>EMIS</td>\n",
       "      <td>Nifedipine_Cap 10mg</td>\n",
       "      <td>0206020R0AAABAB</td>\n",
       "      <td>319223009</td>\n",
       "      <td>2019-03-18</td>\n",
       "      <td>2</td>\n",
       "      <td>11.13</td>\n",
       "    </tr>\n",
       "  </tbody>\n",
       "</table>\n",
       "</div>"
      ],
      "text/plain": [
       "          Date supplier             bnf_name         bnf_code         id  \\\n",
       "4   2019-04-01      TPP  Nifedipine_Cap 10mg  0206020R0AAABAB  319223009   \n",
       "5   2019-04-01   Vision  Nifedipine_Cap 10mg  0206020R0AAABAB  319223009   \n",
       "7   2019-04-01     EMIS  Nifedipine_Cap 10mg  0206020R0AAABAB  319223009   \n",
       "11  2019-04-01     EMIS   Nifedipine_Cap 5mg  0206020R0AAAAAA  319222004   \n",
       "15  2019-04-01     EMIS  Nifedipine_Cap 10mg  0206020R0AAABAB  319223009   \n",
       "\n",
       "   non_availdt  Items  actual_Cost  \n",
       "4   2019-03-18      6        38.21  \n",
       "5   2019-03-18      2        15.34  \n",
       "7   2019-03-18      3        32.60  \n",
       "11  2019-02-18      6         8.14  \n",
       "15  2019-03-18      2        11.13  "
      ]
     },
     "execution_count": 8,
     "metadata": {},
     "output_type": "execute_result"
    }
   ],
   "source": [
    "df_unavailable_vmp[df_unavailable_vmp.bnf_name.isin(interesting)].head()"
   ]
  },
  {
   "cell_type": "markdown",
   "metadata": {},
   "source": [
    "Investigations cross referencing dm+browser, BNF and emc show that all of these idientified products are truly unavailable with this name and form. Some products have been discontinued e.g. nifedipine while others like Colistimeth Sod are possibly just cosmetic name or technical license changes"
   ]
  },
  {
   "cell_type": "markdown",
   "metadata": {},
   "source": [
    "It is unfair say that all products should not be reimbursed as there may be good reason for example a pharmacy may have excess stock on the shelf and have a supply lasting 2/3 months after discontinuation.Let us look at some cut off rationale\n",
    "\n",
    "- 2 months: System suppliers must update dm+d every 2months (although the file is updated weekly by BSA) based on eps dmd requirements\n",
    "- 6 months: This is the legal validity of a prescription\n",
    "- 2-12 to make an EHR curve"
   ]
  },
  {
   "cell_type": "code",
   "execution_count": 9,
   "metadata": {},
   "outputs": [
    {
     "data": {
      "text/plain": [
       "id            47239777004853075968.00\n",
       "Items                        11263.00\n",
       "actual_Cost                 227372.26\n",
       "dtype: float64"
      ]
     },
     "execution_count": 9,
     "metadata": {},
     "output_type": "execute_result"
    }
   ],
   "source": [
    "df_2months = df_unavailable_vmp.loc[(df_unavailable_vmp[\"non_availdt\"]<=\"2019-04-01\")]\n",
    "df_2months.sum(numeric_only=True)"
   ]
  },
  {
   "cell_type": "code",
   "execution_count": 10,
   "metadata": {},
   "outputs": [
    {
     "data": {
      "text/plain": [
       "id            17008990318162894848.00\n",
       "Items                         2562.00\n",
       "actual_Cost                 119097.21\n",
       "dtype: float64"
      ]
     },
     "execution_count": 10,
     "metadata": {},
     "output_type": "execute_result"
    }
   ],
   "source": [
    "df_6months = df_unavailable_vmp.loc[(df_unavailable_vmp[\"non_availdt\"]<=\"2018-12-01\")]\n",
    "df_6months.sum(numeric_only=True)"
   ]
  },
  {
   "cell_type": "code",
   "execution_count": 11,
   "metadata": {},
   "outputs": [
    {
     "data": {
      "text/html": [
       "<div>\n",
       "<style scoped>\n",
       "    .dataframe tbody tr th:only-of-type {\n",
       "        vertical-align: middle;\n",
       "    }\n",
       "\n",
       "    .dataframe tbody tr th {\n",
       "        vertical-align: top;\n",
       "    }\n",
       "\n",
       "    .dataframe thead th {\n",
       "        text-align: right;\n",
       "    }\n",
       "</style>\n",
       "<table border=\"1\" class=\"dataframe\">\n",
       "  <thead>\n",
       "    <tr style=\"text-align: right;\">\n",
       "      <th></th>\n",
       "      <th>supplier</th>\n",
       "      <th>id</th>\n",
       "      <th>Items</th>\n",
       "      <th>actual_Cost</th>\n",
       "    </tr>\n",
       "  </thead>\n",
       "  <tbody>\n",
       "    <tr>\n",
       "      <th>0</th>\n",
       "      <td>EMIS</td>\n",
       "      <td>6055040237975456768</td>\n",
       "      <td>1152</td>\n",
       "      <td>53551.50</td>\n",
       "    </tr>\n",
       "    <tr>\n",
       "      <th>1</th>\n",
       "      <td>Microtest</td>\n",
       "      <td>571485588695112320</td>\n",
       "      <td>56</td>\n",
       "      <td>3304.08</td>\n",
       "    </tr>\n",
       "    <tr>\n",
       "      <th>2</th>\n",
       "      <td>TPP</td>\n",
       "      <td>9143868259653729280</td>\n",
       "      <td>1210</td>\n",
       "      <td>54702.53</td>\n",
       "    </tr>\n",
       "    <tr>\n",
       "      <th>3</th>\n",
       "      <td>Vision</td>\n",
       "      <td>1238596231838932736</td>\n",
       "      <td>144</td>\n",
       "      <td>7539.09</td>\n",
       "    </tr>\n",
       "  </tbody>\n",
       "</table>\n",
       "</div>"
      ],
      "text/plain": [
       "    supplier                   id  Items  actual_Cost\n",
       "0       EMIS  6055040237975456768   1152     53551.50\n",
       "1  Microtest   571485588695112320     56      3304.08\n",
       "2        TPP  9143868259653729280   1210     54702.53\n",
       "3     Vision  1238596231838932736    144      7539.09"
      ]
     },
     "execution_count": 11,
     "metadata": {},
     "output_type": "execute_result"
    }
   ],
   "source": [
    "df_6months.groupby(\"supplier\").sum().reset_index()"
   ]
  },
  {
   "cell_type": "code",
   "execution_count": 12,
   "metadata": {},
   "outputs": [
    {
     "data": {
      "text/plain": [
       "id            30483726360704397312.00\n",
       "Items                         6808.00\n",
       "actual_Cost                 143543.79\n",
       "dtype: float64"
      ]
     },
     "execution_count": 12,
     "metadata": {},
     "output_type": "execute_result"
    }
   ],
   "source": [
    "df_3months = df_unavailable_vmp.loc[(df_unavailable_vmp[\"non_availdt\"]<=\"2019-03-01\")]\n",
    "df_3months.sum(numeric_only=True)"
   ]
  },
  {
   "cell_type": "code",
   "execution_count": 13,
   "metadata": {},
   "outputs": [
    {
     "data": {
      "text/plain": [
       "id            27339798123941167104.00\n",
       "Items                         4863.00\n",
       "actual_Cost                 131229.59\n",
       "dtype: float64"
      ]
     },
     "execution_count": 13,
     "metadata": {},
     "output_type": "execute_result"
    }
   ],
   "source": [
    "df_4months = df_unavailable_vmp.loc[(df_unavailable_vmp[\"non_availdt\"]<=\"2019-02-01\")]\n",
    "df_4months.sum(numeric_only=True)"
   ]
  },
  {
   "cell_type": "code",
   "execution_count": 14,
   "metadata": {},
   "outputs": [
    {
     "data": {
      "text/plain": [
       "id            18002115257574299648.00\n",
       "Items                         2666.00\n",
       "actual_Cost                 121792.72\n",
       "dtype: float64"
      ]
     },
     "execution_count": 14,
     "metadata": {},
     "output_type": "execute_result"
    }
   ],
   "source": [
    "df_5months = df_unavailable_vmp.loc[(df_unavailable_vmp[\"non_availdt\"]<=\"2019-01-01\")]\n",
    "df_5months.sum(numeric_only=True)"
   ]
  },
  {
   "cell_type": "code",
   "execution_count": 15,
   "metadata": {},
   "outputs": [
    {
     "data": {
      "text/plain": [
       "id            16951857774162890752.00\n",
       "Items                         2557.00\n",
       "actual_Cost                 119056.97\n",
       "dtype: float64"
      ]
     },
     "execution_count": 15,
     "metadata": {},
     "output_type": "execute_result"
    }
   ],
   "source": [
    "df_7months = df_unavailable_vmp.loc[(df_unavailable_vmp[\"non_availdt\"]<=\"2018-11-01\")]\n",
    "df_7months.sum(numeric_only=True)"
   ]
  },
  {
   "cell_type": "code",
   "execution_count": 16,
   "metadata": {},
   "outputs": [
    {
     "data": {
      "text/plain": [
       "id            14837782899908151296.00\n",
       "Items                         2342.00\n",
       "actual_Cost                 115930.47\n",
       "dtype: float64"
      ]
     },
     "execution_count": 16,
     "metadata": {},
     "output_type": "execute_result"
    }
   ],
   "source": [
    "df_8months = df_unavailable_vmp.loc[(df_unavailable_vmp[\"non_availdt\"]<=\"2018-10-01\")]\n",
    "df_8months.sum(numeric_only=True)"
   ]
  },
  {
   "cell_type": "code",
   "execution_count": 17,
   "metadata": {},
   "outputs": [
    {
     "data": {
      "text/plain": [
       "id            14837782885387677696.00\n",
       "Items                         2286.00\n",
       "actual_Cost                 115367.13\n",
       "dtype: float64"
      ]
     },
     "execution_count": 17,
     "metadata": {},
     "output_type": "execute_result"
    }
   ],
   "source": [
    "df_9months = df_unavailable_vmp.loc[(df_unavailable_vmp[\"non_availdt\"]<=\"2018-09-01\")]\n",
    "df_9months.sum(numeric_only=True)"
   ]
  },
  {
   "cell_type": "code",
   "execution_count": 18,
   "metadata": {},
   "outputs": [
    {
     "data": {
      "text/plain": [
       "id            14569604140405444608.00\n",
       "Items                         2158.00\n",
       "actual_Cost                 113967.84\n",
       "dtype: float64"
      ]
     },
     "execution_count": 18,
     "metadata": {},
     "output_type": "execute_result"
    }
   ],
   "source": [
    "df_10months = df_unavailable_vmp.loc[(df_unavailable_vmp[\"non_availdt\"]<=\"2018-08-01\")]\n",
    "df_10months.sum(numeric_only=True)"
   ]
  },
  {
   "cell_type": "code",
   "execution_count": 19,
   "metadata": {},
   "outputs": [
    {
     "data": {
      "text/plain": [
       "id            14382797163449012224.00\n",
       "Items                         2137.00\n",
       "actual_Cost                 113643.99\n",
       "dtype: float64"
      ]
     },
     "execution_count": 19,
     "metadata": {},
     "output_type": "execute_result"
    }
   ],
   "source": [
    "df_11months = df_unavailable_vmp.loc[(df_unavailable_vmp[\"non_availdt\"]<=\"2018-07-01\")]\n",
    "df_11months.sum(numeric_only=True)"
   ]
  },
  {
   "cell_type": "code",
   "execution_count": 20,
   "metadata": {},
   "outputs": [
    {
     "data": {
      "text/plain": [
       "id            14345662728533942272.00\n",
       "Items                         2121.00\n",
       "actual_Cost                 113526.72\n",
       "dtype: float64"
      ]
     },
     "execution_count": 20,
     "metadata": {},
     "output_type": "execute_result"
    }
   ],
   "source": [
    "df_12months = df_unavailable_vmp.loc[(df_unavailable_vmp[\"non_availdt\"]<=\"2018-06-01\")]\n",
    "df_12months.sum(numeric_only=True)"
   ]
  },
  {
   "cell_type": "markdown",
   "metadata": {},
   "source": [
    "£113k was spent in April 2019 on products that have been discontinued greater than 12 months ago. "
   ]
  },
  {
   "cell_type": "code",
   "execution_count": 21,
   "metadata": {},
   "outputs": [
    {
     "data": {
      "text/html": [
       "<div>\n",
       "<style scoped>\n",
       "    .dataframe tbody tr th:only-of-type {\n",
       "        vertical-align: middle;\n",
       "    }\n",
       "\n",
       "    .dataframe tbody tr th {\n",
       "        vertical-align: top;\n",
       "    }\n",
       "\n",
       "    .dataframe thead th {\n",
       "        text-align: right;\n",
       "    }\n",
       "</style>\n",
       "<table border=\"1\" class=\"dataframe\">\n",
       "  <thead>\n",
       "    <tr style=\"text-align: right;\">\n",
       "      <th></th>\n",
       "      <th>id</th>\n",
       "      <th>Items</th>\n",
       "      <th>actual_Cost</th>\n",
       "    </tr>\n",
       "    <tr>\n",
       "      <th>bnf_name</th>\n",
       "      <th></th>\n",
       "      <th></th>\n",
       "      <th></th>\n",
       "    </tr>\n",
       "  </thead>\n",
       "  <tbody>\n",
       "    <tr>\n",
       "      <th>Midazolam_Oromuc Soln 10mg/2ml Pfos S/F</th>\n",
       "      <td>1770164344000113152</td>\n",
       "      <td>254</td>\n",
       "      <td>30423.39</td>\n",
       "    </tr>\n",
       "    <tr>\n",
       "      <th>Nedocromil Sod_Eye Dps Aq 2%</th>\n",
       "      <td>24128617511</td>\n",
       "      <td>226</td>\n",
       "      <td>1025.66</td>\n",
       "    </tr>\n",
       "    <tr>\n",
       "      <th>U100 Syrg Sle Use 0.5ml + 12mm Needle-Ster Hypod Syrg</th>\n",
       "      <td>386447721000121408</td>\n",
       "      <td>179</td>\n",
       "      <td>2191.58</td>\n",
       "    </tr>\n",
       "    <tr>\n",
       "      <th>U100 Syrg Sle Use 1ml + 12mm Needle-Ster Hypod Syrg</th>\n",
       "      <td>320335812000102208</td>\n",
       "      <td>158</td>\n",
       "      <td>2136.46</td>\n",
       "    </tr>\n",
       "    <tr>\n",
       "      <th>Verapamil HCl_Cap 120mg M/R</th>\n",
       "      <td>1608860484000048128</td>\n",
       "      <td>126</td>\n",
       "      <td>803.44</td>\n",
       "    </tr>\n",
       "    <tr>\n",
       "      <th>Verapamil HCl_Cap 240mg M/R</th>\n",
       "      <td>10184000288</td>\n",
       "      <td>88</td>\n",
       "      <td>771.23</td>\n",
       "    </tr>\n",
       "    <tr>\n",
       "      <th>Midazolam_Oromuc Soln 5mg/1ml Pfos S/F</th>\n",
       "      <td>799987517000052096</td>\n",
       "      <td>86</td>\n",
       "      <td>11187.30</td>\n",
       "    </tr>\n",
       "    <tr>\n",
       "      <th>Midazolam_OromucSoln 7.5mg/1.5mlPfos S/F</th>\n",
       "      <td>748928884000048640</td>\n",
       "      <td>75</td>\n",
       "      <td>9594.23</td>\n",
       "    </tr>\n",
       "    <tr>\n",
       "      <th>Diazepam_Oral Soln 2mg/5ml</th>\n",
       "      <td>16381149306</td>\n",
       "      <td>73</td>\n",
       "      <td>8534.44</td>\n",
       "    </tr>\n",
       "    <tr>\n",
       "      <th>Erythromycin_Cap E/C 250mg</th>\n",
       "      <td>1947494394000058368</td>\n",
       "      <td>68</td>\n",
       "      <td>818.97</td>\n",
       "    </tr>\n",
       "  </tbody>\n",
       "</table>\n",
       "</div>"
      ],
      "text/plain": [
       "                                                                     id  \\\n",
       "bnf_name                                                                  \n",
       "Midazolam_Oromuc Soln 10mg/2ml Pfos S/F             1770164344000113152   \n",
       "Nedocromil Sod_Eye Dps Aq 2%                                24128617511   \n",
       "U100 Syrg Sle Use 0.5ml + 12mm Needle-Ster Hypo...   386447721000121408   \n",
       "U100 Syrg Sle Use 1ml + 12mm Needle-Ster Hypod ...   320335812000102208   \n",
       "Verapamil HCl_Cap 120mg M/R                         1608860484000048128   \n",
       "Verapamil HCl_Cap 240mg M/R                                 10184000288   \n",
       "Midazolam_Oromuc Soln 5mg/1ml Pfos S/F               799987517000052096   \n",
       "Midazolam_OromucSoln 7.5mg/1.5mlPfos S/F             748928884000048640   \n",
       "Diazepam_Oral Soln 2mg/5ml                                  16381149306   \n",
       "Erythromycin_Cap E/C 250mg                          1947494394000058368   \n",
       "\n",
       "                                                    Items  actual_Cost  \n",
       "bnf_name                                                                \n",
       "Midazolam_Oromuc Soln 10mg/2ml Pfos S/F               254     30423.39  \n",
       "Nedocromil Sod_Eye Dps Aq 2%                          226      1025.66  \n",
       "U100 Syrg Sle Use 0.5ml + 12mm Needle-Ster Hypo...    179      2191.58  \n",
       "U100 Syrg Sle Use 1ml + 12mm Needle-Ster Hypod ...    158      2136.46  \n",
       "Verapamil HCl_Cap 120mg M/R                           126       803.44  \n",
       "Verapamil HCl_Cap 240mg M/R                            88       771.23  \n",
       "Midazolam_Oromuc Soln 5mg/1ml Pfos S/F                 86     11187.30  \n",
       "Midazolam_OromucSoln 7.5mg/1.5mlPfos S/F               75      9594.23  \n",
       "Diazepam_Oral Soln 2mg/5ml                             73      8534.44  \n",
       "Erythromycin_Cap E/C 250mg                             68       818.97  "
      ]
     },
     "execution_count": 21,
     "metadata": {},
     "output_type": "execute_result"
    }
   ],
   "source": [
    "df_12months.groupby(\"bnf_name\").sum().sort_values(by = 'Items',ascending=False).head(10)"
   ]
  },
  {
   "cell_type": "markdown",
   "metadata": {},
   "source": [
    "Looking at some examples of stuff that is unavailble more than 12 months ago\n",
    "- Erythromycin_Cap E/C 250mg this does not appear to be available but ec tabs are.\n",
    "- Verapamil HCl_Cap 120mg M/R caps do not appear to be available but tabs are. Univer previously made by Teva was avaiable but documented [reports](http://mm.wirral.nhs.uk/document_uploads/newsletters/TABLETSDec2015Issue21WirralFINAL.pdf) of it not being available.\n"
   ]
  },
  {
   "cell_type": "code",
   "execution_count": 22,
   "metadata": {},
   "outputs": [
    {
     "data": {
      "text/html": [
       "<div>\n",
       "<style scoped>\n",
       "    .dataframe tbody tr th:only-of-type {\n",
       "        vertical-align: middle;\n",
       "    }\n",
       "\n",
       "    .dataframe tbody tr th {\n",
       "        vertical-align: top;\n",
       "    }\n",
       "\n",
       "    .dataframe thead th {\n",
       "        text-align: right;\n",
       "    }\n",
       "</style>\n",
       "<table border=\"1\" class=\"dataframe\">\n",
       "  <thead>\n",
       "    <tr style=\"text-align: right;\">\n",
       "      <th></th>\n",
       "      <th>supplier</th>\n",
       "      <th>id</th>\n",
       "      <th>Items</th>\n",
       "      <th>actual_Cost</th>\n",
       "    </tr>\n",
       "  </thead>\n",
       "  <tbody>\n",
       "    <tr>\n",
       "      <th>0</th>\n",
       "      <td>EMIS</td>\n",
       "      <td>5665011634717020160</td>\n",
       "      <td>974</td>\n",
       "      <td>51763.89</td>\n",
       "    </tr>\n",
       "    <tr>\n",
       "      <th>1</th>\n",
       "      <td>Microtest</td>\n",
       "      <td>551138877377710208</td>\n",
       "      <td>53</td>\n",
       "      <td>3143.69</td>\n",
       "    </tr>\n",
       "    <tr>\n",
       "      <th>2</th>\n",
       "      <td>TPP</td>\n",
       "      <td>7135073220487595008</td>\n",
       "      <td>990</td>\n",
       "      <td>51696.23</td>\n",
       "    </tr>\n",
       "    <tr>\n",
       "      <th>3</th>\n",
       "      <td>Vision</td>\n",
       "      <td>994438995951802496</td>\n",
       "      <td>104</td>\n",
       "      <td>6922.92</td>\n",
       "    </tr>\n",
       "  </tbody>\n",
       "</table>\n",
       "</div>"
      ],
      "text/plain": [
       "    supplier                   id  Items  actual_Cost\n",
       "0       EMIS  5665011634717020160    974     51763.89\n",
       "1  Microtest   551138877377710208     53      3143.69\n",
       "2        TPP  7135073220487595008    990     51696.23\n",
       "3     Vision   994438995951802496    104      6922.92"
      ]
     },
     "execution_count": 22,
     "metadata": {},
     "output_type": "execute_result"
    }
   ],
   "source": [
    "df_12months.groupby(\"supplier\").sum().reset_index()"
   ]
  },
  {
   "cell_type": "markdown",
   "metadata": {},
   "source": [
    "The split appears even between suppliers in terms of absolute cost. Let us see if there is a difference in product mix between EMIS and SystmOne"
   ]
  },
  {
   "cell_type": "markdown",
   "metadata": {},
   "source": [
    "a) by cost"
   ]
  },
  {
   "cell_type": "code",
   "execution_count": 23,
   "metadata": {},
   "outputs": [
    {
     "data": {
      "text/html": [
       "<div>\n",
       "<style scoped>\n",
       "    .dataframe tbody tr th:only-of-type {\n",
       "        vertical-align: middle;\n",
       "    }\n",
       "\n",
       "    .dataframe tbody tr th {\n",
       "        vertical-align: top;\n",
       "    }\n",
       "\n",
       "    .dataframe thead th {\n",
       "        text-align: right;\n",
       "    }\n",
       "</style>\n",
       "<table border=\"1\" class=\"dataframe\">\n",
       "  <thead>\n",
       "    <tr style=\"text-align: right;\">\n",
       "      <th></th>\n",
       "      <th>id</th>\n",
       "      <th>Items</th>\n",
       "      <th>actual_Cost</th>\n",
       "    </tr>\n",
       "    <tr>\n",
       "      <th>bnf_name</th>\n",
       "      <th></th>\n",
       "      <th></th>\n",
       "      <th></th>\n",
       "    </tr>\n",
       "  </thead>\n",
       "  <tbody>\n",
       "    <tr>\n",
       "      <th>SMA_PRO High Energy Liq</th>\n",
       "      <td>3575281944000110080</td>\n",
       "      <td>198</td>\n",
       "      <td>21338.14</td>\n",
       "    </tr>\n",
       "    <tr>\n",
       "      <th>Midazolam_Oromuc Soln 10mg/2ml Pfos S/F</th>\n",
       "      <td>799978117000052096</td>\n",
       "      <td>125</td>\n",
       "      <td>16986.77</td>\n",
       "    </tr>\n",
       "    <tr>\n",
       "      <th>Midazolam_Oromuc Soln 5mg/1ml Pfos S/F</th>\n",
       "      <td>425525275000027328</td>\n",
       "      <td>56</td>\n",
       "      <td>7710.58</td>\n",
       "    </tr>\n",
       "    <tr>\n",
       "      <th>Nifedipine_Cap 10mg</th>\n",
       "      <td>114601060231</td>\n",
       "      <td>1323</td>\n",
       "      <td>5986.58</td>\n",
       "    </tr>\n",
       "    <tr>\n",
       "      <th>Midazolam_OromucSoln 2.5mg/0.5mlPfos S/F</th>\n",
       "      <td>255313665000016672</td>\n",
       "      <td>23</td>\n",
       "      <td>5742.78</td>\n",
       "    </tr>\n",
       "    <tr>\n",
       "      <th>Midazolam_OromucSoln 7.5mg/1.5mlPfos S/F</th>\n",
       "      <td>340422220000021888</td>\n",
       "      <td>33</td>\n",
       "      <td>4114.93</td>\n",
       "    </tr>\n",
       "    <tr>\n",
       "      <th>Nifedipine_Cap 5mg</th>\n",
       "      <td>96085823204</td>\n",
       "      <td>892</td>\n",
       "      <td>3481.12</td>\n",
       "    </tr>\n",
       "    <tr>\n",
       "      <th>Diazepam_Liq Spec 10mg/5ml</th>\n",
       "      <td>131890665000016576</td>\n",
       "      <td>18</td>\n",
       "      <td>2913.41</td>\n",
       "    </tr>\n",
       "    <tr>\n",
       "      <th>K-Y Lubri Jelly</th>\n",
       "      <td>4133300831000127488</td>\n",
       "      <td>360</td>\n",
       "      <td>2544.65</td>\n",
       "    </tr>\n",
       "    <tr>\n",
       "      <th>Clobazam_Liq Spec 25mg/5ml</th>\n",
       "      <td>25099233000003304</td>\n",
       "      <td>4</td>\n",
       "      <td>1698.81</td>\n",
       "    </tr>\n",
       "  </tbody>\n",
       "</table>\n",
       "</div>"
      ],
      "text/plain": [
       "                                                           id  Items  \\\n",
       "bnf_name                                                               \n",
       "SMA_PRO High Energy Liq                   3575281944000110080    198   \n",
       "Midazolam_Oromuc Soln 10mg/2ml Pfos S/F    799978117000052096    125   \n",
       "Midazolam_Oromuc Soln 5mg/1ml Pfos S/F     425525275000027328     56   \n",
       "Nifedipine_Cap 10mg                              114601060231   1323   \n",
       "Midazolam_OromucSoln 2.5mg/0.5mlPfos S/F   255313665000016672     23   \n",
       "Midazolam_OromucSoln 7.5mg/1.5mlPfos S/F   340422220000021888     33   \n",
       "Nifedipine_Cap 5mg                                96085823204    892   \n",
       "Diazepam_Liq Spec 10mg/5ml                 131890665000016576     18   \n",
       "K-Y Lubri Jelly                           4133300831000127488    360   \n",
       "Clobazam_Liq Spec 25mg/5ml                  25099233000003304      4   \n",
       "\n",
       "                                          actual_Cost  \n",
       "bnf_name                                               \n",
       "SMA_PRO High Energy Liq                      21338.14  \n",
       "Midazolam_Oromuc Soln 10mg/2ml Pfos S/F      16986.77  \n",
       "Midazolam_Oromuc Soln 5mg/1ml Pfos S/F        7710.58  \n",
       "Nifedipine_Cap 10mg                           5986.58  \n",
       "Midazolam_OromucSoln 2.5mg/0.5mlPfos S/F      5742.78  \n",
       "Midazolam_OromucSoln 7.5mg/1.5mlPfos S/F      4114.93  \n",
       "Nifedipine_Cap 5mg                            3481.12  \n",
       "Diazepam_Liq Spec 10mg/5ml                    2913.41  \n",
       "K-Y Lubri Jelly                               2544.65  \n",
       "Clobazam_Liq Spec 25mg/5ml                    1698.81  "
      ]
     },
     "execution_count": 23,
     "metadata": {},
     "output_type": "execute_result"
    }
   ],
   "source": [
    "df_emis = df_unavailable_vmp[df_unavailable_vmp[\"supplier\"].str.contains(\"emis\", case=False)]\n",
    "df_emis.groupby(\"bnf_name\").sum().sort_values(by = 'actual_Cost',ascending=False).head(10)\n"
   ]
  },
  {
   "cell_type": "code",
   "execution_count": 24,
   "metadata": {},
   "outputs": [
    {
     "data": {
      "text/html": [
       "<div>\n",
       "<style scoped>\n",
       "    .dataframe tbody tr th:only-of-type {\n",
       "        vertical-align: middle;\n",
       "    }\n",
       "\n",
       "    .dataframe tbody tr th {\n",
       "        vertical-align: top;\n",
       "    }\n",
       "\n",
       "    .dataframe thead th {\n",
       "        text-align: right;\n",
       "    }\n",
       "</style>\n",
       "<table border=\"1\" class=\"dataframe\">\n",
       "  <thead>\n",
       "    <tr style=\"text-align: right;\">\n",
       "      <th></th>\n",
       "      <th>id</th>\n",
       "      <th>Items</th>\n",
       "      <th>actual_Cost</th>\n",
       "    </tr>\n",
       "    <tr>\n",
       "      <th>bnf_name</th>\n",
       "      <th></th>\n",
       "      <th></th>\n",
       "      <th></th>\n",
       "    </tr>\n",
       "  </thead>\n",
       "  <tbody>\n",
       "    <tr>\n",
       "      <th>SMA_PRO High Energy Liq</th>\n",
       "      <td>3334637967000102912</td>\n",
       "      <td>195</td>\n",
       "      <td>20948.31</td>\n",
       "    </tr>\n",
       "    <tr>\n",
       "      <th>Midazolam_Oromuc Soln 10mg/2ml Pfos S/F</th>\n",
       "      <td>714874062000046336</td>\n",
       "      <td>97</td>\n",
       "      <td>11118.67</td>\n",
       "    </tr>\n",
       "    <tr>\n",
       "      <th>SMA_PRO Gold Prem 2 Pdr</th>\n",
       "      <td>3534920655000111104</td>\n",
       "      <td>408</td>\n",
       "      <td>10437.18</td>\n",
       "    </tr>\n",
       "    <tr>\n",
       "      <th>Nifedipine_Cap 10mg</th>\n",
       "      <td>133115994753</td>\n",
       "      <td>1693</td>\n",
       "      <td>8094.14</td>\n",
       "    </tr>\n",
       "    <tr>\n",
       "      <th>Diazepam_Oral Soln 2mg/5ml</th>\n",
       "      <td>15096353282</td>\n",
       "      <td>69</td>\n",
       "      <td>7698.67</td>\n",
       "    </tr>\n",
       "    <tr>\n",
       "      <th>Mexiletine HCl_Tab 200mg</th>\n",
       "      <td>126603288000008832</td>\n",
       "      <td>9</td>\n",
       "      <td>5540.09</td>\n",
       "    </tr>\n",
       "    <tr>\n",
       "      <th>Midazolam_OromucSoln 7.5mg/1.5mlPfos S/F</th>\n",
       "      <td>340422220000021888</td>\n",
       "      <td>37</td>\n",
       "      <td>5107.03</td>\n",
       "    </tr>\n",
       "    <tr>\n",
       "      <th>SMA_PRO Gold Prem 2 Liq</th>\n",
       "      <td>1009974330000033536</td>\n",
       "      <td>72</td>\n",
       "      <td>4747.22</td>\n",
       "    </tr>\n",
       "    <tr>\n",
       "      <th>Clobazam_Liq Spec 5mg/5ml</th>\n",
       "      <td>125529165000016544</td>\n",
       "      <td>18</td>\n",
       "      <td>4185.69</td>\n",
       "    </tr>\n",
       "    <tr>\n",
       "      <th>Diazepam_Liq Spec 10mg/5ml</th>\n",
       "      <td>123097954000015472</td>\n",
       "      <td>18</td>\n",
       "      <td>3691.74</td>\n",
       "    </tr>\n",
       "  </tbody>\n",
       "</table>\n",
       "</div>"
      ],
      "text/plain": [
       "                                                           id  Items  \\\n",
       "bnf_name                                                               \n",
       "SMA_PRO High Energy Liq                   3334637967000102912    195   \n",
       "Midazolam_Oromuc Soln 10mg/2ml Pfos S/F    714874062000046336     97   \n",
       "SMA_PRO Gold Prem 2 Pdr                   3534920655000111104    408   \n",
       "Nifedipine_Cap 10mg                              133115994753   1693   \n",
       "Diazepam_Oral Soln 2mg/5ml                        15096353282     69   \n",
       "Mexiletine HCl_Tab 200mg                   126603288000008832      9   \n",
       "Midazolam_OromucSoln 7.5mg/1.5mlPfos S/F   340422220000021888     37   \n",
       "SMA_PRO Gold Prem 2 Liq                   1009974330000033536     72   \n",
       "Clobazam_Liq Spec 5mg/5ml                  125529165000016544     18   \n",
       "Diazepam_Liq Spec 10mg/5ml                 123097954000015472     18   \n",
       "\n",
       "                                          actual_Cost  \n",
       "bnf_name                                               \n",
       "SMA_PRO High Energy Liq                      20948.31  \n",
       "Midazolam_Oromuc Soln 10mg/2ml Pfos S/F      11118.67  \n",
       "SMA_PRO Gold Prem 2 Pdr                      10437.18  \n",
       "Nifedipine_Cap 10mg                           8094.14  \n",
       "Diazepam_Oral Soln 2mg/5ml                    7698.67  \n",
       "Mexiletine HCl_Tab 200mg                      5540.09  \n",
       "Midazolam_OromucSoln 7.5mg/1.5mlPfos S/F      5107.03  \n",
       "SMA_PRO Gold Prem 2 Liq                       4747.22  \n",
       "Clobazam_Liq Spec 5mg/5ml                     4185.69  \n",
       "Diazepam_Liq Spec 10mg/5ml                    3691.74  "
      ]
     },
     "execution_count": 24,
     "metadata": {},
     "output_type": "execute_result"
    }
   ],
   "source": [
    "df_tpp = df_unavailable_vmp[df_unavailable_vmp[\"supplier\"].str.contains(\"tpp\", case=False)]\n",
    "df_tpp.groupby(\"bnf_name\").sum().sort_values(by = 'actual_Cost',ascending=False).head(10)"
   ]
  },
  {
   "cell_type": "markdown",
   "metadata": {},
   "source": [
    "b) by items"
   ]
  },
  {
   "cell_type": "code",
   "execution_count": 25,
   "metadata": {},
   "outputs": [
    {
     "data": {
      "text/html": [
       "<div>\n",
       "<style scoped>\n",
       "    .dataframe tbody tr th:only-of-type {\n",
       "        vertical-align: middle;\n",
       "    }\n",
       "\n",
       "    .dataframe tbody tr th {\n",
       "        vertical-align: top;\n",
       "    }\n",
       "\n",
       "    .dataframe thead th {\n",
       "        text-align: right;\n",
       "    }\n",
       "</style>\n",
       "<table border=\"1\" class=\"dataframe\">\n",
       "  <thead>\n",
       "    <tr style=\"text-align: right;\">\n",
       "      <th></th>\n",
       "      <th>id</th>\n",
       "      <th>Items</th>\n",
       "      <th>actual_Cost</th>\n",
       "    </tr>\n",
       "    <tr>\n",
       "      <th>bnf_name</th>\n",
       "      <th></th>\n",
       "      <th></th>\n",
       "      <th></th>\n",
       "    </tr>\n",
       "  </thead>\n",
       "  <tbody>\n",
       "    <tr>\n",
       "      <th>Nifedipine_Cap 10mg</th>\n",
       "      <td>114601060231</td>\n",
       "      <td>1323</td>\n",
       "      <td>5986.58</td>\n",
       "    </tr>\n",
       "    <tr>\n",
       "      <th>Nifedipine_Cap 5mg</th>\n",
       "      <td>96085823204</td>\n",
       "      <td>892</td>\n",
       "      <td>3481.12</td>\n",
       "    </tr>\n",
       "    <tr>\n",
       "      <th>K-Y Lubri Jelly</th>\n",
       "      <td>4133300831000127488</td>\n",
       "      <td>360</td>\n",
       "      <td>2544.65</td>\n",
       "    </tr>\n",
       "    <tr>\n",
       "      <th>Surg Suture W320 Ethilon Non-Absorb Ster Polyam 6 Monof</th>\n",
       "      <td>306264462000046720</td>\n",
       "      <td>305</td>\n",
       "      <td>500.47</td>\n",
       "    </tr>\n",
       "    <tr>\n",
       "      <th>Surg Suture W319 Ethilon Non-Absorb Ster Polyam 6 Monof</th>\n",
       "      <td>298964251000045568</td>\n",
       "      <td>303</td>\n",
       "      <td>468.61</td>\n",
       "    </tr>\n",
       "    <tr>\n",
       "      <th>Acetic Acid_Ear Spy 2% 5ml</th>\n",
       "      <td>19523100236</td>\n",
       "      <td>297</td>\n",
       "      <td>1595.62</td>\n",
       "    </tr>\n",
       "    <tr>\n",
       "      <th>SMA_PRO High Energy Liq</th>\n",
       "      <td>3575281944000110080</td>\n",
       "      <td>198</td>\n",
       "      <td>21338.14</td>\n",
       "    </tr>\n",
       "    <tr>\n",
       "      <th>Nedocromil Sod_Eye Dps Aq 2%</th>\n",
       "      <td>12890631273</td>\n",
       "      <td>137</td>\n",
       "      <td>647.33</td>\n",
       "    </tr>\n",
       "    <tr>\n",
       "      <th>Midazolam_Oromuc Soln 10mg/2ml Pfos S/F</th>\n",
       "      <td>799978117000052096</td>\n",
       "      <td>125</td>\n",
       "      <td>16986.77</td>\n",
       "    </tr>\n",
       "    <tr>\n",
       "      <th>Verapamil HCl_Cap 120mg M/R</th>\n",
       "      <td>1243210374000037888</td>\n",
       "      <td>107</td>\n",
       "      <td>710.85</td>\n",
       "    </tr>\n",
       "  </tbody>\n",
       "</table>\n",
       "</div>"
      ],
      "text/plain": [
       "                                                                     id  \\\n",
       "bnf_name                                                                  \n",
       "Nifedipine_Cap 10mg                                        114601060231   \n",
       "Nifedipine_Cap 5mg                                          96085823204   \n",
       "K-Y Lubri Jelly                                     4133300831000127488   \n",
       "Surg Suture W320 Ethilon Non-Absorb Ster Polyam...   306264462000046720   \n",
       "Surg Suture W319 Ethilon Non-Absorb Ster Polyam...   298964251000045568   \n",
       "Acetic Acid_Ear Spy 2% 5ml                                  19523100236   \n",
       "SMA_PRO High Energy Liq                             3575281944000110080   \n",
       "Nedocromil Sod_Eye Dps Aq 2%                                12890631273   \n",
       "Midazolam_Oromuc Soln 10mg/2ml Pfos S/F              799978117000052096   \n",
       "Verapamil HCl_Cap 120mg M/R                         1243210374000037888   \n",
       "\n",
       "                                                    Items  actual_Cost  \n",
       "bnf_name                                                                \n",
       "Nifedipine_Cap 10mg                                  1323      5986.58  \n",
       "Nifedipine_Cap 5mg                                    892      3481.12  \n",
       "K-Y Lubri Jelly                                       360      2544.65  \n",
       "Surg Suture W320 Ethilon Non-Absorb Ster Polyam...    305       500.47  \n",
       "Surg Suture W319 Ethilon Non-Absorb Ster Polyam...    303       468.61  \n",
       "Acetic Acid_Ear Spy 2% 5ml                            297      1595.62  \n",
       "SMA_PRO High Energy Liq                               198     21338.14  \n",
       "Nedocromil Sod_Eye Dps Aq 2%                          137       647.33  \n",
       "Midazolam_Oromuc Soln 10mg/2ml Pfos S/F               125     16986.77  \n",
       "Verapamil HCl_Cap 120mg M/R                           107       710.85  "
      ]
     },
     "execution_count": 25,
     "metadata": {},
     "output_type": "execute_result"
    }
   ],
   "source": [
    "df_emis.groupby(\"bnf_name\").sum().sort_values(by = 'Items',ascending=False).head(10)"
   ]
  },
  {
   "cell_type": "code",
   "execution_count": 26,
   "metadata": {},
   "outputs": [
    {
     "data": {
      "text/html": [
       "<div>\n",
       "<style scoped>\n",
       "    .dataframe tbody tr th:only-of-type {\n",
       "        vertical-align: middle;\n",
       "    }\n",
       "\n",
       "    .dataframe tbody tr th {\n",
       "        vertical-align: top;\n",
       "    }\n",
       "\n",
       "    .dataframe thead th {\n",
       "        text-align: right;\n",
       "    }\n",
       "</style>\n",
       "<table border=\"1\" class=\"dataframe\">\n",
       "  <thead>\n",
       "    <tr style=\"text-align: right;\">\n",
       "      <th></th>\n",
       "      <th>id</th>\n",
       "      <th>Items</th>\n",
       "      <th>actual_Cost</th>\n",
       "    </tr>\n",
       "    <tr>\n",
       "      <th>bnf_name</th>\n",
       "      <th></th>\n",
       "      <th></th>\n",
       "      <th></th>\n",
       "    </tr>\n",
       "  </thead>\n",
       "  <tbody>\n",
       "    <tr>\n",
       "      <th>Nifedipine_Cap 10mg</th>\n",
       "      <td>133115994753</td>\n",
       "      <td>1693</td>\n",
       "      <td>8094.14</td>\n",
       "    </tr>\n",
       "    <tr>\n",
       "      <th>Nifedipine_Cap 5mg</th>\n",
       "      <td>73421060920</td>\n",
       "      <td>669</td>\n",
       "      <td>2806.10</td>\n",
       "    </tr>\n",
       "    <tr>\n",
       "      <th>SMA_PRO Gold Prem 2 Pdr</th>\n",
       "      <td>3534920655000111104</td>\n",
       "      <td>408</td>\n",
       "      <td>10437.18</td>\n",
       "    </tr>\n",
       "    <tr>\n",
       "      <th>Surg Suture W319 Ethilon Non-Absorb Ster Polyam 6 Monof</th>\n",
       "      <td>328131495000049920</td>\n",
       "      <td>385</td>\n",
       "      <td>1006.21</td>\n",
       "    </tr>\n",
       "    <tr>\n",
       "      <th>Surg Suture W320 Ethilon Non-Absorb Ster Polyam 6 Monof</th>\n",
       "      <td>320848484000048896</td>\n",
       "      <td>297</td>\n",
       "      <td>660.63</td>\n",
       "    </tr>\n",
       "    <tr>\n",
       "      <th>Acetic Acid_Ear Spy 2% 5ml</th>\n",
       "      <td>17537700212</td>\n",
       "      <td>271</td>\n",
       "      <td>1233.30</td>\n",
       "    </tr>\n",
       "    <tr>\n",
       "      <th>K-Y Lubri Jelly</th>\n",
       "      <td>3108515501000096768</td>\n",
       "      <td>228</td>\n",
       "      <td>1636.42</td>\n",
       "    </tr>\n",
       "    <tr>\n",
       "      <th>SMA_PRO High Energy Liq</th>\n",
       "      <td>3334637967000102912</td>\n",
       "      <td>195</td>\n",
       "      <td>20948.31</td>\n",
       "    </tr>\n",
       "    <tr>\n",
       "      <th>Midazolam_Oromuc Soln 10mg/2ml Pfos S/F</th>\n",
       "      <td>714874062000046336</td>\n",
       "      <td>97</td>\n",
       "      <td>11118.67</td>\n",
       "    </tr>\n",
       "    <tr>\n",
       "      <th>U100 Syrg Sle Use 0.5ml + 12mm Needle-Ster Hypod Syrg</th>\n",
       "      <td>170594039000053952</td>\n",
       "      <td>84</td>\n",
       "      <td>1107.21</td>\n",
       "    </tr>\n",
       "  </tbody>\n",
       "</table>\n",
       "</div>"
      ],
      "text/plain": [
       "                                                                     id  \\\n",
       "bnf_name                                                                  \n",
       "Nifedipine_Cap 10mg                                        133115994753   \n",
       "Nifedipine_Cap 5mg                                          73421060920   \n",
       "SMA_PRO Gold Prem 2 Pdr                             3534920655000111104   \n",
       "Surg Suture W319 Ethilon Non-Absorb Ster Polyam...   328131495000049920   \n",
       "Surg Suture W320 Ethilon Non-Absorb Ster Polyam...   320848484000048896   \n",
       "Acetic Acid_Ear Spy 2% 5ml                                  17537700212   \n",
       "K-Y Lubri Jelly                                     3108515501000096768   \n",
       "SMA_PRO High Energy Liq                             3334637967000102912   \n",
       "Midazolam_Oromuc Soln 10mg/2ml Pfos S/F              714874062000046336   \n",
       "U100 Syrg Sle Use 0.5ml + 12mm Needle-Ster Hypo...   170594039000053952   \n",
       "\n",
       "                                                    Items  actual_Cost  \n",
       "bnf_name                                                                \n",
       "Nifedipine_Cap 10mg                                  1693      8094.14  \n",
       "Nifedipine_Cap 5mg                                    669      2806.10  \n",
       "SMA_PRO Gold Prem 2 Pdr                               408     10437.18  \n",
       "Surg Suture W319 Ethilon Non-Absorb Ster Polyam...    385      1006.21  \n",
       "Surg Suture W320 Ethilon Non-Absorb Ster Polyam...    297       660.63  \n",
       "Acetic Acid_Ear Spy 2% 5ml                            271      1233.30  \n",
       "K-Y Lubri Jelly                                       228      1636.42  \n",
       "SMA_PRO High Energy Liq                               195     20948.31  \n",
       "Midazolam_Oromuc Soln 10mg/2ml Pfos S/F                97     11118.67  \n",
       "U100 Syrg Sle Use 0.5ml + 12mm Needle-Ster Hypo...     84      1107.21  "
      ]
     },
     "execution_count": 26,
     "metadata": {},
     "output_type": "execute_result"
    }
   ],
   "source": [
    "df_tpp.groupby(\"bnf_name\").sum().sort_values(by = 'Items',ascending=False).head(10)"
   ]
  },
  {
   "cell_type": "markdown",
   "metadata": {},
   "source": [
    "## Other ideas\n",
    "look at where there is a unique bnf code for AMP e.g. metabet and salbutamol"
   ]
  },
  {
   "cell_type": "code",
   "execution_count": null,
   "metadata": {},
   "outputs": [],
   "source": []
  }
 ],
 "metadata": {
  "kernelspec": {
   "display_name": "Python 3",
   "language": "python",
   "name": "python3"
  },
  "language_info": {
   "codemirror_mode": {
    "name": "ipython",
    "version": 3
   },
   "file_extension": ".py",
   "mimetype": "text/x-python",
   "name": "python",
   "nbconvert_exporter": "python",
   "pygments_lexer": "ipython3",
   "version": "3.6.5"
  }
 },
 "nbformat": 4,
 "nbformat_minor": 2
}
