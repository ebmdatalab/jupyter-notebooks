{
 "cells": [
  {
   "cell_type": "code",
   "execution_count": 1,
   "metadata": {},
   "outputs": [],
   "source": [
    "##importing libraries\n",
    "import pandas as pd\n",
    "import numpy as np\n",
    "from ebmdatalab import bq, maps, charts\n",
    "import matplotlib.pyplot as plt\n",
    "import matplotlib.gridspec as gridspec"
   ]
  },
  {
   "cell_type": "markdown",
   "metadata": {},
   "source": [
    "A user has requested how many seven day prescriptions there are for Aspirin as a proprotion of all prescriptions for Aspirin. The aim is to use as a surrogate for dosette boxes. The Pharmaceutical Journal has a good article here from earlier in the year that questions are we dispensing too many dosette boxes. It relies on small audits in one or two CCGs to extrapolate to the whole country. Dosette boxes are generally not recommended and as all good pharmacy staff will tell you they are a pain in the backside to dispense and assure yourself of the contents.\n",
    "\n",
    "We will use medicines for long term conditions as a surrogate for indicating dosette boxes as it is once daily so prescriptions with a seven day course length are indicative of weekly scripts which are sometimes used (erroneously) to support dispensing in dosette boxes."
   ]
  },
  {
   "cell_type": "code",
   "execution_count": 3,
   "metadata": {},
   "outputs": [
    {
     "data": {
      "text/html": [
       "<div>\n",
       "<style scoped>\n",
       "    .dataframe tbody tr th:only-of-type {\n",
       "        vertical-align: middle;\n",
       "    }\n",
       "\n",
       "    .dataframe tbody tr th {\n",
       "        vertical-align: top;\n",
       "    }\n",
       "\n",
       "    .dataframe thead th {\n",
       "        text-align: right;\n",
       "    }\n",
       "</style>\n",
       "<table border=\"1\" class=\"dataframe\">\n",
       "  <thead>\n",
       "    <tr style=\"text-align: right;\">\n",
       "      <th></th>\n",
       "      <th>chemical</th>\n",
       "      <th>seven_day_QI</th>\n",
       "      <th>all_QI</th>\n",
       "      <th>percent_7_day_QI</th>\n",
       "    </tr>\n",
       "  </thead>\n",
       "  <tbody>\n",
       "    <tr>\n",
       "      <th>0</th>\n",
       "      <td>Biperiden Hydrochloride</td>\n",
       "      <td>154</td>\n",
       "      <td>427</td>\n",
       "      <td>0.360656</td>\n",
       "    </tr>\n",
       "    <tr>\n",
       "      <th>1</th>\n",
       "      <td>Ambrisentan</td>\n",
       "      <td>119</td>\n",
       "      <td>733</td>\n",
       "      <td>0.162347</td>\n",
       "    </tr>\n",
       "    <tr>\n",
       "      <th>2</th>\n",
       "      <td>Donepezil Hydrochloride</td>\n",
       "      <td>15929403</td>\n",
       "      <td>102690416</td>\n",
       "      <td>0.155121</td>\n",
       "    </tr>\n",
       "    <tr>\n",
       "      <th>3</th>\n",
       "      <td>Galantamine</td>\n",
       "      <td>1208543</td>\n",
       "      <td>9561130</td>\n",
       "      <td>0.126402</td>\n",
       "    </tr>\n",
       "    <tr>\n",
       "      <th>4</th>\n",
       "      <td>Memantine Hydrochloride</td>\n",
       "      <td>6532484</td>\n",
       "      <td>63451228</td>\n",
       "      <td>0.102953</td>\n",
       "    </tr>\n",
       "  </tbody>\n",
       "</table>\n",
       "</div>"
      ],
      "text/plain": [
       "                  chemical  seven_day_QI     all_QI  percent_7_day_QI\n",
       "0  Biperiden Hydrochloride           154        427          0.360656\n",
       "1              Ambrisentan           119        733          0.162347\n",
       "2  Donepezil Hydrochloride      15929403  102690416          0.155121\n",
       "3              Galantamine       1208543    9561130          0.126402\n",
       "4  Memantine Hydrochloride       6532484   63451228          0.102953"
      ]
     },
     "execution_count": 3,
     "metadata": {},
     "output_type": "execute_result"
    }
   ],
   "source": [
    "sql='''SELECT\n",
    "bnf.chemical,\n",
    "  SUM(CASE\n",
    "      WHEN quantity_per_item=7 THEN total_quantity\n",
    "      ELSE 0\n",
    "  END) AS seven_day_QI,\n",
    "  SUM(total_quantity) AS all_QI,\n",
    "  IEEE_DIVIDE(SUM(CASE\n",
    "      WHEN quantity_per_item=7 THEN total_quantity\n",
    "      ELSE 0\n",
    "  END),\n",
    "      SUM(total_quantity)) AS percent_7_day_QI\n",
    "FROM\n",
    "  ebmdatalab.hscic.raw_prescribing_normalised AS presc\n",
    "INNER JOIN\n",
    "  hscic.bnf as bnf\n",
    "ON\n",
    "  presc.bnf_code=bnf.presentation_code\n",
    "\n",
    "WHERE\n",
    "(presentation LIKE '%_Tab%' or presentation LIKE '%_Cap%')\n",
    "    AND SUBSTR(bnf_code,0,2) IN ('01','02','04','06') ## here we use common BNF chapters. Chapter 3 resp is excluded due to amount of inhalers\n",
    "GROUP BY\n",
    "bnf.chemical\n",
    "ORDER BY\n",
    "  percent_7_day_QI DESC\n",
    "    LIMIT 50'''\n",
    "\n",
    "\n",
    "df_ltc_meds = bq.cached_read(sql, csv_path='aspirin_sevendays.csv')\n",
    "df_ltc_meds.head(5)"
   ]
  },
  {
   "cell_type": "code",
   "execution_count": null,
   "metadata": {},
   "outputs": [],
   "source": []
  }
 ],
 "metadata": {
  "kernelspec": {
   "display_name": "Python 3",
   "language": "python",
   "name": "python3"
  },
  "language_info": {
   "codemirror_mode": {
    "name": "ipython",
    "version": 3
   },
   "file_extension": ".py",
   "mimetype": "text/x-python",
   "name": "python",
   "nbconvert_exporter": "python",
   "pygments_lexer": "ipython3",
   "version": "3.6.5"
  }
 },
 "nbformat": 4,
 "nbformat_minor": 2
}
