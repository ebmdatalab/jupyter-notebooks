{
 "cells": [
  {
   "cell_type": "markdown",
   "metadata": {},
   "source": [
    "## New Measure - gabapentin and pregabalin mg"
   ]
  },
  {
   "cell_type": "code",
   "execution_count": 1,
   "metadata": {},
   "outputs": [],
   "source": [
    "#import libraries required for analysis\n",
    "import pandas as pd\n",
    "import numpy as np\n",
    "import matplotlib\n",
    "import matplotlib.pyplot as plt\n",
    "from matplotlib.dates import DateFormatter\n",
    "from ebmdatalab import bq\n",
    "from ebmdatalab import charts\n",
    "from ebmdatalab import maps"
   ]
  },
  {
   "cell_type": "code",
   "execution_count": 2,
   "metadata": {},
   "outputs": [
    {
     "name": "stderr",
     "output_type": "stream",
     "text": [
      "C:\\Users\\bmackenna\\Anaconda3\\lib\\site-packages\\pandas\\io\\gbq.py:149: FutureWarning: verbose is deprecated and will be removed in a future version. Set logging level in order to vary verbosity\n",
      "  credentials=credentials, verbose=verbose, private_key=private_key)\n"
     ]
    }
   ],
   "source": [
    "sql = \"\"\"\n",
    "select pct, datetime(month) as month,'gabapentin' as drug,\n",
    "SUM(CASE WHEN bnf_code  like '0408010G0AAAAAA' THEN quantity *(100/60) \n",
    "WHEN bnf_code like '0408010G0AAABAB' THEN quantity *300 --Gabapentin_Cap 300mg (brands and generic)\n",
    "WHEN bnf_code like '0408010G0AAACAC' THEN quantity *400 --Gabapentin_Cap 400mg (brands and generic)\n",
    "WHEN bnf_code like '0408010G0AAADAD' THEN quantity *50 --Gabapentin_Pdrs 50mg (brands and generic)\n",
    "WHEN bnf_code like '0408010G0AAAEAE' THEN quantity *150 --Gabapentin_Pdrs 150mg (brands and generic)\n",
    "WHEN bnf_code like '0408010G0AAAFAF' THEN quantity *400 --Gabapentin_Pdrs 400mg (brands and generic)\n",
    "WHEN bnf_code like '0408010G0AAAGAG' THEN quantity *20 --Gabapentin_Liq Spec 100mg/5ml (brands and generic)\n",
    "WHEN bnf_code like '0408010G0AAAHAH' THEN quantity *300 --Gabapentin_Cap 300mg @gn (brands and generic)\n",
    "WHEN bnf_code like '0408010G0AAAIAI' THEN quantity *240 --Gabapentin_Pdrs 240mg (brands and generic)\n",
    "WHEN bnf_code like '0408010G0AAAJAJ' THEN quantity *600 --Gabapentin_Tab 600mg (brands and generic)\n",
    "WHEN bnf_code like '0408010G0AAAKAK' THEN quantity *800 --Gabapentin_Tab 800mg (brands and generic)\n",
    "WHEN bnf_code like '0408010G0AAALAL' THEN quantity *100 --Gabapentin_Cap 100mg @gn (brands and generic)\n",
    "WHEN bnf_code like '0408010G0AAAMAM' THEN quantity *400 --Gabapentin_Cap 400mg @gn (brands and generic)\n",
    "WHEN bnf_code like '0408010G0AAANAN' THEN quantity *30 --Gabapentin_Liq Spec 150mg/5ml (brands and generic)\n",
    "WHEN bnf_code like '0408010G0AAAPAP' THEN quantity *60 --Gabapentin_Liq Spec 300mg/5ml (brands and generic)\n",
    "WHEN bnf_code like '0408010G0AAAQAQ' THEN quantity *50 --Gabapentin_Liq Spec 250mg/5ml (brands and generic)\n",
    "WHEN bnf_code like '0408010G0AAARAR' THEN quantity *90 --Gabapentin_Liq Spec 450mg/5ml (brands and generic)\n",
    "WHEN bnf_code like '0408010G0AAASAS' THEN quantity *10 --Gabapentin_Liq Spec 50mg/5ml (brands and generic)\n",
    "WHEN bnf_code like '0408010G0AAATAT' THEN quantity *50 --Gabapentin_Oral Soln 250mg/5ml (brands and generic)\n",
    "WHEN bnf_code like '0408010G0AAAUAU' THEN quantity *50 --Gabapentin_Cap 50mg (brands and generic)\n",
    "WHEN bnf_code like '0408010G0AAAVAV' THEN quantity *100 --Gabapentin_Liq Spec 500mg/5ml (brands and generic)\n",
    "WHEN bnf_code like '0408010G0AAAWAW' THEN quantity *40 --Gabapentin_Liq Spec 200mg/5ml (brands and generic)\n",
    "WHEN bnf_code like '0408010G0AAAYAY' THEN quantity *80 --Gabapentin_Liq Spec 400mg/5ml (brands and generic)\n",
    "WHEN bnf_code like '0408010G0AAAZAZ' THEN quantity *140 --Gabapentin_Liq Spec 700mg/5ml (brands and generic)\n",
    "WHEN bnf_code like '0408010G0AABABA' THEN quantity *180 --Gabapentin_Liq Spec 900mg/5ml (brands and generic)\n",
    "WHEN bnf_code like '0408010G0AABBBB' THEN quantity *120 --Gabapentin_Liq Spec 600mg/5ml (brands and generic)\n",
    "WHEN bnf_code like '0408010G0AABCBC' THEN quantity *160 --Gabapentin_Liq Spec 800mg/5ml (brands and generic)\n",
    "WHEN bnf_code like '0408010G0AABDBD' THEN quantity *50 --Gabapentin_Oral Susp 250mg/5ml (brands and generic)\n",
    "WHEN bnf_code like '0408010G0AABEBE' THEN quantity *80 --Gabapentin_Oral Soln 400mg/5ml (brands and generic)\n",
    "WHEN bnf_code like '0408010G0AABFBF' THEN quantity *80 --Gabapentin_Oral Susp 400mg/5ml (brands and generic)\n",
    "WHEN bnf_code like '0408010G0AABGBG' THEN quantity *50 --Gabapentin_Oral Soln 50mg/ml S/F (brands and generic)\n",
    "else 0\n",
    "end)/6\n",
    "as pregab_mg\n",
    "from `hscic.normalised_prescribing_standard` \n",
    "where bnf_code like '0408010G0%'\n",
    "group by pct, month, drug\n",
    "\n",
    "union all\n",
    "\n",
    "select pct, datetime(month) as month, 'pregabalin' as drug, sum(lyrica_mg) as pregab_mg\n",
    "from measures.pregabalin_total_mg\n",
    "group by pct, month, drug\n",
    "\"\"\"\n",
    "gaba_df = bq.cached_read(sql, csv_path='cmpa_df.csv')\n",
    "#gaba_df['month'] = gaba_df['month'].astype('datetime64[ns]')"
   ]
  },
  {
   "cell_type": "code",
   "execution_count": 3,
   "metadata": {},
   "outputs": [
    {
     "data": {
      "text/html": [
       "<div>\n",
       "<style scoped>\n",
       "    .dataframe tbody tr th:only-of-type {\n",
       "        vertical-align: middle;\n",
       "    }\n",
       "\n",
       "    .dataframe tbody tr th {\n",
       "        vertical-align: top;\n",
       "    }\n",
       "\n",
       "    .dataframe thead th {\n",
       "        text-align: right;\n",
       "    }\n",
       "</style>\n",
       "<table border=\"1\" class=\"dataframe\">\n",
       "  <thead>\n",
       "    <tr style=\"text-align: right;\">\n",
       "      <th></th>\n",
       "      <th>pct</th>\n",
       "      <th>month</th>\n",
       "      <th>drug</th>\n",
       "      <th>pregab_mg</th>\n",
       "    </tr>\n",
       "  </thead>\n",
       "  <tbody>\n",
       "    <tr>\n",
       "      <th>0</th>\n",
       "      <td>01X</td>\n",
       "      <td>2012-01-01</td>\n",
       "      <td>gabapentin</td>\n",
       "      <td>5.915486e+06</td>\n",
       "    </tr>\n",
       "    <tr>\n",
       "      <th>1</th>\n",
       "      <td>01W</td>\n",
       "      <td>2012-01-01</td>\n",
       "      <td>gabapentin</td>\n",
       "      <td>8.961239e+06</td>\n",
       "    </tr>\n",
       "    <tr>\n",
       "      <th>2</th>\n",
       "      <td>02Q</td>\n",
       "      <td>2012-01-01</td>\n",
       "      <td>gabapentin</td>\n",
       "      <td>3.779257e+06</td>\n",
       "    </tr>\n",
       "    <tr>\n",
       "      <th>3</th>\n",
       "      <td>07M</td>\n",
       "      <td>2012-01-01</td>\n",
       "      <td>gabapentin</td>\n",
       "      <td>3.792789e+06</td>\n",
       "    </tr>\n",
       "    <tr>\n",
       "      <th>4</th>\n",
       "      <td>RXA</td>\n",
       "      <td>2012-01-01</td>\n",
       "      <td>gabapentin</td>\n",
       "      <td>1.000000e+04</td>\n",
       "    </tr>\n",
       "  </tbody>\n",
       "</table>\n",
       "</div>"
      ],
      "text/plain": [
       "   pct      month        drug     pregab_mg\n",
       "0  01X 2012-01-01  gabapentin  5.915486e+06\n",
       "1  01W 2012-01-01  gabapentin  8.961239e+06\n",
       "2  02Q 2012-01-01  gabapentin  3.779257e+06\n",
       "3  07M 2012-01-01  gabapentin  3.792789e+06\n",
       "4  RXA 2012-01-01  gabapentin  1.000000e+04"
      ]
     },
     "execution_count": 3,
     "metadata": {},
     "output_type": "execute_result"
    }
   ],
   "source": [
    "gaba_df.head()"
   ]
  },
  {
   "cell_type": "code",
   "execution_count": 13,
   "metadata": {},
   "outputs": [
    {
     "data": {
      "image/png": "[encoded data removed]",
      "text/plain": [
       "<Figure size 432x288 with 1 Axes>"
      ]
     },
     "metadata": {},
     "output_type": "display_data"
    }
   ],
   "source": [
    "gaba_gp_df=gaba_df.groupby(['month'])[['pregab_mg']].sum().plot(kind='line', title=\"Total mg of Gabapentinoids\")"
   ]
  },
  {
   "cell_type": "code",
   "execution_count": 10,
   "metadata": {},
   "outputs": [
    {
     "data": {
      "text/plain": [
       "<matplotlib.axes._subplots.AxesSubplot at 0x230ca9f0dd8>"
      ]
     },
     "execution_count": 10,
     "metadata": {},
     "output_type": "execute_result"
    },
    {
     "data": {
      "image/png": "[encoded data removed]",
      "text/plain": [
       "<Figure size 1440x720 with 1 Axes>"
      ]
     },
     "metadata": {},
     "output_type": "display_data"
    }
   ],
   "source": [
    "gaba_df.groupby(['month','drug'])['pregab_mg'].sum().unstack().fillna(0).plot.bar(stacked=True, title=\"Total mg of gabapentin and pregabalin\",figsize=(20,10))"
   ]
  },
  {
   "cell_type": "code",
   "execution_count": 11,
   "metadata": {},
   "outputs": [],
   "source": [
    "xtab_df=pd.crosstab(gaba_df.month,gaba_df.drug)"
   ]
  },
  {
   "cell_type": "code",
   "execution_count": 12,
   "metadata": {},
   "outputs": [
    {
     "data": {
      "text/html": [
       "<div>\n",
       "<style scoped>\n",
       "    .dataframe tbody tr th:only-of-type {\n",
       "        vertical-align: middle;\n",
       "    }\n",
       "\n",
       "    .dataframe tbody tr th {\n",
       "        vertical-align: top;\n",
       "    }\n",
       "\n",
       "    .dataframe thead th {\n",
       "        text-align: right;\n",
       "    }\n",
       "</style>\n",
       "<table border=\"1\" class=\"dataframe\">\n",
       "  <thead>\n",
       "    <tr style=\"text-align: right;\">\n",
       "      <th>drug</th>\n",
       "      <th>gabapentin</th>\n",
       "      <th>pregabalin</th>\n",
       "    </tr>\n",
       "    <tr>\n",
       "      <th>month</th>\n",
       "      <th></th>\n",
       "      <th></th>\n",
       "    </tr>\n",
       "  </thead>\n",
       "  <tbody>\n",
       "    <tr>\n",
       "      <th>2010-08-01</th>\n",
       "      <td>255</td>\n",
       "      <td>244</td>\n",
       "    </tr>\n",
       "    <tr>\n",
       "      <th>2010-09-01</th>\n",
       "      <td>256</td>\n",
       "      <td>246</td>\n",
       "    </tr>\n",
       "    <tr>\n",
       "      <th>2010-10-01</th>\n",
       "      <td>251</td>\n",
       "      <td>244</td>\n",
       "    </tr>\n",
       "    <tr>\n",
       "      <th>2010-11-01</th>\n",
       "      <td>262</td>\n",
       "      <td>252</td>\n",
       "    </tr>\n",
       "    <tr>\n",
       "      <th>2010-12-01</th>\n",
       "      <td>258</td>\n",
       "      <td>254</td>\n",
       "    </tr>\n",
       "  </tbody>\n",
       "</table>\n",
       "</div>"
      ],
      "text/plain": [
       "drug        gabapentin  pregabalin\n",
       "month                             \n",
       "2010-08-01         255         244\n",
       "2010-09-01         256         246\n",
       "2010-10-01         251         244\n",
       "2010-11-01         262         252\n",
       "2010-12-01         258         254"
      ]
     },
     "execution_count": 12,
     "metadata": {},
     "output_type": "execute_result"
    }
   ],
   "source": [
    "xtab_df.head()"
   ]
  },
  {
   "cell_type": "code",
   "execution_count": null,
   "metadata": {},
   "outputs": [],
   "source": []
  }
 ],
 "metadata": {
  "kernelspec": {
   "display_name": "Python 3",
   "language": "python",
   "name": "python3"
  },
  "language_info": {
   "codemirror_mode": {
    "name": "ipython",
    "version": 3
   },
   "file_extension": ".py",
   "mimetype": "text/x-python",
   "name": "python",
   "nbconvert_exporter": "python",
   "pygments_lexer": "ipython3",
   "version": "3.7.1"
  }
 },
 "nbformat": 4,
 "nbformat_minor": 2
}
