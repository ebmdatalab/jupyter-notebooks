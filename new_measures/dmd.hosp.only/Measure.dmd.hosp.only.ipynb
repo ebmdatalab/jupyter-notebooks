{
 "cells": [
  {
   "cell_type": "markdown",
   "metadata": {},
   "source": [
    "The [NHS Dictionary of Medicines and Devices](https://ebmdatalab.net/what-is-the-dmd-the-nhs-dictionary-of-medicines-and-devices/) designates certain medicines as hospital only as the manufacturer has specified it should generally be used in hospitals. This measure suports review and audit of appropriateness as sometimes they may be selected in error for example zuclopenthixol acetate [(blog here)](https://ebmdatalab.net/zuclopenthixol-acetate-a-new-kind-of-measure-on-openprescribing/).\n",
    "\n",
    "We have undertaken [detailed analysis here](https://github.com/ebmdatalab/dmd-hosp-only) and it is proposed that one of the outputs is a measure to suppport audit and review of \"hospital only\" prescribing in primary care."
   ]
  },
  {
   "cell_type": "markdown",
   "metadata": {},
   "source": [
    "## Proposed Measure"
   ]
  },
  {
   "cell_type": "markdown",
   "metadata": {},
   "source": [
    "**Title**: Hospital Only Prescribing"
   ]
  },
  {
   "cell_type": "markdown",
   "metadata": {},
   "source": [
    "**Definition**: Primary care prescribing of Hospital Only medicines as designated by the NHS Dictionary of Medicines and Devices per 1000 patients"
   ]
  },
  {
   "cell_type": "markdown",
   "metadata": {},
   "source": [
    "**Why It matters**: The [NHS Dictionary of Medicines and Devices](https://ebmdatalab.net/what-is-the-dmd-the-nhs-dictionary-of-medicines-and-devices/) designates certain medicines as hospital only as the manufacturer has specified it should generally be used in hospitals. This measure suports review and audit of appropriateness as sometimes they may be selected in error for example zuclopenthixol acetate [(blog here)](https://ebmdatalab.net/zuclopenthixol-acetate-a-new-kind-of-measure-on-openprescribing/)."
   ]
  },
  {
   "cell_type": "markdown",
   "metadata": {},
   "source": [
    "**Numerator**: Number of \"hospital only\" (as designated by dm+d) items prescribed in primary care. "
   ]
  },
  {
   "cell_type": "markdown",
   "metadata": {},
   "source": [
    "**Denominator**: list size, per 1000 paient"
   ]
  },
  {
   "cell_type": "markdown",
   "metadata": {},
   "source": [
    "## SQL and Results"
   ]
  },
  {
   "cell_type": "code",
   "execution_count": null,
   "metadata": {},
   "outputs": [],
   "source": [
    "#import libraries required for analysis\n",
    "import pandas as pd\n",
    "import numpy as np\n",
    "import matplotlib\n",
    "import matplotlib.pyplot as plt\n",
    "from ebmdatalab import bq\n",
    "from ebmdatalab import charts\n",
    "from ebmdatalab import maps"
   ]
  },
  {
   "cell_type": "code",
   "execution_count": null,
   "metadata": {},
   "outputs": [],
   "source": [
    "sql = '''\n",
    "SELECT\n",
    "  month,\n",
    "  practice,\n",
    "  pct,\n",
    "  bnf_name,\n",
    "  bnf_code,\n",
    "  SUM(items) AS total_items\n",
    "FROM\n",
    "  hscic.normalised_prescribing_standard\n",
    "INNER JOIN\n",
    "  hscic.practices pract\n",
    "ON\n",
    "  practice = pract.code\n",
    "WHERE\n",
    "  pract.setting = 4\n",
    "  AND bnf_code IN (\n",
    "  SELECT\n",
    "    DISTINCT(bnf_code)\n",
    "  FROM\n",
    "    ebmdatalab.staging_measures.dmd_objs_hospital_only\n",
    "  WHERE\n",
    "    bnf_code NOT LIKE '0406000S0%CAC' -- Ondansetron HCl_Tab 8mg\n",
    "    AND bnf_code NOT LIKE '0408010F0%BAB' -- Clonazepam_Tab 500mcg\n",
    "    AND bnf_code NOT LIKE '0408010F0%CAC' -- Clonazepam_Tab 2mg\n",
    "    AND bnf_code NOT LIKE '0703021Q0%AAAA' -- Desogestrel_Tab 75mcg\n",
    "    AND bnf_code NOT LIKE '0704050R0AAABAB' -- Tadalafil_Tab 20mg\n",
    "    )\n",
    "GROUP BY\n",
    "  practice,\n",
    "  pct,\n",
    "  month,\n",
    "  bnf_name,\n",
    "  bnf_code\n",
    "ORDER BY\n",
    "  practice,\n",
    "  month\n",
    "'''\n",
    "\n",
    "\n",
    "\n",
    "\n",
    "df_dmd_hosp = bq.cached_read(sql, csv_path='dmd_hosp_only.csv')\n",
    "df_dmd_hosp['month'] = df_dmd_hosp['month'].astype('datetime64[ns]')\n",
    "df_dmd_hosp.head(3)"
   ]
  },
  {
   "cell_type": "code",
   "execution_count": null,
   "metadata": {},
   "outputs": [],
   "source": [
    "df_dmd_hosp.groupby(\"month\")['total_items'].sum().plot(kind='line', title=\"Total items of dm+d hospital only medicines prescribing\")\n",
    "plt.ylim(0, )"
   ]
  },
  {
   "cell_type": "code",
   "execution_count": null,
   "metadata": {},
   "outputs": [],
   "source": [
    "sql2 = \"\"\"\n",
    "SELECT\n",
    "  month,\n",
    "  pct_id AS pct,\n",
    "  SUM(total_list_size) AS list_size\n",
    "FROM\n",
    "  ebmdatalab.hscic.practice_statistics\n",
    "GROUP BY\n",
    "  month,\n",
    "  pct\n",
    "ORDER BY\n",
    "  month,\n",
    "  pct,\n",
    "  list_size\n",
    "\"\"\"\n",
    "df_list = bq.cached_read(sql2, csv_path='listsize.csv')\n",
    "df_list['month'] = df_list['month'].astype('datetime64[ns]')\n",
    "df_list.head(5)"
   ]
  },
  {
   "cell_type": "code",
   "execution_count": null,
   "metadata": {},
   "outputs": [],
   "source": [
    "ccg_total_hosp = df_dmd_hosp.groupby([\"month\", \"pct\"])[\"total_items\"].sum().reset_index()\n",
    "ccg_total_hosp.head()"
   ]
  },
  {
   "cell_type": "code",
   "execution_count": null,
   "metadata": {},
   "outputs": [],
   "source": [
    "hosp_df_1000 = pd.merge(ccg_total_hosp, df_list, on=['month', 'pct'])\n",
    "hosp_df_1000['items_per_1000'] = 1000* (hosp_df_1000['total_items']/hosp_df_1000['list_size'])\n",
    "hosp_df_1000.head(5)"
   ]
  },
  {
   "cell_type": "code",
   "execution_count": null,
   "metadata": {},
   "outputs": [],
   "source": [
    "#create sample deciles & prototype measure\n",
    "charts.deciles_chart(\n",
    "        hosp_df_1000,\n",
    "        period_column='month',\n",
    "        column='items_per_1000',\n",
    "        title=\"Hospital only items per 1000 (Islington CCG) \",\n",
    "        show_outer_percentiles=False)\n",
    "\n",
    "#add in example CCG (Islington)\n",
    "df_subject = hosp_df_1000.loc[hosp_df_1000['pct'] == '08H']\n",
    "plt.plot(df_subject['month'], df_subject['items_per_1000'], 'r--')\n",
    "\n",
    "plt.show()"
   ]
  },
  {
   "cell_type": "code",
   "execution_count": null,
   "metadata": {},
   "outputs": [],
   "source": [
    "\n",
    "#create choropeth map of cost per 1000 patients\n",
    "plt.figure(figsize=(12, 7))\n",
    "latest_hosp_df_1000 = hosp_df_1000.loc[(hosp_df_1000['month'] >= '2019-04-01') & (hosp_df_1000['month'] <= '2019-10-01')]\n",
    "plt = maps.ccg_map(latest_hosp_df_1000, title=\"Hospital only items per 1000  \\n Apr - Oct 2019 \", column='items_per_1000', separate_london=True)\n",
    "plt.show()"
   ]
  },
  {
   "cell_type": "code",
   "execution_count": null,
   "metadata": {},
   "outputs": [],
   "source": []
  }
 ],
 "metadata": {
  "kernelspec": {
   "display_name": "Python 3",
   "language": "python",
   "name": "python3"
  },
  "language_info": {
   "codemirror_mode": {
    "name": "ipython",
    "version": 3
   },
   "file_extension": ".py",
   "mimetype": "text/x-python",
   "name": "python",
   "nbconvert_exporter": "python",
   "pygments_lexer": "ipython3",
   "version": "3.6.10"
  }
 },
 "nbformat": 4,
 "nbformat_minor": 2
}
