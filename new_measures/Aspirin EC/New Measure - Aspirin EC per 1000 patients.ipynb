{
 "cells": [
  {
   "cell_type": "markdown",
   "metadata": {
    "hideCode": false,
    "hidePrompt": false
   },
   "source": [
    "# New Measure - Aspirin EC 75mg tablets per 1000 patients"
   ]
  },
  {
   "cell_type": "markdown",
   "metadata": {
    "hideCode": false,
    "hidePrompt": false
   },
   "source": [
    "## Rationale\n",
    "\n",
    "Patients sometimes get prescribed aspirin with a \"gastro-resistant\" coating (also called enteric coating or EC) in order to protect from the gastro-intestinal side-effects associated with aspirin, by stopping the tablet dissolving in the stomach, and instead dissolving in the higher pH duodenum.\n",
    "\n",
    "However, according to UKMI, there is only weak evidence to suggest reduced blood loss or decreased GI ulceration with EC aspirin, and that it is insufficient to support a clinical benefit over standard release (plain) aspirin.  In addition, there is speculation that enteric coating reduces the anti-platelet effect of aspirin, and thus its efficacy in the prevention of cardiovascular events. The available evidence for this is conflicting. There is a theory of pseudoresistance reflecting delayed and reduced drug absorption with EC aspirin over normal plain aspirin.\n",
    "\n",
    "Therefore, EC aspirin should not be routinely used in preference to uncoated aspirin products.\n",
    "\n",
    "\n",
    "\n",
    "\n",
    "## Proposed Measure\n",
    "\n",
    "**Name:** Aspirin enteric-coated 75mg tablets prescribing per 1000 patients\n",
    "\n",
    "**Description:** Prescribing of aspirin enteric-coated 75mg tablet per 1000 registered patients \n",
    "\n",
    "**Why It Matters**: \n",
    "\n",
    "Patients sometimes get prescribed aspirin with a \"gastro-resistant\" coating (also called enteric coating or EC) in order to protect from the gastro-intestinal side-effects associated with aspirin, by stopping the tablet dissolving in the stomach, and instead dissolving in the higher pH duodenum.\n",
    "\n",
    "However, according to UKMI, there is only weak evidence to suggest reduced blood loss or decreased GI ulceration with EC aspirin, and that it is insufficient to support a clinical benefit over standard release (plain) aspirin.  In addition, there is speculation that enteric coating reduces the anti-platelet effect of aspirin, and thus its efficacy in the prevention of cardiovascular events. The available evidence for this is conflicting. There is a theory of pseudoresistance reflecting delayed and reduced drug absorption with EC aspirin over normal plain aspirin.\n",
    "\n",
    "Therefore, EC aspirin should not be routinely used in preference to uncoated aspirin products.\n",
    "\n",
    "\n",
    "### Numerators and Denominators\n",
    "\n",
    "Numerator: `bnf_code LIKE '0209000A0%AK' --Aspirin Tab_E/C 75mg`\n",
    "\n",
    "Denominator: patient list size\n",
    "\n"
   ]
  },
  {
   "cell_type": "markdown",
   "metadata": {
    "hideCode": false,
    "hidePrompt": false
   },
   "source": [
    "## SQL and results"
   ]
  },
  {
   "cell_type": "code",
   "execution_count": 1,
   "metadata": {
    "hideCode": false,
    "hidePrompt": false
   },
   "outputs": [],
   "source": [
    "#import libraries required for analysis\n",
    "import pandas as pd\n",
    "import numpy as np\n",
    "import matplotlib\n",
    "import matplotlib.pyplot as plt\n",
    "from ebmdatalab import bq\n",
    "from ebmdatalab import charts\n",
    "from ebmdatalab import maps"
   ]
  },
  {
   "cell_type": "code",
   "execution_count": 2,
   "metadata": {
    "hideCode": false,
    "hidePrompt": false
   },
   "outputs": [
    {
     "ename": "NameError",
     "evalue": "name 'asp_ec_df' is not defined",
     "output_type": "error",
     "traceback": [
      "\u001b[1;31m---------------------------------------------------------------------------\u001b[0m",
      "\u001b[1;31mNameError\u001b[0m                                 Traceback (most recent call last)",
      "\u001b[1;32m<ipython-input-2-6bd54baa8505>\u001b[0m in \u001b[0;36m<module>\u001b[1;34m\u001b[0m\n\u001b[0;32m     34\u001b[0m \"\"\"\n\u001b[0;32m     35\u001b[0m \u001b[0masp_ec__df\u001b[0m \u001b[1;33m=\u001b[0m \u001b[0mbq\u001b[0m\u001b[1;33m.\u001b[0m\u001b[0mcached_read\u001b[0m\u001b[1;33m(\u001b[0m\u001b[0msql\u001b[0m\u001b[1;33m,\u001b[0m \u001b[0mcsv_path\u001b[0m\u001b[1;33m=\u001b[0m\u001b[1;34m'asp_ec_df.csv'\u001b[0m\u001b[1;33m,\u001b[0m \u001b[0muse_cache\u001b[0m\u001b[1;33m=\u001b[0m\u001b[1;32mTrue\u001b[0m\u001b[1;33m)\u001b[0m\u001b[1;33m\u001b[0m\u001b[1;33m\u001b[0m\u001b[0m\n\u001b[1;32m---> 36\u001b[1;33m \u001b[0masp_ec_df\u001b[0m\u001b[1;33m[\u001b[0m\u001b[1;34m'month'\u001b[0m\u001b[1;33m]\u001b[0m \u001b[1;33m=\u001b[0m \u001b[0masp_ec_df\u001b[0m\u001b[1;33m[\u001b[0m\u001b[1;34m'month'\u001b[0m\u001b[1;33m]\u001b[0m\u001b[1;33m.\u001b[0m\u001b[0mastype\u001b[0m\u001b[1;33m(\u001b[0m\u001b[1;34m'datetime64[ns]'\u001b[0m\u001b[1;33m)\u001b[0m\u001b[1;33m\u001b[0m\u001b[1;33m\u001b[0m\u001b[0m\n\u001b[0m",
      "\u001b[1;31mNameError\u001b[0m: name 'asp_ec_df' is not defined"
     ]
    }
   ],
   "source": [
    "#calculate the number of items per 1000 patients for aspirin EC 75mg tabs (and brands)\n",
    "sql = \"\"\"\n",
    "SELECT rx.month, rx.pct, sum(rx.items) as items, total_list_size, \n",
    "1000*sum(ieee_divide(rx.items,total_list_size)) as measure --calculates number of items and items per 1000 patients\n",
    "FROM\n",
    "hscic.normalised_prescribing_standard as rx\n",
    "INNER JOIN (\n",
    "SELECT\n",
    "  prac.ccg_id as ccg,\n",
    "  month,\n",
    "  SUM(total_list_size) AS total_list_size\n",
    "FROM\n",
    "  hscic.practice_statistics AS prac_stats\n",
    "INNER JOIN\n",
    "  hscic.practices AS prac\n",
    "ON\n",
    "prac.code=prac_stats.practice\n",
    "INNER JOIN\n",
    "  hscic.ccgs as ccgs\n",
    "ON\n",
    "prac.ccg_id = ccgs.code\n",
    "WHERE\n",
    "ccgs.org_type = 'CCG'\n",
    "GROUP BY\n",
    "  month,\n",
    "  prac.ccg_id) AS stats --this creates the list size for a CCG, and ensures that only CCGs are included in the data\n",
    "ON\n",
    "  rx.month=stats.month\n",
    "  AND rx.pct=stats.ccg\n",
    "WHERE \n",
    "bnf_code LIKE '0209000A0%AK' --Aspirin Tab_E/C 75mg (brand and generic)\n",
    "GROUP BY rx.month, rx.pct, stats.total_list_size\n",
    "ORDER BY month\n",
    "\"\"\"\n",
    "asp_ec__df = bq.cached_read(sql, csv_path='asp_ec_df.csv', use_cache=True)\n",
    "asp_ec_df['month'] = asp_ec_df['month'].astype('datetime64[ns]')\n"
   ]
  },
  {
   "cell_type": "markdown",
   "metadata": {
    "hideCode": false,
    "hidePrompt": false
   },
   "source": [
    "## Changes in prescribing levels"
   ]
  },
  {
   "cell_type": "code",
   "execution_count": null,
   "metadata": {},
   "outputs": [],
   "source": [
    "#plot data on graph\n",
    "asp_ec_df.groupby([\"month\"])['items'].sum().plot(kind='line', title=\"Total items for aspirin EC 75mg tablets in England\")"
   ]
  },
  {
   "cell_type": "markdown",
   "metadata": {
    "hideCode": false,
    "hidePrompt": false
   },
   "source": [
    "This shows that, although reducing, there has been significant prescribing of aspirin EC 75mg tabs in the last five years."
   ]
  },
  {
   "cell_type": "markdown",
   "metadata": {
    "hideCode": false,
    "hidePrompt": false
   },
   "source": [
    "## Modelling for measure"
   ]
  },
  {
   "cell_type": "code",
   "execution_count": null,
   "metadata": {
    "hideCode": false,
    "hidePrompt": false
   },
   "outputs": [],
   "source": [
    "#create sample deciles\n",
    "charts.deciles_chart(\n",
    "        asp_ec_df,\n",
    "        period_column='month',\n",
    "        column='measure',\n",
    "        title=\"Aspirin EC 75mg tablet items per 1000 patients\",\n",
    "        show_outer_percentiles=True)\n",
    "\n",
    "#add in example CCG (Devon - 15N)\n",
    "df_subject = asp_ec_df.loc[asp_ec_df['pct'] == '15N']\n",
    "plt.plot(df_subject['month'], df_subject['measure'], 'r--')\n",
    "plt.show()"
   ]
  },
  {
   "cell_type": "markdown",
   "metadata": {
    "hideCode": false,
    "hidePrompt": false
   },
   "source": [
    "There is significant use in some CCGs, along with significant variation."
   ]
  },
  {
   "cell_type": "code",
   "execution_count": null,
   "metadata": {
    "hideCode": false,
    "hidePrompt": false
   },
   "outputs": [],
   "source": [
    "#create choropeth map of aspirin 75mg EC per 1000 patients\n",
    "plt.figure(figsize=(12, 7))\n",
    "latest_per_1000_df = asp_ec_df.loc[asp_ec_df['month'] == '2019-10-01']\n",
    "plt = maps.ccg_map(latest_per_1000_df, title=\"Aspirin EC 75mg tablet items per 1000 patients\\n(October 2019)\", column='measure', cartogram=False, separate_london=True)\n",
    "plt.show()"
   ]
  },
  {
   "cell_type": "markdown",
   "metadata": {},
   "source": [
    "## Proposed JSON"
   ]
  },
  {
   "cell_type": "markdown",
   "metadata": {},
   "source": [
    "```{\n",
    "  \"name\": \"Aspirin 75mg EC tablets\",\n",
    "  \"title\": [\n",
    "    \"Aspirin 75mg EC tablets prescribing per 1000 patients\"\n",
    "  ],\n",
    "  \"description\": [\n",
    "    \"Prescribing of aspirin 75mg EC tablets per 1000 registered patients\"\n",
    "  ],\n",
    "  \"why_it_matters\": [\n",
    "    \"<p>Patients sometimes get prescribed aspirin with a 'gastro-resistant' coating (also called enteric coating or EC) in \",\n",
    "    \"order to protect from the gastro-intestinal side-effects associated with aspirin, by stopping the tablet dissolving \",\n",
    "    \"in the stomach, and instead dissolving in the higher pH duodenum.</p>\",\n",
    "    \"<p>However, <a href='https://www.sps.nhs.uk/articles/is-there-evidence-to-support-the-use-of-enteric-coated-ec-aspirin-to-reduce-gastrointestinal-side-effects-in-patients-with-cardiovascular-disease/'>  \",\n",
    "    \"according to UKMI</a>, there is only weak evidence to suggest reduced blood loss or decreased GI ulceration \",\n",
    "    \"with EC aspirin, and that it is insufficient to support a clinical benefit over standard release (plain) aspirin. \",\n",
    "    \"In addition, there is speculation that enteric coating reduces the anti-platelet effect of aspirin, and thus its \",\n",
    "    \"efficacy in the prevention of cardiovascular events. The available evidence for this is conflicting. There is a \",\n",
    "    \"theory of pseudoresistance reflecting delayed and reduced drug absorption with EC aspirin over normal plain aspirin.</p>\",\n",
    "    \"<p>Therefore, EC aspirin should not be routinely used in preference to uncoated aspirin products.</p>\"\n",
    "  ],\n",
    "  \"numerator_short\": \"Vitamin B complex items\",\n",
    "  \"denominator_short\": \"1000 patients\",\n",
    "  \"url\": null,\n",
    "  \"is_percentage\": false,\n",
    "  \"is_cost_based\": false,\n",
    "  \"low_is_good\": true,\n",
    "  \"tags\": [\n",
    "    \"core\",\n",
    "    \"efficacy\",\n",
    "    \"nice\"\n",
    "  ],\n",
    "  \"numerator_type\": \"bnf_items\",\n",
    "  \"numerator_where\": [\n",
    "    \"bnf_code LIKE '0209000A0%AK' --Aspirin Tab_E/C 75mg (brand and generic)\"\n",
    "  ],\n",
    "  \"denominator_type\": \"list_size\",\n",
    "  \"date_reviewed\": [\n",
    "    \"\"\n",
    "  ],\n",
    "  \"next_review\": [\n",
    "    \"\"\n",
    "  ],\n",
    "  \"authored_by\": [\n",
    "    \"richard.croker@phc.ox.ac.uk\"\n",
    "  ],\n",
    "  \"checked_by\": [\n",
    "    \"\"\n",
    "  ],\n",
    "  \"measure_complexity\": [\n",
    "    \"low\"\n",
    "  ],\n",
    "  \"measure_notebook_url\": [\n",
    "    \"\"\n",
    "  ]\n",
    "}```"
   ]
  }
 ],
 "metadata": {
  "hide_code_all_hidden": false,
  "kernelspec": {
   "display_name": "Python 3",
   "language": "python",
   "name": "python3"
  },
  "language_info": {
   "codemirror_mode": {
    "name": "ipython",
    "version": 3
   },
   "file_extension": ".py",
   "mimetype": "text/x-python",
   "name": "python",
   "nbconvert_exporter": "python",
   "pygments_lexer": "ipython3",
   "version": "3.7.1"
  }
 },
 "nbformat": 4,
 "nbformat_minor": 2
}
