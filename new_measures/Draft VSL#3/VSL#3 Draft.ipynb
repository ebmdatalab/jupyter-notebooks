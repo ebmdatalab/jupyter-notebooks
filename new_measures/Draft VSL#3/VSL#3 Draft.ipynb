{
 "cells": [
  {
   "cell_type": "markdown",
   "metadata": {},
   "source": [
    "# New measure - VSL#3"
   ]
  },
  {
   "cell_type": "markdown",
   "metadata": {},
   "source": [
    "## Rationale"
   ]
  },
  {
   "cell_type": "markdown",
   "metadata": {},
   "source": [
    "The Advisory Committee on Borderline Substances (ACBS) is responsible for assessing and recommending products applying for listing in Part XV of the Drug Tariff. The ACBS recently reviewed some products listed in Part XV to ensure they are still clinically effective and appropriate to be listed here. They considered the probiotics VSL#3 and Vivomixx and advised the Secretary of State  for Health and Social Care to remove these products. The Secretary of State accepted this recommendation and removed the products from the drug tariff.\n",
    "\n",
    "\n",
    "The Committee concluded that the evidence did not sufficiently demonstrate that the products are clinically effective. Additionally the ACBS & MHRA’s consider the presentation of a product to prevent a clinical condition such as pouchitis as a specific medicinal claim. Therefore these products now fall within the definition of a medicine (not  a \"borderline\" substance) and should be regulated as such. Importantly this means that they are also allowed on prescription, despite them not currently being licnsed as a medicine and having been removed from the drug tariff as the evidence does not support them meeting the threshold for Part XV of the Drug Tariff."
   ]
  },
  {
   "cell_type": "markdown",
   "metadata": {},
   "source": [
    "## Proposed Measure"
   ]
  },
  {
   "cell_type": "markdown",
   "metadata": {},
   "source": [
    "_Title_ : Probiotics that have been removed from the drug tariff\n",
    "\n",
    "_Description_: Cost of VSL#3 and Vivomixx per 1000 patie\n",
    "\n",
    "_Why it matters_: The Advisory Committee on Borderline Substances has reconsidered the evidence for VSL#3 and Vivomixx to be listed in part XV of the Drug Tariff. The committee felt that the evidence does not meet the threshold for inclusion and the claims made that these preparations prevent medical conditions means they are more appropirtaely subject to medicines legislation. despite them not currently being licnsed as a medicine and having been removed from the drug tariff as the evidence does not support them meeting the threshold for Part XV of the Drug Tariff."
   ]
  },
  {
   "cell_type": "markdown",
   "metadata": {},
   "source": [
    "## Numerators & Denominators"
   ]
  },
  {
   "cell_type": "markdown",
   "metadata": {},
   "source": [
    "tbc (see SQL below)"
   ]
  },
  {
   "cell_type": "markdown",
   "metadata": {},
   "source": [
    "## SQL , Results and Graphs"
   ]
  },
  {
   "cell_type": "code",
   "execution_count": 1,
   "metadata": {},
   "outputs": [],
   "source": [
    "#import libraries required for analysis\n",
    "import pandas as pd\n",
    "import numpy as np\n",
    "import matplotlib\n",
    "import matplotlib.pyplot as plt\n",
    "from matplotlib.dates import DateFormatter\n",
    "from ebmdatalab import bq\n",
    "from ebmdatalab import charts\n",
    "from ebmdatalab import maps"
   ]
  },
  {
   "cell_type": "code",
   "execution_count": null,
   "metadata": {},
   "outputs": [
    {
     "name": "stderr",
     "output_type": "stream",
     "text": [
      "C:\\Users\\bmackenna\\Anaconda3\\lib\\site-packages\\pandas\\io\\gbq.py:149: FutureWarning: verbose is deprecated and will be removed in a future version. Set logging level in order to vary verbosity\n",
      "  credentials=credentials, verbose=verbose, private_key=private_key)\n"
     ]
    }
   ],
   "source": [
    "#obtain products and CCG level dataframe\n",
    "\n",
    "sql = \"\"\"\n",
    "SELECT\n",
    "month,\n",
    "pct,\n",
    "sum(items) as total_items,\n",
    "sum(actual_cost) as total_cost\n",
    "FROM\n",
    "hscic.normalised_prescribing_standard AS rx\n",
    "WHERE\n",
    "bnf_code LIKE '091104000BBNMA0' ##vsl3\n",
    "OR bnf_code LIKE '091104000BBNVAO' ##vivomix caps\n",
    "OR bnf_code LIKE '091104000BBNUAO' ##vivomix powder sachet\n",
    " GROUP BY\n",
    "  month,\n",
    "  pct\n",
    "ORDER BY\n",
    "  month\n",
    "\"\"\"\n",
    "df_vsl3 = bq.cached_read(sql, csv_path='df_vsl3.csv', use_cache=False)\n",
    "df_vsl3['month'] = df_vsl3['month'].astype('datetime64[ns]')\n",
    "df_vsl3.head(3)"
   ]
  },
  {
   "cell_type": "code",
   "execution_count": null,
   "metadata": {},
   "outputs": [],
   "source": [
    "df_vsl3.groupby(\"month\")['total_cost'].sum().plot(kind='line', title=\"Total cost of VSL#3 prescribing\")"
   ]
  },
  {
   "cell_type": "code",
   "execution_count": null,
   "metadata": {},
   "outputs": [],
   "source": [
    "ax = df_vsl3.groupby(\"month\")['total_items'].sum().plot(kind='line', title=\"Total items of VSL#3\")\n",
    "ax.axvline(pd.to_datetime('2018-11-01'), color='r', linestyle='--', lw=2)\n",
    "\n"
   ]
  },
  {
   "cell_type": "markdown",
   "metadata": {},
   "source": [
    "This looks like a 50% drop once the product was removed.  Although this is heartening that people responded so quickly to the removal of the product from the drug tariff, past experience tells us this is unlikely. This needs further investigation specificially (but in no particular order) a) did the bnf code change b) chatting to the team c) change in reimbursement policy inconsistently"
   ]
  },
  {
   "cell_type": "code",
   "execution_count": null,
   "metadata": {},
   "outputs": [],
   "source": [
    "##did the bnf code change? lets try soundslike the name as opposed to the codes\n",
    "sql3 = \"\"\"\n",
    "SELECT\n",
    "bnf_name,\n",
    "bnf_code,\n",
    "sum(items) as total_items,\n",
    "sum(actual_cost) as total_cost\n",
    "FROM\n",
    "hscic.normalised_prescribing_standard AS rx\n",
    "WHERE\n",
    "(bnf_name LIKE '%VSL%' \n",
    "or bnf_name LIKE '%Vivom%')  ##as soon as i put more than three letters in  it returns no results, hmm?\n",
    "and (month>='2018-01-01')\n",
    " GROUP BY\n",
    "bnf_name,\n",
    "bnf_code\n",
    "\"\"\"\n",
    "\n",
    "df_soundlike = bq.cached_read(sql3, csv_path='df_soundlike.csv')\n",
    "df_soundlike.head(10)"
   ]
  },
  {
   "cell_type": "markdown",
   "metadata": {},
   "source": [
    "This appears that there is a true drop and there genuinely only are 3 BNF codes associated with these names. \n",
    "\n",
    "My current theory is that prescriptions endorsed ACBS submitted after November are not reimbursed but products lacking the endorsement will be endorsed. Although this will probably need checking with BSA."
   ]
  },
  {
   "cell_type": "markdown",
   "metadata": {},
   "source": [
    "### Measure"
   ]
  },
  {
   "cell_type": "code",
   "execution_count": null,
   "metadata": {},
   "outputs": [],
   "source": [
    "##get list size info\n",
    "sql2 = \"\"\"\n",
    "SELECT month, \n",
    "pct_id AS pct,\n",
    "AVG(total_list_size) AS list_size\n",
    "FROM ebmdatalab.hscic.practice_statistics\n",
    "group by \n",
    "month, pct\n",
    "order by\n",
    "month, pct,\n",
    "list_size\n",
    "\"\"\"\n",
    "df_list = bq.cached_read(sql2, csv_path='df_list.csv')\n",
    "df_list['month'] = df_list['month'].astype('datetime64[ns]')\n",
    "df_list.head(5)"
   ]
  },
  {
   "cell_type": "code",
   "execution_count": null,
   "metadata": {},
   "outputs": [],
   "source": [
    "#merge dataframes and cost / 10000\n",
    "\n",
    "df_vsl_1000 = pd.merge(df_vsl3, df_list, on=['month', 'pct'])\n",
    "df_vsl_1000['cost_per_1000'] = 1000* (df_vsl_1000['total_cost']/df_vsl_1000['list_size'])\n",
    "df_vsl_1000.head(5)"
   ]
  },
  {
   "cell_type": "code",
   "execution_count": null,
   "metadata": {},
   "outputs": [],
   "source": [
    "#create sample deciles\n",
    "\n",
    "charts.deciles_chart(\n",
    "        df_vsl_1000,\n",
    "        period_column='month',\n",
    "        column='cost_per_1000',\n",
    "        title=\"VSL3 cost per 1000\",\n",
    "        show_outer_percentiles=True)\n",
    "\n",
    "#add in example CCG (Islington - 08H)\n",
    "df_subject = df_vsl_1000.loc[df_vsl_1000['pct'] == '08H']\n",
    "plt.plot(df_subject['month'], df_subject['cost_per_1000'], 'r--')\n",
    "\n",
    "plt.show()"
   ]
  },
  {
   "cell_type": "code",
   "execution_count": null,
   "metadata": {
    "scrolled": true
   },
   "outputs": [],
   "source": [
    "#create choropeth map of cost per 1000 patients\n",
    "plt.figure(figsize=(12, 7))\n",
    "latest_df_vsl_1000 = df_vsl_1000.loc[(df_vsl_1000['month'] >= '2018-11-01') & (df_vsl_1000['month'] <= '2019-01-01')]\n",
    "plt = maps.ccg_map(latest_df_vsl_1000, title=\"VSL Cost Since Being Revmoved\", column='cost_per_1000', separate_london=True)\n",
    "plt.show()"
   ]
  },
  {
   "cell_type": "markdown",
   "metadata": {},
   "source": [
    "if I go to latest months, the CCG changes (i presume) mean this error is returned\n",
    "\n",
    "##BaseException: Data contains CCG codes we don't know about: ['112']\n",
    "\n",
    "Alex has sorted this in GBG notebook - remind me to update\n"
   ]
  }
 ],
 "metadata": {
  "kernelspec": {
   "display_name": "Python 3",
   "language": "python",
   "name": "python3"
  },
  "language_info": {
   "codemirror_mode": {
    "name": "ipython",
    "version": 3
   },
   "file_extension": ".py",
   "mimetype": "text/x-python",
   "name": "python",
   "nbconvert_exporter": "python",
   "pygments_lexer": "ipython3",
   "version": "3.6.5"
  }
 },
 "nbformat": 4,
 "nbformat_minor": 2
}
