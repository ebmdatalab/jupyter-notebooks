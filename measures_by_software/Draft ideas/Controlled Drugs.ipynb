{
 "cells": [
  {
   "cell_type": "markdown",
   "metadata": {},
   "source": [
    "This notebook seeks to ascertain the effet of EHR on controlled drugs (CD). First we will start by looking at relevant OpenPrescribing measures and then focus on overall CD prascribing"
   ]
  },
  {
   "cell_type": "code",
   "execution_count": 1,
   "metadata": {},
   "outputs": [],
   "source": [
    "##import libraries neededd\n",
    "import pandas as pd\n",
    "import numpy as np\n",
    "from ebmdatalab import bq, maps, charts\n",
    "import matplotlib.pyplot as plt\n",
    "import matplotlib.gridspec as gridspec"
   ]
  },
  {
   "cell_type": "code",
   "execution_count": 2,
   "metadata": {},
   "outputs": [],
   "source": [
    "## ensuring the format is consistent for pounds and pence\n",
    "pd.set_option('display.float_format', lambda x: '%.2f' % x)"
   ]
  },
  {
   "cell_type": "markdown",
   "metadata": {},
   "source": [
    "## Part 1 OpenPrescribing Measures"
   ]
  },
  {
   "cell_type": "markdown",
   "metadata": {},
   "source": [
    "As per the DataLab [paper on opioids](https://www.sciencedirect.com/science/article/pii/S2215036618304711) we should focus on measures where an adjustment has been made for tota qunatity.\n",
    "\n",
    "Releavnt Measures\n",
    "- https://openprescribing.net/measure/bdzper1000/\n",
    "- https://openprescribing.net/measure/bdzadq/\n",
    "- https://openprescribing.net/measure/opioidspercent/\n",
    "- https://openprescribing.net/measure/opioidper1000/\n",
    "- https://openprescribing.net/measure/lpfentanylir/\n",
    "- https://openprescribing.net/measure/lpoxycodone/\n",
    "- https://openprescribing.net/measure/gabapentinoidsddd/\n",
    "- https://openprescribing.net/measure/opioidome/\n",
    "- https://openprescribing.net/measure/pregabalin/\n",
    "- https://openprescribing.net/measure/pregabalinmg/\n",
    "    \n",
    "    \n",
    "    "
   ]
  },
  {
   "cell_type": "code",
   "execution_count": null,
   "metadata": {},
   "outputs": [],
   "source": [
    "import importlib\n",
    "importlib.reload(bq)\n",
    "cdmeasures = ['pregabalin', 'bdzadq', 'opioidspercent', 'opioidome', 'pregabalinmg', 'opioidper1000', 'bdzper1000',]\n",
    "\n",
    "def get_data(measure_id):\n",
    "    sql = \"\"\"\n",
    "SELECT\n",
    "  TRIM(Principal_Supplier) AS supplier,\n",
    "  Date as month,\n",
    "  numerator,\n",
    "  denominator,\n",
    "  '{measure_id}' AS measure_id\n",
    "FROM\n",
    "  measures.practice_data_{measure_id} as m\n",
    "JOIN\n",
    "  ebmdatalab.alex.vendors as software #this is where the up to date vendors table is held\n",
    "ON\n",
    "  software.ODS = practice_id\n",
    "  AND DATE(Date) = m.month\n",
    "JOIN\n",
    "  hscic.practices\n",
    "ON\n",
    "  practices.code = software.ODS\n",
    "JOIN\n",
    "  hscic.practice_statistics\n",
    "ON\n",
    "  practice_statistics.practice = practices.code\n",
    "  AND Date = practice_statistics.month\n",
    "WHERE\n",
    "total_list_size > 100\n",
    "  AND denominator > 0\n",
    "ORDER BY\n",
    "  m.month\"\"\".format(measure_id=measure_id)\n",
    "    import pandas as pd\n",
    "    df = bq.cached_read(sql, csv_path=\"cd_measures.csv\".format(measure_id))\n",
    "    return df\n",
    "\n",
    "\n",
    "df_measures = get_data('ciclosporin')\n",
    "df_measures = df2a.replace(['TPP'],'SystmOne')\n",
    "df_measures.rename(columns={'pct_id':'pct'}, inplace=True) ##prep for maps library whe  pct must be colum name\n",
    "df_measures.head(5)"
   ]
  }
 ],
 "metadata": {
  "kernelspec": {
   "display_name": "Python 3",
   "language": "python",
   "name": "python3"
  },
  "language_info": {
   "codemirror_mode": {
    "name": "ipython",
    "version": 3
   },
   "file_extension": ".py",
   "mimetype": "text/x-python",
   "name": "python",
   "nbconvert_exporter": "python",
   "pygments_lexer": "ipython3",
   "version": "3.6.5"
  }
 },
 "nbformat": 4,
 "nbformat_minor": 2
}
