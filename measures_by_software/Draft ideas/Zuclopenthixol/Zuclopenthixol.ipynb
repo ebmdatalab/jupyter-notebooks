{
 "cells": [
  {
   "cell_type": "markdown",
   "metadata": {},
   "source": [
    "Zuclopenthixol is an antipsychotic used for schizophrenia and other types psychoses. In the UK, there are two injecatable forms available\n",
    " - Zuclopenthixol **acetate** : a short acting treatment used for acute episodes \n",
    " - Zuclopenthixol **decanoate** : a long acting treatment used for maintenance\n",
    " \n",
    " The [BNF has a safety warning](https://bnf.nice.org.uk/drug/zuclopenthixol-acetate.html) on both medicines advising that **acetate** preparartions are used in hospitals in acute epeisodes while **deconate** preparations are used in the community. The implcation being that **acetate** should not be prescribed in primary care.\n",
    " \n",
    " Initial analysis of the ANalyse page reports [30,398 items for **Decanoate**](https://openprescribing.net/analyse/#org=CCG&numIds=0402020Z0&denom=nothing&selectedTab=summary) and [61 items for **acetate**](https://openprescribing.net/analyse/#org=CCG&numIds=040201010&denom=total_list_size&selectedTab=summary) in the last 12 months. We have been told that quite often **acetate** is prescribed in error in primary care and really if it should not be prescribed it should not be available on the picking list. This notebook aims to see if there are any differences between EHRs"
   ]
  },
  {
   "cell_type": "code",
   "execution_count": 1,
   "metadata": {},
   "outputs": [],
   "source": [
    "#import libraries required for analysis\n",
    "import pandas as pd\n",
    "import numpy as np\n",
    "import matplotlib\n",
    "import matplotlib.pyplot as plt\n",
    "from matplotlib.dates import DateFormatter\n",
    "from ebmdatalab import bq\n",
    "from ebmdatalab import charts\n",
    "from ebmdatalab import maps"
   ]
  },
  {
   "cell_type": "code",
   "execution_count": 2,
   "metadata": {},
   "outputs": [
    {
     "data": {
      "text/html": [
       "<div>\n",
       "<style scoped>\n",
       "    .dataframe tbody tr th:only-of-type {\n",
       "        vertical-align: middle;\n",
       "    }\n",
       "\n",
       "    .dataframe tbody tr th {\n",
       "        vertical-align: top;\n",
       "    }\n",
       "\n",
       "    .dataframe thead th {\n",
       "        text-align: right;\n",
       "    }\n",
       "</style>\n",
       "<table border=\"1\" class=\"dataframe\">\n",
       "  <thead>\n",
       "    <tr style=\"text-align: right;\">\n",
       "      <th></th>\n",
       "      <th>month</th>\n",
       "      <th>supplier</th>\n",
       "      <th>practice</th>\n",
       "      <th>pct</th>\n",
       "      <th>chemical_code</th>\n",
       "      <th>chemical</th>\n",
       "      <th>total_items</th>\n",
       "      <th>total_cost</th>\n",
       "    </tr>\n",
       "  </thead>\n",
       "  <tbody>\n",
       "    <tr>\n",
       "      <th>0</th>\n",
       "      <td>2016-01-01</td>\n",
       "      <td>EMIS</td>\n",
       "      <td>P81100</td>\n",
       "      <td>01A</td>\n",
       "      <td>0402020Z0</td>\n",
       "      <td>Zuclopenthixol Decanoate</td>\n",
       "      <td>4</td>\n",
       "      <td>77.85</td>\n",
       "    </tr>\n",
       "    <tr>\n",
       "      <th>1</th>\n",
       "      <td>2016-01-01</td>\n",
       "      <td>TPP</td>\n",
       "      <td>A86036</td>\n",
       "      <td>13T</td>\n",
       "      <td>0402020Z0</td>\n",
       "      <td>Zuclopenthixol Decanoate</td>\n",
       "      <td>2</td>\n",
       "      <td>57.75</td>\n",
       "    </tr>\n",
       "    <tr>\n",
       "      <th>2</th>\n",
       "      <td>2016-01-01</td>\n",
       "      <td>Unknown</td>\n",
       "      <td>P83019</td>\n",
       "      <td>00V</td>\n",
       "      <td>0402020Z0</td>\n",
       "      <td>Zuclopenthixol Decanoate</td>\n",
       "      <td>3</td>\n",
       "      <td>14.88</td>\n",
       "    </tr>\n",
       "  </tbody>\n",
       "</table>\n",
       "</div>"
      ],
      "text/plain": [
       "       month supplier practice  pct chemical_code                  chemical  \\\n",
       "0 2016-01-01     EMIS   P81100  01A     0402020Z0  Zuclopenthixol Decanoate   \n",
       "1 2016-01-01      TPP   A86036  13T     0402020Z0  Zuclopenthixol Decanoate   \n",
       "2 2016-01-01  Unknown   P83019  00V     0402020Z0  Zuclopenthixol Decanoate   \n",
       "\n",
       "   total_items  total_cost  \n",
       "0            4       77.85  \n",
       "1            2       57.75  \n",
       "2            3       14.88  "
      ]
     },
     "execution_count": 2,
     "metadata": {},
     "output_type": "execute_result"
    }
   ],
   "source": [
    "sql = \"\"\"\n",
    "WITH\n",
    "bnf_tab AS (\n",
    "SELECT\n",
    "DISTINCT chemical,\n",
    "chemical_code\n",
    "FROM\n",
    "ebmdatalab.hscic.bnf )\n",
    "SELECT\n",
    "rx.month,\n",
    "TRIM(Principal_Supplier) AS supplier,\n",
    "rx.practice,\n",
    "rx.pct,\n",
    "SUBSTR(rx.bnf_code,1,9) AS chemical_code,\n",
    "chemical,\n",
    "sum(items) as total_items,\n",
    "sum(actual_cost) as total_cost\n",
    "FROM\n",
    "hscic.normalised_prescribing_standard AS rx\n",
    "LEFT JOIN\n",
    "bnf_tab\n",
    "ON\n",
    "chemical_code =SUBSTR(rx.bnf_code,1,9)\n",
    "JOIN\n",
    "hscic.practice_statistics AS prac\n",
    "ON\n",
    "rx.practice = prac.practice AND prac.month = rx.month\n",
    "JOIN\n",
    "  alex.vendors AS software\n",
    "ON\n",
    "  software.ODS = rx.practice\n",
    "  AND Date = rx.month\n",
    "JOIN\n",
    "  hscic.practices as practices\n",
    "ON\n",
    "  practices.code = software.ODS\n",
    "WHERE\n",
    "  practices.setting = 4\n",
    "  AND total_list_size > 100\n",
    "  AND (bnf_code LIKE \"040201010%\" OR ##acetate\n",
    "  bnf_code LIKE \"0402020Z0%\") ##Decanoate\n",
    "GROUP BY\n",
    "rx.month,\n",
    "supplier,\n",
    "rx.practice,\n",
    "rx.pct,\n",
    "chemical_code,\n",
    "chemical\n",
    "ORDER BY\n",
    "month\"\"\"\n",
    "\n",
    "df_zuclo = bq.cached_read(sql, csv_path='zuclo.csv')\n",
    "df_zuclo['month'] = df_zuclo['month'].astype('datetime64[ns]')\n",
    "df_zuclo.head(3)"
   ]
  },
  {
   "cell_type": "code",
   "execution_count": 3,
   "metadata": {},
   "outputs": [
    {
     "data": {
      "text/plain": [
       "array(['Zuclopenthixol Decanoate', 'Zuclopenthixol Acetate'], dtype=object)"
      ]
     },
     "execution_count": 3,
     "metadata": {},
     "output_type": "execute_result"
    }
   ],
   "source": [
    "##here we check the BNF name to see if products included look correct and no coding changes.\n",
    "df_zuclo[\"chemical\"].unique()"
   ]
  },
  {
   "cell_type": "code",
   "execution_count": 4,
   "metadata": {},
   "outputs": [
    {
     "data": {
      "text/html": [
       "<div>\n",
       "<style scoped>\n",
       "    .dataframe tbody tr th:only-of-type {\n",
       "        vertical-align: middle;\n",
       "    }\n",
       "\n",
       "    .dataframe tbody tr th {\n",
       "        vertical-align: top;\n",
       "    }\n",
       "\n",
       "    .dataframe thead th {\n",
       "        text-align: right;\n",
       "    }\n",
       "</style>\n",
       "<table border=\"1\" class=\"dataframe\">\n",
       "  <thead>\n",
       "    <tr style=\"text-align: right;\">\n",
       "      <th></th>\n",
       "      <th>month</th>\n",
       "      <th>supplier</th>\n",
       "      <th>practice</th>\n",
       "      <th>pct</th>\n",
       "      <th>chemical_code</th>\n",
       "      <th>chemical</th>\n",
       "      <th>total_items</th>\n",
       "      <th>total_cost</th>\n",
       "    </tr>\n",
       "  </thead>\n",
       "  <tbody>\n",
       "    <tr>\n",
       "      <th>0</th>\n",
       "      <td>2016-01-01</td>\n",
       "      <td>EMIS</td>\n",
       "      <td>P81100</td>\n",
       "      <td>01A</td>\n",
       "      <td>0402020Z0</td>\n",
       "      <td>Zuclopenthixol Decanoate</td>\n",
       "      <td>4</td>\n",
       "      <td>77.85</td>\n",
       "    </tr>\n",
       "    <tr>\n",
       "      <th>1</th>\n",
       "      <td>2016-01-01</td>\n",
       "      <td>TPP</td>\n",
       "      <td>A86036</td>\n",
       "      <td>13T</td>\n",
       "      <td>0402020Z0</td>\n",
       "      <td>Zuclopenthixol Decanoate</td>\n",
       "      <td>2</td>\n",
       "      <td>57.75</td>\n",
       "    </tr>\n",
       "    <tr>\n",
       "      <th>2</th>\n",
       "      <td>2016-01-01</td>\n",
       "      <td>Unknown</td>\n",
       "      <td>P83019</td>\n",
       "      <td>00V</td>\n",
       "      <td>0402020Z0</td>\n",
       "      <td>Zuclopenthixol Decanoate</td>\n",
       "      <td>3</td>\n",
       "      <td>14.88</td>\n",
       "    </tr>\n",
       "    <tr>\n",
       "      <th>3</th>\n",
       "      <td>2016-01-01</td>\n",
       "      <td>EMIS</td>\n",
       "      <td>F84083</td>\n",
       "      <td>08V</td>\n",
       "      <td>0402020Z0</td>\n",
       "      <td>Zuclopenthixol Decanoate</td>\n",
       "      <td>1</td>\n",
       "      <td>5.93</td>\n",
       "    </tr>\n",
       "    <tr>\n",
       "      <th>4</th>\n",
       "      <td>2016-01-01</td>\n",
       "      <td>TPP</td>\n",
       "      <td>E81007</td>\n",
       "      <td>06F</td>\n",
       "      <td>0402020Z0</td>\n",
       "      <td>Zuclopenthixol Decanoate</td>\n",
       "      <td>2</td>\n",
       "      <td>11.64</td>\n",
       "    </tr>\n",
       "  </tbody>\n",
       "</table>\n",
       "</div>"
      ],
      "text/plain": [
       "       month supplier practice  pct chemical_code                  chemical  \\\n",
       "0 2016-01-01     EMIS   P81100  01A     0402020Z0  Zuclopenthixol Decanoate   \n",
       "1 2016-01-01      TPP   A86036  13T     0402020Z0  Zuclopenthixol Decanoate   \n",
       "2 2016-01-01  Unknown   P83019  00V     0402020Z0  Zuclopenthixol Decanoate   \n",
       "3 2016-01-01     EMIS   F84083  08V     0402020Z0  Zuclopenthixol Decanoate   \n",
       "4 2016-01-01      TPP   E81007  06F     0402020Z0  Zuclopenthixol Decanoate   \n",
       "\n",
       "   total_items  total_cost  \n",
       "0            4       77.85  \n",
       "1            2       57.75  \n",
       "2            3       14.88  \n",
       "3            1        5.93  \n",
       "4            2       11.64  "
      ]
     },
     "execution_count": 4,
     "metadata": {},
     "output_type": "execute_result"
    }
   ],
   "source": [
    "df_decan = df_zuclo.loc[df_zuclo[\"chemical\"] == \"Zuclopenthixol Decanoate\"]\n",
    "df_decan.head()"
   ]
  },
  {
   "cell_type": "code",
   "execution_count": 5,
   "metadata": {},
   "outputs": [
    {
     "data": {
      "text/html": [
       "<div>\n",
       "<style scoped>\n",
       "    .dataframe tbody tr th:only-of-type {\n",
       "        vertical-align: middle;\n",
       "    }\n",
       "\n",
       "    .dataframe tbody tr th {\n",
       "        vertical-align: top;\n",
       "    }\n",
       "\n",
       "    .dataframe thead th {\n",
       "        text-align: right;\n",
       "    }\n",
       "</style>\n",
       "<table border=\"1\" class=\"dataframe\">\n",
       "  <thead>\n",
       "    <tr style=\"text-align: right;\">\n",
       "      <th></th>\n",
       "      <th>month</th>\n",
       "      <th>supplier</th>\n",
       "      <th>practice</th>\n",
       "      <th>pct</th>\n",
       "      <th>chemical_code</th>\n",
       "      <th>chemical</th>\n",
       "      <th>total_items</th>\n",
       "      <th>total_cost</th>\n",
       "    </tr>\n",
       "  </thead>\n",
       "  <tbody>\n",
       "    <tr>\n",
       "      <th>209</th>\n",
       "      <td>2016-01-01</td>\n",
       "      <td>EMIS</td>\n",
       "      <td>F81018</td>\n",
       "      <td>06T</td>\n",
       "      <td>040201010</td>\n",
       "      <td>Zuclopenthixol Acetate</td>\n",
       "      <td>1</td>\n",
       "      <td>9.05</td>\n",
       "    </tr>\n",
       "    <tr>\n",
       "      <th>265</th>\n",
       "      <td>2016-01-01</td>\n",
       "      <td>TPP</td>\n",
       "      <td>L84046</td>\n",
       "      <td>11M</td>\n",
       "      <td>040201010</td>\n",
       "      <td>Zuclopenthixol Acetate</td>\n",
       "      <td>1</td>\n",
       "      <td>44.73</td>\n",
       "    </tr>\n",
       "    <tr>\n",
       "      <th>776</th>\n",
       "      <td>2016-01-01</td>\n",
       "      <td>EMIS</td>\n",
       "      <td>M88007</td>\n",
       "      <td>05L</td>\n",
       "      <td>040201010</td>\n",
       "      <td>Zuclopenthixol Acetate</td>\n",
       "      <td>1</td>\n",
       "      <td>35.89</td>\n",
       "    </tr>\n",
       "    <tr>\n",
       "      <th>782</th>\n",
       "      <td>2016-01-01</td>\n",
       "      <td>EMIS</td>\n",
       "      <td>M92024</td>\n",
       "      <td>06A</td>\n",
       "      <td>040201010</td>\n",
       "      <td>Zuclopenthixol Acetate</td>\n",
       "      <td>1</td>\n",
       "      <td>22.37</td>\n",
       "    </tr>\n",
       "    <tr>\n",
       "      <th>1130</th>\n",
       "      <td>2016-01-01</td>\n",
       "      <td>EMIS</td>\n",
       "      <td>K81651</td>\n",
       "      <td>15A</td>\n",
       "      <td>040201010</td>\n",
       "      <td>Zuclopenthixol Acetate</td>\n",
       "      <td>2</td>\n",
       "      <td>18.11</td>\n",
       "    </tr>\n",
       "  </tbody>\n",
       "</table>\n",
       "</div>"
      ],
      "text/plain": [
       "          month supplier practice  pct chemical_code                chemical  \\\n",
       "209  2016-01-01     EMIS   F81018  06T     040201010  Zuclopenthixol Acetate   \n",
       "265  2016-01-01      TPP   L84046  11M     040201010  Zuclopenthixol Acetate   \n",
       "776  2016-01-01     EMIS   M88007  05L     040201010  Zuclopenthixol Acetate   \n",
       "782  2016-01-01     EMIS   M92024  06A     040201010  Zuclopenthixol Acetate   \n",
       "1130 2016-01-01     EMIS   K81651  15A     040201010  Zuclopenthixol Acetate   \n",
       "\n",
       "      total_items  total_cost  \n",
       "209             1        9.05  \n",
       "265             1       44.73  \n",
       "776             1       35.89  \n",
       "782             1       22.37  \n",
       "1130            2       18.11  "
      ]
     },
     "execution_count": 5,
     "metadata": {},
     "output_type": "execute_result"
    }
   ],
   "source": [
    "df_acetate = df_zuclo.loc[df_zuclo[\"chemical\"] == \"Zuclopenthixol Acetate\"]\n",
    "df_acetate.head()\n"
   ]
  },
  {
   "cell_type": "code",
   "execution_count": 6,
   "metadata": {},
   "outputs": [
    {
     "data": {
      "text/html": [
       "<div>\n",
       "<style scoped>\n",
       "    .dataframe tbody tr th:only-of-type {\n",
       "        vertical-align: middle;\n",
       "    }\n",
       "\n",
       "    .dataframe tbody tr th {\n",
       "        vertical-align: top;\n",
       "    }\n",
       "\n",
       "    .dataframe thead th {\n",
       "        text-align: right;\n",
       "    }\n",
       "</style>\n",
       "<table border=\"1\" class=\"dataframe\">\n",
       "  <thead>\n",
       "    <tr style=\"text-align: right;\">\n",
       "      <th></th>\n",
       "      <th>month</th>\n",
       "      <th>supplier</th>\n",
       "      <th>total_items</th>\n",
       "    </tr>\n",
       "  </thead>\n",
       "  <tbody>\n",
       "    <tr>\n",
       "      <th>0</th>\n",
       "      <td>2016-01-01</td>\n",
       "      <td>EMIS</td>\n",
       "      <td>6</td>\n",
       "    </tr>\n",
       "    <tr>\n",
       "      <th>1</th>\n",
       "      <td>2016-01-01</td>\n",
       "      <td>TPP</td>\n",
       "      <td>1</td>\n",
       "    </tr>\n",
       "    <tr>\n",
       "      <th>2</th>\n",
       "      <td>2016-02-01</td>\n",
       "      <td>EMIS</td>\n",
       "      <td>7</td>\n",
       "    </tr>\n",
       "    <tr>\n",
       "      <th>3</th>\n",
       "      <td>2016-02-01</td>\n",
       "      <td>TPP</td>\n",
       "      <td>2</td>\n",
       "    </tr>\n",
       "    <tr>\n",
       "      <th>4</th>\n",
       "      <td>2016-03-01</td>\n",
       "      <td>EMIS</td>\n",
       "      <td>9</td>\n",
       "    </tr>\n",
       "    <tr>\n",
       "      <th>5</th>\n",
       "      <td>2016-03-01</td>\n",
       "      <td>TPP</td>\n",
       "      <td>2</td>\n",
       "    </tr>\n",
       "    <tr>\n",
       "      <th>6</th>\n",
       "      <td>2016-04-01</td>\n",
       "      <td>EMIS</td>\n",
       "      <td>9</td>\n",
       "    </tr>\n",
       "    <tr>\n",
       "      <th>7</th>\n",
       "      <td>2016-04-01</td>\n",
       "      <td>TPP</td>\n",
       "      <td>1</td>\n",
       "    </tr>\n",
       "    <tr>\n",
       "      <th>8</th>\n",
       "      <td>2016-05-01</td>\n",
       "      <td>EMIS</td>\n",
       "      <td>10</td>\n",
       "    </tr>\n",
       "    <tr>\n",
       "      <th>9</th>\n",
       "      <td>2016-05-01</td>\n",
       "      <td>TPP</td>\n",
       "      <td>1</td>\n",
       "    </tr>\n",
       "  </tbody>\n",
       "</table>\n",
       "</div>"
      ],
      "text/plain": [
       "       month supplier  total_items\n",
       "0 2016-01-01     EMIS            6\n",
       "1 2016-01-01      TPP            1\n",
       "2 2016-02-01     EMIS            7\n",
       "3 2016-02-01      TPP            2\n",
       "4 2016-03-01     EMIS            9\n",
       "5 2016-03-01      TPP            2\n",
       "6 2016-04-01     EMIS            9\n",
       "7 2016-04-01      TPP            1\n",
       "8 2016-05-01     EMIS           10\n",
       "9 2016-05-01      TPP            1"
      ]
     },
     "execution_count": 6,
     "metadata": {},
     "output_type": "execute_result"
    }
   ],
   "source": [
    "df = df_acetate.groupby(['month','supplier'])['total_items'].sum().reset_index()\n",
    "df.head(10)"
   ]
  },
  {
   "cell_type": "code",
   "execution_count": 7,
   "metadata": {},
   "outputs": [
    {
     "name": "stdout",
     "output_type": "stream",
     "text": [
      "<class 'pandas.core.frame.DataFrame'>\n",
      "RangeIndex: 84 entries, 0 to 83\n",
      "Data columns (total 3 columns):\n",
      "month          84 non-null datetime64[ns]\n",
      "supplier       84 non-null object\n",
      "total_items    84 non-null int64\n",
      "dtypes: datetime64[ns](1), int64(1), object(1)\n",
      "memory usage: 2.0+ KB\n"
     ]
    }
   ],
   "source": [
    "df.info()"
   ]
  },
  {
   "cell_type": "code",
   "execution_count": 8,
   "metadata": {},
   "outputs": [
    {
     "data": {
      "text/plain": [
       "Text(0.5,1,'Zuclopenthixol Acetate, total items per supplier')"
      ]
     },
     "execution_count": 8,
     "metadata": {},
     "output_type": "execute_result"
    },
    {
     "data": {
      "image/png": "[encoded data removed]",
      "text/plain": [
       "<Figure size 432x288 with 1 Axes>"
      ]
     },
     "metadata": {},
     "output_type": "display_data"
    }
   ],
   "source": [
    "df_acetate.groupby(['month', 'supplier']).sum()['total_items'].unstack().plot.line()\n",
    "plt.legend(loc='best')\n",
    "plt.ylim(0, 15)\n",
    "plt.title(\"Zuclopenthixol Acetate, total items per supplier\")"
   ]
  },
  {
   "cell_type": "code",
   "execution_count": 9,
   "metadata": {},
   "outputs": [
    {
     "data": {
      "text/plain": [
       "Text(0.5,1,'Zuclopenthixol Decanoate, total items per supplier')"
      ]
     },
     "execution_count": 9,
     "metadata": {},
     "output_type": "execute_result"
    },
    {
     "data": {
      "image/png": "[encoded data removed]",
      "text/plain": [
       "<Figure size 432x288 with 1 Axes>"
      ]
     },
     "metadata": {},
     "output_type": "display_data"
    }
   ],
   "source": [
    "df_decan.groupby(['month', 'supplier']).sum()['total_items'].unstack().plot.line()\n",
    "plt.legend(loc='upper left')\n",
    "plt.title(\"Zuclopenthixol Decanoate, total items per supplier\")"
   ]
  },
  {
   "cell_type": "markdown",
   "metadata": {},
   "source": [
    "There is a lot more prescribing of Zuclopenthixol in EMIS systems overall. Need to chat to the team.\n",
    "\n",
    "An alert of Acetate prescribing may be useful but it is limited as it will be retrospective. It might be similar to Nimodipine?"
   ]
  },
  {
   "cell_type": "code",
   "execution_count": null,
   "metadata": {},
   "outputs": [],
   "source": []
  }
 ],
 "metadata": {
  "kernelspec": {
   "display_name": "Python 3",
   "language": "python",
   "name": "python3"
  },
  "language_info": {
   "codemirror_mode": {
    "name": "ipython",
    "version": 3
   },
   "file_extension": ".py",
   "mimetype": "text/x-python",
   "name": "python",
   "nbconvert_exporter": "python",
   "pygments_lexer": "ipython3",
   "version": "3.6.5"
  }
 },
 "nbformat": 4,
 "nbformat_minor": 2
}
