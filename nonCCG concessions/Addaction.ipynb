{
 "cells": [
  {
   "cell_type": "markdown",
   "metadata": {},
   "source": [
    "# Addaction Analysis"
   ]
  },
  {
   "cell_type": "markdown",
   "metadata": {},
   "source": [
    "Addaction have contacted us off the back of the blog on the impact on NCSO on local authorties and charities. We estimated in our blog that the impact of NCSO on Addaction is an additional £226,144.28 on top of a \"usual\" tariff cost of £47 257.92 giving a total of £273,402.2 in 2018. Addaction have estimated the impact on them is £403,474.59."
   ]
  },
  {
   "cell_type": "code",
   "execution_count": 2,
   "metadata": {},
   "outputs": [],
   "source": [
    "import pandas as pd\n",
    "import numpy as np\n",
    "from ebmdatalab import bq"
   ]
  },
  {
   "cell_type": "code",
   "execution_count": null,
   "metadata": {},
   "outputs": [
    {
     "name": "stderr",
     "output_type": "stream",
     "text": [
      "C:\\Users\\bmackenna\\Anaconda3\\lib\\site-packages\\pandas_gbq\\gbq.py:556: FutureWarning: verbose is deprecated and will be removed in a future version. Set logging level in order to vary verbosity\n",
      "  \"verbosity\", FutureWarning, stacklevel=1)\n"
     ]
    }
   ],
   "source": [
    "## SQL query to extract additonal costs of NHS price concessions. \n",
    "## This is a modfied version of the SQL query from OpenPrescribing.net NHS price concession calculator site i.e. done at a \"organisational level\" \n",
    "sql = '''SELECT\n",
    "  ncso.date AS month,\n",
    "  product.bnf_code AS bnf_code,\n",
    "  product.name AS product_name,\n",
    "  rx.quantity AS quantity,\n",
    "  rx.pct AS pct,\n",
    "  ccg.org_type,\n",
    "  ccg.name,\n",
    "  dt.price_pence\n",
    "    * rx.quantity\n",
    "    * CASE WHEN\n",
    "        -- For some presentations \"quantity\" means \"number of packs\" rather\n",
    "        -- than e.g. tablets. In these cases we don't want to divide by the\n",
    "        -- quantity value of a pack. This is implemented via a flag in our\n",
    "        -- databse but this data isn't in BiqQuery so we just have a hardcoded\n",
    "        -- list of BNF codes here\n",
    "        product.bnf_code in ('0206010F0AACJCJ')\n",
    "      THEN\n",
    "        1\n",
    "      ELSE\n",
    "        1 / vmpp.qtyval\n",
    "      END\n",
    "    -- This is the \"discount factor\" which applies the National Average 7.2%\n",
    "    -- discount to estimate Actual Cost from Net Ingredient Cost and also\n",
    "    -- converts figures from pence to pounds\n",
    "    * 0.00928\n",
    "    AS tariff_cost,\n",
    "  COALESCE(ncso.price_concession_pence - dt.price_pence, 0)\n",
    "    * rx.quantity\n",
    "    * CASE WHEN\n",
    "        product.bnf_code in ('0206010F0AACJCJ')\n",
    "      THEN\n",
    "        1\n",
    "      ELSE\n",
    "        1 / vmpp.qtyval\n",
    "      END\n",
    "    * 0.00928\n",
    "    AS additional_cost,\n",
    "  ncso.date != rx.month AS is_projection\n",
    "FROM\n",
    "  dmd.ncsoconcession AS ncso\n",
    "JOIN\n",
    "  dmd.tariffprice AS dt\n",
    "ON\n",
    "  ncso.vmpp = dt.vmpp AND ncso.date = dt.date\n",
    "JOIN\n",
    "  dmd.product AS product\n",
    "ON\n",
    "  dt.product=product.dmdid\n",
    "JOIN\n",
    "  dmd.vmpp AS vmpp\n",
    "ON\n",
    "  vmpp.vppid=ncso.vmpp\n",
    "JOIN\n",
    "  hscic.presentation AS presentation\n",
    "ON\n",
    "  presentation.bnf_code = product.bnf_code\n",
    "JOIN\n",
    "  hscic.prescribing AS rx\n",
    "ON\n",
    "  rx.bnf_code = product.bnf_code\n",
    "JOIN\n",
    "  hscic.ccgs AS ccg #this joins to our CCG organisational data\n",
    "ON\n",
    "  rx.pct = ccg.code\n",
    "AND\n",
    "-- Where we have prescribing data for the corresponding month we use\n",
    "-- that, otherwise we use the latest month of prescribing data to\n",
    "-- produce an estimate\n",
    "(\n",
    "  rx.month = ncso.date\n",
    "  OR\n",
    "  (\n",
    "    -- This should be set to the latest date for which we have prescribing\n",
    "    -- data\n",
    "    rx.month = TIMESTAMP('2019-01-01')\n",
    "    AND\n",
    "    ncso.date > rx.month\n",
    "  )\n",
    ")'''\n",
    "    \n",
    "df_ncso = bq.cached_read(sql, csv_path='df_ncso.zip', use_cache=True)  # add `use_cache=False` to override\n",
    "df_ncso.head()"
   ]
  },
  {
   "cell_type": "code",
   "execution_count": 3,
   "metadata": {},
   "outputs": [
    {
     "data": {
      "text/html": [
       "<div>\n",
       "<style scoped>\n",
       "    .dataframe tbody tr th:only-of-type {\n",
       "        vertical-align: middle;\n",
       "    }\n",
       "\n",
       "    .dataframe tbody tr th {\n",
       "        vertical-align: top;\n",
       "    }\n",
       "\n",
       "    .dataframe thead th {\n",
       "        text-align: right;\n",
       "    }\n",
       "</style>\n",
       "<table border=\"1\" class=\"dataframe\">\n",
       "  <thead>\n",
       "    <tr style=\"text-align: right;\">\n",
       "      <th></th>\n",
       "      <th>pct</th>\n",
       "      <th>name</th>\n",
       "      <th>national_grouping</th>\n",
       "      <th>high_level_health_geography</th>\n",
       "      <th>address line 1</th>\n",
       "      <th>Unnamed: 5</th>\n",
       "      <th>Unnamed: 6</th>\n",
       "      <th>Unnamed: 7</th>\n",
       "      <th>Unnamed: 8</th>\n",
       "      <th>postcode</th>\n",
       "      <th>open_date</th>\n",
       "      <th>close_date</th>\n",
       "    </tr>\n",
       "  </thead>\n",
       "  <tbody>\n",
       "    <tr>\n",
       "      <th>0</th>\n",
       "      <td>AA4</td>\n",
       "      <td>INTRAHEALTH LTD</td>\n",
       "      <td>Y54</td>\n",
       "      <td>Q74</td>\n",
       "      <td>1ST FLOOR, WILLIAM BROWN CENTRE</td>\n",
       "      <td>MANOR WAY</td>\n",
       "      <td>NaN</td>\n",
       "      <td>PETERLEE</td>\n",
       "      <td>COUNTY DURHAM</td>\n",
       "      <td>SR8 5TW</td>\n",
       "      <td>20130401</td>\n",
       "      <td>NaN</td>\n",
       "    </tr>\n",
       "    <tr>\n",
       "      <th>1</th>\n",
       "      <td>AA5</td>\n",
       "      <td>COMPASS WELLBEING COMMUNITY INTEREST COMPANY</td>\n",
       "      <td>Y56</td>\n",
       "      <td>Q71</td>\n",
       "      <td>STEELS LANE HEALTH CENTRE</td>\n",
       "      <td>384-388 COMMERCIAL ROAD</td>\n",
       "      <td>NaN</td>\n",
       "      <td>LONDON</td>\n",
       "      <td>GREATER LONDON</td>\n",
       "      <td>E1 0LR</td>\n",
       "      <td>20130401</td>\n",
       "      <td>NaN</td>\n",
       "    </tr>\n",
       "    <tr>\n",
       "      <th>2</th>\n",
       "      <td>AA6</td>\n",
       "      <td>ASSISTED CONCEPTION UNIT LTD</td>\n",
       "      <td>Y56</td>\n",
       "      <td>Q71</td>\n",
       "      <td>LEYTONSTONE HOUSE</td>\n",
       "      <td>LEYTONSTONE</td>\n",
       "      <td>NaN</td>\n",
       "      <td>LONDON</td>\n",
       "      <td>GREATER LONDON</td>\n",
       "      <td>E11 1GA</td>\n",
       "      <td>20130401</td>\n",
       "      <td>NaN</td>\n",
       "    </tr>\n",
       "    <tr>\n",
       "      <th>3</th>\n",
       "      <td>AA7</td>\n",
       "      <td>LEYLAND PHYSIOTHERAPY</td>\n",
       "      <td>Y54</td>\n",
       "      <td>Q84</td>\n",
       "      <td>83 BOW LANE</td>\n",
       "      <td>NaN</td>\n",
       "      <td>NaN</td>\n",
       "      <td>LEYLAND</td>\n",
       "      <td>LANCASHIRE</td>\n",
       "      <td>PR25 4YB</td>\n",
       "      <td>20130401</td>\n",
       "      <td>NaN</td>\n",
       "    </tr>\n",
       "    <tr>\n",
       "      <th>4</th>\n",
       "      <td>AA8</td>\n",
       "      <td>SMART CJS</td>\n",
       "      <td>Y59</td>\n",
       "      <td>Q87</td>\n",
       "      <td>BUILDING B</td>\n",
       "      <td>KIRTLINGTON BUSINESS CENTRE</td>\n",
       "      <td>SLADE FARM, KIRTLINGTON</td>\n",
       "      <td>KIDLINGTON</td>\n",
       "      <td>OXFORDSHIRE</td>\n",
       "      <td>OX5 3JA</td>\n",
       "      <td>20130401</td>\n",
       "      <td>NaN</td>\n",
       "    </tr>\n",
       "  </tbody>\n",
       "</table>\n",
       "</div>"
      ],
      "text/plain": [
       "   pct                                          name national_grouping  \\\n",
       "0  AA4                               INTRAHEALTH LTD               Y54   \n",
       "1  AA5  COMPASS WELLBEING COMMUNITY INTEREST COMPANY               Y56   \n",
       "2  AA6                  ASSISTED CONCEPTION UNIT LTD               Y56   \n",
       "3  AA7                         LEYLAND PHYSIOTHERAPY               Y54   \n",
       "4  AA8                                     SMART CJS               Y59   \n",
       "\n",
       "  high_level_health_geography                   address line 1  \\\n",
       "0                         Q74  1ST FLOOR, WILLIAM BROWN CENTRE   \n",
       "1                         Q71        STEELS LANE HEALTH CENTRE   \n",
       "2                         Q71                LEYTONSTONE HOUSE   \n",
       "3                         Q84                      83 BOW LANE   \n",
       "4                         Q87                       BUILDING B   \n",
       "\n",
       "                    Unnamed: 5               Unnamed: 6  Unnamed: 7  \\\n",
       "0                    MANOR WAY                      NaN    PETERLEE   \n",
       "1      384-388 COMMERCIAL ROAD                      NaN      LONDON   \n",
       "2                  LEYTONSTONE                      NaN      LONDON   \n",
       "3                          NaN                      NaN     LEYLAND   \n",
       "4  KIRTLINGTON BUSINESS CENTRE  SLADE FARM, KIRTLINGTON  KIDLINGTON   \n",
       "\n",
       "       Unnamed: 8  postcode  open_date  close_date  \n",
       "0   COUNTY DURHAM   SR8 5TW   20130401         NaN  \n",
       "1  GREATER LONDON    E1 0LR   20130401         NaN  \n",
       "2  GREATER LONDON   E11 1GA   20130401         NaN  \n",
       "3      LANCASHIRE  PR25 4YB   20130401         NaN  \n",
       "4     OXFORDSHIRE   OX5 3JA   20130401         NaN  "
      ]
     },
     "execution_count": 3,
     "metadata": {},
     "output_type": "execute_result"
    }
   ],
   "source": [
    "## import \"independent providers\" from NHS Digital ODS codes as this is where addaction is listed.\n",
    "independent_providers = pd.read_csv(r'C:\\Users\\bmackenna\\Documents\\GitHub\\jupyter-notebooks\\nonCCG Concessions\\ephp.csv')\n",
    "independent_providers.head(5)"
   ]
  },
  {
   "cell_type": "code",
   "execution_count": null,
   "metadata": {},
   "outputs": [],
   "source": [
    "## adding in independent provider names to our prescribing dataset result from SQL\n",
    "indopro = df_ncso.merge(independent_providers[['pct','name']],  how=\"outer\", on='pct')\n",
    "indopro.head()"
   ]
  },
  {
   "cell_type": "code",
   "execution_count": null,
   "metadata": {},
   "outputs": [],
   "source": [
    "## clearing blanks from the datset\n",
    "df2 = indopro.dropna(subset=['name_y'])\n",
    "df2"
   ]
  },
  {
   "cell_type": "code",
   "execution_count": null,
   "metadata": {},
   "outputs": [],
   "source": [
    "## filtering the dataset to only include results where Addaction or similar is in the independent provider name\n",
    "addaction2 = df2[df2[\"name_y\"].str.contains(\"addaction\", case=False)]\n",
    "addaction2.head()"
   ]
  },
  {
   "cell_type": "code",
   "execution_count": null,
   "metadata": {},
   "outputs": [],
   "source": [
    "## Counting how many variations on the name Addaction are retured\n",
    "addaction2[\"name_y\"].unique()"
   ]
  },
  {
   "cell_type": "markdown",
   "metadata": {},
   "source": [
    "There is only one variation of the name Addaction in our dataset therefore we can be reasonably confident that our impact is correct as per the NHS BSA primary care prescribing/reimbursement dataset."
   ]
  },
  {
   "cell_type": "code",
   "execution_count": null,
   "metadata": {},
   "outputs": [],
   "source": [
    "### see impact of NCSO in 2018\n",
    "addaction2018 = addaction2.loc[(addaction2[\"month\"]>=\"2018-01-01\") & (addaction2[\"month\"]<=\"2018-12-01\")]\n",
    "addaction2018"
   ]
  },
  {
   "cell_type": "code",
   "execution_count": null,
   "metadata": {},
   "outputs": [],
   "source": [
    "### check impact for 2018\n",
    "addaction2018.sum()"
   ]
  },
  {
   "cell_type": "markdown",
   "metadata": {},
   "source": [
    "Now we will check the spend on Buprenorphine (BNF code = 0410030A0%) to see if Addaction are counting total impact instead of diferentiating between NCSO and \"normal cost\". The difference here is we are looking at all Buprenorphine products in all months of 2018. The previous analysis only look at products in months when they are NCSO."
   ]
  },
  {
   "cell_type": "code",
   "execution_count": null,
   "metadata": {},
   "outputs": [],
   "source": [
    "sql = '''SELECT\n",
    "  extract(year from month) AS year,\n",
    "  bnf_code AS bnfcode,\n",
    "  bnf_name AS bnfname,\n",
    "  SUM(items) AS total_items,\n",
    "  SUM(quantity) AS total_qty,\n",
    "  SUM(actual_cost) AS actual_cost\n",
    "FROM\n",
    "  ebmdatalab.hscic.normalised_prescribing_standard AS presc\n",
    "WHERE\n",
    "  bnf_code LIKE \"0410030A0%\"  \n",
    "  and\n",
    "  pct = \"NI3\" \n",
    "GROUP BY\n",
    "  year,\n",
    "  bnf_code,\n",
    "  bnf_name'''\n",
    "    \n",
    "df_addaction = bq.cached_read(sql, csv_path='df_addaction.csv', use_cache=True)  # add `use_cache=False` to override\n",
    "df_addaction.head()"
   ]
  },
  {
   "cell_type": "code",
   "execution_count": null,
   "metadata": {},
   "outputs": [],
   "source": [
    "### grouping the total cost by year\n",
    "totalcost = df_addaction.groupby(['year'])['actual_cost'].sum()\n",
    "totalcost"
   ]
  },
  {
   "cell_type": "code",
   "execution_count": null,
   "metadata": {},
   "outputs": [],
   "source": [
    "## graphing full years - i.e. get rid of 2010 and 2019 as incomplete\n",
    "totalcostfullyearsonly = totalcost.drop([2010, 2019])\n",
    "ax = totalcostfullyearsonly.plot(kind='line', title = \"Total Cost £ of Buprenorphine at Addaction\")\n",
    "ax.set_ylim(0, 400000)\n"
   ]
  },
  {
   "cell_type": "markdown",
   "metadata": {},
   "source": [
    "Addaction spent £352,194.52 on Buprenorphine  (BNF code = 0410030A0%) as per the prescribing file which is £51,280 short of their estimate of £403,474.59. We will now clarify/ask\n",
    "-  What is the time frame? 18/19 has not finished so are they estimating or is the £403k a partial year spend?\n",
    "-  What is the datset? for example is this invoiced?\n",
    "-  Do they have other prescribing codes where the name is not similar to Addaction?\n",
    "-  Do they pay through a \"recharge\" mechanism? e.g. a CCG pays and then invoices addaction"
   ]
  }
 ],
 "metadata": {
  "kernelspec": {
   "display_name": "Python 3",
   "language": "python",
   "name": "python3"
  },
  "language_info": {
   "codemirror_mode": {
    "name": "ipython",
    "version": 3
   },
   "file_extension": ".py",
   "mimetype": "text/x-python",
   "name": "python",
   "nbconvert_exporter": "python",
   "pygments_lexer": "ipython3",
   "version": "3.6.5"
  }
 },
 "nbformat": 4,
 "nbformat_minor": 2
}
