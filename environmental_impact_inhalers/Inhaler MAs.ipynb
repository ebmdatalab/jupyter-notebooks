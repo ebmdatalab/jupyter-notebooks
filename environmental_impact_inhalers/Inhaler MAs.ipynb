{
 "cells": [
  {
   "cell_type": "code",
   "execution_count": null,
   "metadata": {},
   "outputs": [],
   "source": [
    "import pandas as pd\n",
    "import numpy as np\n",
    "from ebmdatalab import bq, maps, charts"
   ]
  },
  {
   "cell_type": "code",
   "execution_count": null,
   "metadata": {},
   "outputs": [],
   "source": [
    "sql = '''\n",
    "SELECT\n",
    "  pct,\n",
    "  pract.name,\n",
    "  presc.practice,\n",
    "  AVG(total_list_size) AS list_size,\n",
    "  presc.month,\n",
    "  SUM(IF(form_route='powderinhalation.inhalation', ##from dmd, identifies a DPI \n",
    "      items,\n",
    "      0)) AS dpi,\n",
    "      SUM(IF(form_route='pressurizedinhalation.inhalation',  ##from dmd, identifies a MDI\n",
    "      items,\n",
    "      0)) AS mdi,\n",
    "      SUM(items) AS totalinhalers,\n",
    "    SUM(actual_cost) AS totalcost\n",
    "   FROM\n",
    "  ebmdatalab.hscic.normalised_prescribing_standard AS presc\n",
    "LEFT JOIN\n",
    "  ebmdatalab.hscic.practices AS pract\n",
    "ON\n",
    "  presc.practice=pract.code\n",
    "  LEFT JOIN  # is this join in the right place  review\n",
    "  ebmdatalab.hscic.practice_statistics_all_years AS stat\n",
    "ON\n",
    "  presc.practice = stat.practice\n",
    "  AND presc.month = stat.month\n",
    "LEFT JOIN\n",
    "  ebmdatalab.dmd.form_dose AS dmd\n",
    "ON\n",
    "  presc.bnf_code=dmd.bnf_code\n",
    "WHERE\n",
    "  presc.bnf_code LIKE \"030%\"\n",
    "AND (form_route=\"powderinhalation.inhalation\"\n",
    "    OR form_route= \"pressurizedinhalation.inhalation\")\n",
    "GROUP BY\n",
    "  pct,\n",
    "  name,\n",
    "  practice,  \n",
    "  month\n",
    "  '''"
   ]
  }
 ],
 "metadata": {
  "kernelspec": {
   "display_name": "Python 3",
   "language": "python",
   "name": "python3"
  },
  "language_info": {
   "codemirror_mode": {
    "name": "ipython",
    "version": 3
   },
   "file_extension": ".py",
   "mimetype": "text/x-python",
   "name": "python",
   "nbconvert_exporter": "python",
   "pygments_lexer": "ipython3",
   "version": "3.6.5"
  }
 },
 "nbformat": 4,
 "nbformat_minor": 2
}
