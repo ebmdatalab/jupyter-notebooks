{
 "cells": [
  {
   "cell_type": "code",
   "execution_count": 4,
   "metadata": {},
   "outputs": [],
   "source": [
    "import pandas as pd\n",
    "projectid = \"ebmdatalab\""
   ]
  },
  {
   "cell_type": "code",
   "execution_count": 5,
   "metadata": {},
   "outputs": [],
   "source": [
    "#obtain overall data for prescribing for trimethoprim capsules at CCG level\n",
    "ccg_df = pd.read_gbq(\"\"\"\n",
    "SELECT\n",
    "  form.RAG_status,\n",
    "  SUM(rx.items) AS items,\n",
    "  SUM(rx.actual_cost) AS actual_cost\n",
    "FROM\n",
    "  dmd.product AS dmd\n",
    "JOIN\n",
    "  `tmp_eu.guildford_formulary` AS form\n",
    "ON\n",
    "  form.snomed_product_code=dmd.dmdid\n",
    "RIGHT JOIN\n",
    "  `hscic.normalised_prescribing_standard_latest_month` AS rx\n",
    "ON\n",
    "  dmd.bnf_code = rx.bnf_code\n",
    "WHERE\n",
    "  rx.pct='09N'\n",
    "GROUP BY\n",
    "  form.RAG_status\n",
    "ORDER BY\n",
    "  actual_cost DESC\n",
    "\"\"\", projectid, dialect='standard')"
   ]
  },
  {
   "cell_type": "code",
   "execution_count": 7,
   "metadata": {},
   "outputs": [
    {
     "data": {
      "text/html": [
       "<div>\n",
       "<style scoped>\n",
       "    .dataframe tbody tr th:only-of-type {\n",
       "        vertical-align: middle;\n",
       "    }\n",
       "\n",
       "    .dataframe tbody tr th {\n",
       "        vertical-align: top;\n",
       "    }\n",
       "\n",
       "    .dataframe thead th {\n",
       "        text-align: right;\n",
       "    }\n",
       "</style>\n",
       "<table border=\"1\" class=\"dataframe\">\n",
       "  <thead>\n",
       "    <tr style=\"text-align: right;\">\n",
       "      <th></th>\n",
       "      <th>RAG_status</th>\n",
       "      <th>items</th>\n",
       "      <th>actual_cost</th>\n",
       "    </tr>\n",
       "  </thead>\n",
       "  <tbody>\n",
       "    <tr>\n",
       "      <th>0</th>\n",
       "      <td>None</td>\n",
       "      <td>263380</td>\n",
       "      <td>2.411674e+06</td>\n",
       "    </tr>\n",
       "    <tr>\n",
       "      <th>1</th>\n",
       "      <td>Amber</td>\n",
       "      <td>3769</td>\n",
       "      <td>3.269802e+04</td>\n",
       "    </tr>\n",
       "    <tr>\n",
       "      <th>2</th>\n",
       "      <td>Red</td>\n",
       "      <td>4516</td>\n",
       "      <td>2.614121e+04</td>\n",
       "    </tr>\n",
       "    <tr>\n",
       "      <th>3</th>\n",
       "      <td>Amber Star</td>\n",
       "      <td>6417</td>\n",
       "      <td>2.421554e+04</td>\n",
       "    </tr>\n",
       "    <tr>\n",
       "      <th>4</th>\n",
       "      <td>Blue</td>\n",
       "      <td>868</td>\n",
       "      <td>1.427263e+04</td>\n",
       "    </tr>\n",
       "  </tbody>\n",
       "</table>\n",
       "</div>"
      ],
      "text/plain": [
       "   RAG_status   items   actual_cost\n",
       "0        None  263380  2.411674e+06\n",
       "1       Amber    3769  3.269802e+04\n",
       "2         Red    4516  2.614121e+04\n",
       "3  Amber Star    6417  2.421554e+04\n",
       "4        Blue     868  1.427263e+04"
      ]
     },
     "execution_count": 7,
     "metadata": {},
     "output_type": "execute_result"
    }
   ],
   "source": [
    "ccg_df.head()"
   ]
  },
  {
   "cell_type": "code",
   "execution_count": null,
   "metadata": {},
   "outputs": [],
   "source": [
    "ccg_df = pd.read_gbq(\"\"\"\n",
    "SELECT\n",
    "  form.RAG_status,\n",
    "  SUM(rx.items) AS items,\n",
    "  SUM(rx.actual_cost) AS actual_cost\n",
    "FROM\n",
    "  dmd.product AS dmd\n",
    "JOIN\n",
    "  `tmp_eu.guildford_formulary` AS form\n",
    "ON\n",
    "  form.snomed_product_code=dmd.dmdid\n",
    "RIGHT JOIN\n",
    "  `hscic.normalised_prescribing_standard_latest_month` AS rx\n",
    "ON\n",
    "  dmd.bnf_code = rx.bnf_code\n",
    "WHERE\n",
    "  rx.pct='09N'\n",
    "  and \n",
    "GROUP BY\n",
    "  form.RAG_status\n",
    "ORDER BY\n",
    "  actual_cost DESC\n",
    "\"\"\", projectid, dialect='standard')"
   ]
  }
 ],
 "metadata": {
  "kernelspec": {
   "display_name": "Python 3",
   "language": "python",
   "name": "python3"
  },
  "language_info": {
   "codemirror_mode": {
    "name": "ipython",
    "version": 3
   },
   "file_extension": ".py",
   "mimetype": "text/x-python",
   "name": "python",
   "nbconvert_exporter": "python",
   "pygments_lexer": "ipython3",
   "version": "3.7.1"
  }
 },
 "nbformat": 4,
 "nbformat_minor": 2
}
