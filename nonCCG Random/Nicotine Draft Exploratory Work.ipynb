{
 "cells": [
  {
   "cell_type": "markdown",
   "metadata": {},
   "source": [
    "78000 people die every year in the UK from smoking related illness. has been identified as the single biggest cause of inequality in death rates between rich and poor in the UK. The recent 10 year plan make ambiotious statements about prevention and a key part of any prevention strategy should be reduction in smoking rates.\n",
    "\n",
    "Nictoine replacement therapy (NRT) is an evidence based treatment for supprting people to stop smoking.\n",
    "\n",
    "Here we take a look at Trends and varaiation with nicotine replacement on FP10 prescription. It will not give us a complete picture as it may be suppplied via other means such as a pharmacy service or purchased by a patient so will not give a complete picture."
   ]
  },
  {
   "cell_type": "code",
   "execution_count": 1,
   "metadata": {},
   "outputs": [],
   "source": [
    "import pandas as pd\n",
    "import numpy as np\n",
    "from ebmdatalab import bq\n",
    "import matplotlib.pyplot as plt\n",
    "import matplotlib.gridspec as gridspec"
   ]
  },
  {
   "cell_type": "code",
   "execution_count": 2,
   "metadata": {},
   "outputs": [
    {
     "data": {
      "text/html": [
       "<div>\n",
       "<style scoped>\n",
       "    .dataframe tbody tr th:only-of-type {\n",
       "        vertical-align: middle;\n",
       "    }\n",
       "\n",
       "    .dataframe tbody tr th {\n",
       "        vertical-align: top;\n",
       "    }\n",
       "\n",
       "    .dataframe thead th {\n",
       "        text-align: right;\n",
       "    }\n",
       "</style>\n",
       "<table border=\"1\" class=\"dataframe\">\n",
       "  <thead>\n",
       "    <tr style=\"text-align: right;\">\n",
       "      <th></th>\n",
       "      <th>year</th>\n",
       "      <th>month</th>\n",
       "      <th>pct</th>\n",
       "      <th>bnfcode</th>\n",
       "      <th>bnfname</th>\n",
       "      <th>org_type</th>\n",
       "      <th>total_items</th>\n",
       "      <th>total_qty</th>\n",
       "      <th>actual_cost</th>\n",
       "    </tr>\n",
       "  </thead>\n",
       "  <tbody>\n",
       "    <tr>\n",
       "      <th>0</th>\n",
       "      <td>2011</td>\n",
       "      <td>2011-09-01</td>\n",
       "      <td>5PN</td>\n",
       "      <td>0410020D0AAACAC</td>\n",
       "      <td>Buprenorphine_Tab Subling 400mcg S/F</td>\n",
       "      <td>PCT</td>\n",
       "      <td>2</td>\n",
       "      <td>67</td>\n",
       "      <td>19.28</td>\n",
       "    </tr>\n",
       "    <tr>\n",
       "      <th>1</th>\n",
       "      <td>2011</td>\n",
       "      <td>2011-02-01</td>\n",
       "      <td>04Q</td>\n",
       "      <td>0410020D0AAACAC</td>\n",
       "      <td>Buprenorphine_Tab Subling 400mcg S/F</td>\n",
       "      <td>CCG</td>\n",
       "      <td>4</td>\n",
       "      <td>105</td>\n",
       "      <td>23.74</td>\n",
       "    </tr>\n",
       "    <tr>\n",
       "      <th>2</th>\n",
       "      <td>2011</td>\n",
       "      <td>2011-09-01</td>\n",
       "      <td>99F</td>\n",
       "      <td>0410020D0AAACAC</td>\n",
       "      <td>Buprenorphine_Tab Subling 400mcg S/F</td>\n",
       "      <td>CCG</td>\n",
       "      <td>1</td>\n",
       "      <td>50</td>\n",
       "      <td>14.25</td>\n",
       "    </tr>\n",
       "    <tr>\n",
       "      <th>3</th>\n",
       "      <td>2011</td>\n",
       "      <td>2011-02-01</td>\n",
       "      <td>99G</td>\n",
       "      <td>0410020D0AAACAC</td>\n",
       "      <td>Buprenorphine_Tab Subling 400mcg S/F</td>\n",
       "      <td>CCG</td>\n",
       "      <td>22</td>\n",
       "      <td>703</td>\n",
       "      <td>163.41</td>\n",
       "    </tr>\n",
       "    <tr>\n",
       "      <th>4</th>\n",
       "      <td>2011</td>\n",
       "      <td>2011-08-01</td>\n",
       "      <td>209</td>\n",
       "      <td>0410020D0AAACAC</td>\n",
       "      <td>Buprenorphine_Tab Subling 400mcg S/F</td>\n",
       "      <td>Unknown</td>\n",
       "      <td>154</td>\n",
       "      <td>4385</td>\n",
       "      <td>1233.03</td>\n",
       "    </tr>\n",
       "  </tbody>\n",
       "</table>\n",
       "</div>"
      ],
      "text/plain": [
       "   year       month  pct          bnfcode  \\\n",
       "0  2011  2011-09-01  5PN  0410020D0AAACAC   \n",
       "1  2011  2011-02-01  04Q  0410020D0AAACAC   \n",
       "2  2011  2011-09-01  99F  0410020D0AAACAC   \n",
       "3  2011  2011-02-01  99G  0410020D0AAACAC   \n",
       "4  2011  2011-08-01  209  0410020D0AAACAC   \n",
       "\n",
       "                                    bnfname org_type  total_items  total_qty  \\\n",
       "0  Buprenorphine_Tab Subling 400mcg S/F          PCT            2         67   \n",
       "1  Buprenorphine_Tab Subling 400mcg S/F          CCG            4        105   \n",
       "2  Buprenorphine_Tab Subling 400mcg S/F          CCG            1         50   \n",
       "3  Buprenorphine_Tab Subling 400mcg S/F          CCG           22        703   \n",
       "4  Buprenorphine_Tab Subling 400mcg S/F      Unknown          154       4385   \n",
       "\n",
       "   actual_cost  \n",
       "0        19.28  \n",
       "1        23.74  \n",
       "2        14.25  \n",
       "3       163.41  \n",
       "4      1233.03  "
      ]
     },
     "execution_count": 2,
     "metadata": {},
     "output_type": "execute_result"
    }
   ],
   "source": [
    "sql = '''SELECT\n",
    "  extract(year from month) AS year,\n",
    "  month,\n",
    "  pct,\n",
    "  bnf_code AS bnfcode,\n",
    "  bnf_name AS bnfname,\n",
    "  ccg.org_type AS org_type,\n",
    "  SUM(items) AS total_items,\n",
    "  SUM(quantity) AS total_qty,\n",
    "  SUM(actual_cost) AS actual_cost\n",
    "FROM\n",
    "  ebmdatalab.hscic.normalised_prescribing_standard AS presc\n",
    "JOIN\n",
    "  hscic.ccgs AS ccg #this joins to our CCG organisational data\n",
    "ON\n",
    "  presc.pct = ccg.code\n",
    "WHERE\n",
    " bnf_code like \"0410020B0%\" ##nictotine\n",
    "  or bnf_code like \"0410020D0%\" ##nicotine bitartrate \n",
    "GROUP BY\n",
    "  year,\n",
    "  month,\n",
    "  pct,\n",
    "  bnf_code,\n",
    "  bnf_name,\n",
    "  org_type'''\n",
    "    \n",
    "df_nrt = bq.cached_read(sql, csv_path='df_nicotine.csv', use_cache=True)  # add `use_cache=False` to override\n",
    "df_nrt.head() ##nrt is nicotine replacement therapy "
   ]
  },
  {
   "attachments": {
    "image.png": {
     "image/png": "[encoded data removed]"
    }
   },
   "cell_type": "markdown",
   "metadata": {},
   "source": [
    "Oddly Buprenorphine is returned in the results. In 2011 0410020D0AAACAC =\tBuprenorphine_Tab Subling 400mcg S/F, whereas today the 0410020D0AAACAC = ![image.png](attachment:image.png)\n"
   ]
  },
  {
   "cell_type": "code",
   "execution_count": 3,
   "metadata": {},
   "outputs": [],
   "source": [
    "## ensuring the format is consistent for pounds and pence\n",
    "pd.set_option('display.float_format', lambda x: '%.2f' % x)"
   ]
  },
  {
   "cell_type": "code",
   "execution_count": 4,
   "metadata": {},
   "outputs": [
    {
     "data": {
      "text/plain": [
       "year\n",
       "2010     108365.72\n",
       "2011    4440615.95\n",
       "2012   26590852.90\n",
       "2013   23420544.40\n",
       "2014   18176398.94\n",
       "2015   14893081.96\n",
       "2016   12851566.94\n",
       "2017   11645468.49\n",
       "2018    9980374.79\n",
       "2019    1731093.46\n",
       "Name: actual_cost, dtype: float64"
      ]
     },
     "execution_count": 4,
     "metadata": {},
     "output_type": "execute_result"
    }
   ],
   "source": [
    "### grouping the total cost by year\n",
    "nrttotalcost = df_nrt.groupby(['year'])['actual_cost'].sum()\n",
    "nrttotalcost"
   ]
  },
  {
   "cell_type": "code",
   "execution_count": 5,
   "metadata": {},
   "outputs": [
    {
     "data": {
      "text/plain": [
       "year\n",
       "2010      13347\n",
       "2011     252309\n",
       "2012    1383675\n",
       "2013    1119279\n",
       "2014     834836\n",
       "2015     663182\n",
       "2016     564923\n",
       "2017     492854\n",
       "2018     401107\n",
       "2019      69578\n",
       "Name: total_items, dtype: int64"
      ]
     },
     "execution_count": 5,
     "metadata": {},
     "output_type": "execute_result"
    }
   ],
   "source": [
    "### grouping the total items by year\n",
    "nrttotalitems = df_nrt.groupby(['year'])['total_items'].sum()\n",
    "nrttotalitems"
   ]
  },
  {
   "cell_type": "code",
   "execution_count": 6,
   "metadata": {},
   "outputs": [
    {
     "data": {
      "image/png": "[encoded data removed]",
      "text/plain": [
       "<Figure size 576x576 with 2 Axes>"
      ]
     },
     "metadata": {},
     "output_type": "display_data"
    }
   ],
   "source": [
    "f = plt.figure(figsize=(8, 8))\n",
    "layout = gridspec.GridSpec(2, 1, figure=f)\n",
    "top_plot = plt.subplot(layout[0])\n",
    "bottom_plot = plt.subplot(layout[1], sharex=top_plot)  # Share the Y axis \n",
    "\n",
    "\n",
    "ax = df_nrt.groupby('month').sum()['actual_cost'].plot(ax=top_plot)\n",
    "### plt.axvline('2013-14-01',color='r',linestyle='--', label='NHS Changes') \n",
    "ax.set_ylabel('£ NRT costs')\n",
    "ax.set_title('Figure 1a £ NRT Costs')\n",
    "ax = df_nrt.groupby('month').sum()['total_items'].plot(ax=bottom_plot)\n",
    "ax.set_ylabel('total items')\n",
    "ax.set_title('Figure 1b Total NRT Items')\n",
    "## plt.axvline('2013-14-01',color='r',linestyle='--', label='NHS Changes') WHY DOESN'T THIS PLOT?!\n",
    "plt.show()"
   ]
  },
  {
   "cell_type": "markdown",
   "metadata": {},
   "source": [
    "There is a spike in late 2011 but probably reflects some BNF coding change as discussed above.\n",
    "\n",
    "More broadly the amount of NRT being prescribed on FP10 is declining which may reflect\n",
    "- a) shifting to nonFP10 supply routes\n",
    "- b) decreasing investment or budgetary cuts in public health (see other analysis)\n",
    "- c) declining use of NRT as smoking rate continues to decline and proliferation of e-cigarettes\n",
    "\n",
    "It is probalably a combination of all three.\n",
    "\n",
    "\n"
   ]
  }
 ],
 "metadata": {
  "kernelspec": {
   "display_name": "Python 3",
   "language": "python",
   "name": "python3"
  },
  "language_info": {
   "codemirror_mode": {
    "name": "ipython",
    "version": 3
   },
   "file_extension": ".py",
   "mimetype": "text/x-python",
   "name": "python",
   "nbconvert_exporter": "python",
   "pygments_lexer": "ipython3",
   "version": "3.6.5"
  }
 },
 "nbformat": 4,
 "nbformat_minor": 2
}
