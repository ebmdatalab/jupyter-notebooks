{
 "cells": [
  {
   "cell_type": "code",
   "execution_count": 1,
   "metadata": {},
   "outputs": [],
   "source": [
    "import pandas as pd\n",
    "import numpy as np\n",
    "from ebmdatalab import bq"
   ]
  },
  {
   "cell_type": "code",
   "execution_count": 3,
   "metadata": {},
   "outputs": [
    {
     "name": "stderr",
     "output_type": "stream",
     "text": [
      "C:\\Users\\bmackenna\\Anaconda3\\lib\\site-packages\\pandas\\io\\gbq.py:149: FutureWarning: verbose is deprecated and will be removed in a future version. Set logging level in order to vary verbosity\n",
      "  credentials=credentials, verbose=verbose, private_key=private_key)\n"
     ]
    },
    {
     "data": {
      "text/html": [
       "<div>\n",
       "<style scoped>\n",
       "    .dataframe tbody tr th:only-of-type {\n",
       "        vertical-align: middle;\n",
       "    }\n",
       "\n",
       "    .dataframe tbody tr th {\n",
       "        vertical-align: top;\n",
       "    }\n",
       "\n",
       "    .dataframe thead th {\n",
       "        text-align: right;\n",
       "    }\n",
       "</style>\n",
       "<table border=\"1\" class=\"dataframe\">\n",
       "  <thead>\n",
       "    <tr style=\"text-align: right;\">\n",
       "      <th></th>\n",
       "      <th>year</th>\n",
       "      <th>bnfcode</th>\n",
       "      <th>bnfname</th>\n",
       "      <th>org_type</th>\n",
       "      <th>total_items</th>\n",
       "      <th>total_qty</th>\n",
       "      <th>actual_cost</th>\n",
       "    </tr>\n",
       "  </thead>\n",
       "  <tbody>\n",
       "    <tr>\n",
       "      <th>0</th>\n",
       "      <td>2014</td>\n",
       "      <td>0410020C0AAABAB</td>\n",
       "      <td>Varenicline Tart_Tab 1mg</td>\n",
       "      <td>Unknown</td>\n",
       "      <td>2513</td>\n",
       "      <td>83362</td>\n",
       "      <td>75126.43000</td>\n",
       "    </tr>\n",
       "    <tr>\n",
       "      <th>1</th>\n",
       "      <td>2019</td>\n",
       "      <td>0410020C0BBACAC</td>\n",
       "      <td>Champix_2Wk Tt Init Pack (Tab 0.5mg/1mg)</td>\n",
       "      <td>CCG</td>\n",
       "      <td>2076</td>\n",
       "      <td>2099</td>\n",
       "      <td>53233.43212</td>\n",
       "    </tr>\n",
       "    <tr>\n",
       "      <th>2</th>\n",
       "      <td>2018</td>\n",
       "      <td>0410020C0AAACAC</td>\n",
       "      <td>Varenicline Tart_2Wk Init(Tab 0.5mg/1mg)</td>\n",
       "      <td>Unknown</td>\n",
       "      <td>2059</td>\n",
       "      <td>2082</td>\n",
       "      <td>52786.42973</td>\n",
       "    </tr>\n",
       "    <tr>\n",
       "      <th>3</th>\n",
       "      <td>2019</td>\n",
       "      <td>0410020C0AAAAAA</td>\n",
       "      <td>Varenicline Tart_Tab 0.5mg</td>\n",
       "      <td>Unknown</td>\n",
       "      <td>22</td>\n",
       "      <td>673</td>\n",
       "      <td>611.04191</td>\n",
       "    </tr>\n",
       "    <tr>\n",
       "      <th>4</th>\n",
       "      <td>2012</td>\n",
       "      <td>0410020C0BBACAC</td>\n",
       "      <td>Champix_Titration Pack (Tab 0.5mg/1mg)</td>\n",
       "      <td>PCT</td>\n",
       "      <td>43</td>\n",
       "      <td>43</td>\n",
       "      <td>1084.94000</td>\n",
       "    </tr>\n",
       "  </tbody>\n",
       "</table>\n",
       "</div>"
      ],
      "text/plain": [
       "   year          bnfcode                                   bnfname org_type  \\\n",
       "0  2014  0410020C0AAABAB  Varenicline Tart_Tab 1mg                  Unknown   \n",
       "1  2019  0410020C0BBACAC  Champix_2Wk Tt Init Pack (Tab 0.5mg/1mg)      CCG   \n",
       "2  2018  0410020C0AAACAC  Varenicline Tart_2Wk Init(Tab 0.5mg/1mg)  Unknown   \n",
       "3  2019  0410020C0AAAAAA                Varenicline Tart_Tab 0.5mg  Unknown   \n",
       "4  2012  0410020C0BBACAC  Champix_Titration Pack (Tab 0.5mg/1mg)        PCT   \n",
       "\n",
       "   total_items  total_qty  actual_cost  \n",
       "0         2513      83362  75126.43000  \n",
       "1         2076       2099  53233.43212  \n",
       "2         2059       2082  52786.42973  \n",
       "3           22        673    611.04191  \n",
       "4           43         43   1084.94000  "
      ]
     },
     "execution_count": 3,
     "metadata": {},
     "output_type": "execute_result"
    }
   ],
   "source": [
    "sql = '''SELECT\n",
    "  extract(year from month) AS year,\n",
    "  bnf_code AS bnfcode,\n",
    "  bnf_name AS bnfname,\n",
    "  ccg.org_type AS org_type,\n",
    "  SUM(items) AS total_items,\n",
    "  SUM(quantity) AS total_qty,\n",
    "  SUM(actual_cost) AS actual_cost\n",
    "FROM\n",
    "  ebmdatalab.hscic.normalised_prescribing_standard AS presc\n",
    "JOIN\n",
    "  hscic.ccgs AS ccg #this joins to our CCG organisational data\n",
    "ON\n",
    "  presc.pct = ccg.code\n",
    "WHERE\n",
    "  bnf_code LIKE \"0410020C0%\"  \n",
    "GROUP BY\n",
    "  year,\n",
    "  bnf_code,\n",
    "  bnf_name,\n",
    "  org_type'''\n",
    "    \n",
    "df_varenicline = bq.cached_read(sql, csv_path='df_varenicline.csv', use_cache=True)  # add `use_cache=False` to override\n",
    "df_varenicline.head()"
   ]
  },
  {
   "cell_type": "code",
   "execution_count": 4,
   "metadata": {},
   "outputs": [],
   "source": [
    "## ensuring the format is consistent for pounds and pence\n",
    "pd.set_option('display.float_format', lambda x: '%.2f' % x)"
   ]
  },
  {
   "cell_type": "code",
   "execution_count": 5,
   "metadata": {},
   "outputs": [
    {
     "data": {
      "text/plain": [
       "year\n",
       "2011    4369229.34\n",
       "2012   27604089.08\n",
       "2013   22982963.13\n",
       "2014   18399874.32\n",
       "2015   16253500.84\n",
       "2016   13383274.38\n",
       "2017   12805621.15\n",
       "2018   10672671.14\n",
       "2019     874189.82\n",
       "Name: actual_cost, dtype: float64"
      ]
     },
     "execution_count": 5,
     "metadata": {},
     "output_type": "execute_result"
    }
   ],
   "source": [
    "### grouping the total cost by year\n",
    "totalcost = df_varenicline.groupby(['year'])['actual_cost'].sum()\n",
    "totalcost"
   ]
  },
  {
   "cell_type": "code",
   "execution_count": 6,
   "metadata": {},
   "outputs": [
    {
     "data": {
      "text/plain": [
       "year\n",
       "2011    138219\n",
       "2012    885330\n",
       "2013    734317\n",
       "2014    585281\n",
       "2015    514644\n",
       "2016    417345\n",
       "2017    395247\n",
       "2018    325229\n",
       "2019     26772\n",
       "Name: total_items, dtype: int64"
      ]
     },
     "execution_count": 6,
     "metadata": {},
     "output_type": "execute_result"
    }
   ],
   "source": [
    "### grouping the total items by year\n",
    "totalitems = df_varenicline.groupby(['year'])['total_items'].sum()\n",
    "totalitems"
   ]
  },
  {
   "cell_type": "code",
   "execution_count": 7,
   "metadata": {},
   "outputs": [
    {
     "data": {
      "text/html": [
       "<div>\n",
       "<style scoped>\n",
       "    .dataframe tbody tr th:only-of-type {\n",
       "        vertical-align: middle;\n",
       "    }\n",
       "\n",
       "    .dataframe tbody tr th {\n",
       "        vertical-align: top;\n",
       "    }\n",
       "\n",
       "    .dataframe thead th {\n",
       "        text-align: right;\n",
       "    }\n",
       "</style>\n",
       "<table border=\"1\" class=\"dataframe\">\n",
       "  <thead>\n",
       "    <tr style=\"text-align: right;\">\n",
       "      <th></th>\n",
       "      <th>year</th>\n",
       "      <th>bnfcode</th>\n",
       "      <th>bnfname</th>\n",
       "      <th>org_type</th>\n",
       "      <th>total_items</th>\n",
       "      <th>total_qty</th>\n",
       "      <th>actual_cost</th>\n",
       "    </tr>\n",
       "  </thead>\n",
       "  <tbody>\n",
       "    <tr>\n",
       "      <th>0</th>\n",
       "      <td>2014</td>\n",
       "      <td>0410020C0AAABAB</td>\n",
       "      <td>Varenicline Tart_Tab 1mg</td>\n",
       "      <td>Unknown</td>\n",
       "      <td>2513</td>\n",
       "      <td>83362</td>\n",
       "      <td>75126.43</td>\n",
       "    </tr>\n",
       "    <tr>\n",
       "      <th>2</th>\n",
       "      <td>2018</td>\n",
       "      <td>0410020C0AAACAC</td>\n",
       "      <td>Varenicline Tart_2Wk Init(Tab 0.5mg/1mg)</td>\n",
       "      <td>Unknown</td>\n",
       "      <td>2059</td>\n",
       "      <td>2082</td>\n",
       "      <td>52786.43</td>\n",
       "    </tr>\n",
       "    <tr>\n",
       "      <th>3</th>\n",
       "      <td>2019</td>\n",
       "      <td>0410020C0AAAAAA</td>\n",
       "      <td>Varenicline Tart_Tab 0.5mg</td>\n",
       "      <td>Unknown</td>\n",
       "      <td>22</td>\n",
       "      <td>673</td>\n",
       "      <td>611.04</td>\n",
       "    </tr>\n",
       "    <tr>\n",
       "      <th>4</th>\n",
       "      <td>2012</td>\n",
       "      <td>0410020C0BBACAC</td>\n",
       "      <td>Champix_Titration Pack (Tab 0.5mg/1mg)</td>\n",
       "      <td>PCT</td>\n",
       "      <td>43</td>\n",
       "      <td>43</td>\n",
       "      <td>1084.94</td>\n",
       "    </tr>\n",
       "    <tr>\n",
       "      <th>5</th>\n",
       "      <td>2016</td>\n",
       "      <td>0410020C0BBACAC</td>\n",
       "      <td>Champix_Titration Pack (Tab 0.5mg/1mg)</td>\n",
       "      <td>Unknown</td>\n",
       "      <td>10</td>\n",
       "      <td>10</td>\n",
       "      <td>252.39</td>\n",
       "    </tr>\n",
       "  </tbody>\n",
       "</table>\n",
       "</div>"
      ],
      "text/plain": [
       "   year          bnfcode                                   bnfname org_type  \\\n",
       "0  2014  0410020C0AAABAB  Varenicline Tart_Tab 1mg                  Unknown   \n",
       "2  2018  0410020C0AAACAC  Varenicline Tart_2Wk Init(Tab 0.5mg/1mg)  Unknown   \n",
       "3  2019  0410020C0AAAAAA                Varenicline Tart_Tab 0.5mg  Unknown   \n",
       "4  2012  0410020C0BBACAC  Champix_Titration Pack (Tab 0.5mg/1mg)        PCT   \n",
       "5  2016  0410020C0BBACAC  Champix_Titration Pack (Tab 0.5mg/1mg)    Unknown   \n",
       "\n",
       "   total_items  total_qty  actual_cost  \n",
       "0         2513      83362     75126.43  \n",
       "2         2059       2082     52786.43  \n",
       "3           22        673       611.04  \n",
       "4           43         43      1084.94  \n",
       "5           10         10       252.39  "
      ]
     },
     "execution_count": 7,
     "metadata": {},
     "output_type": "execute_result"
    }
   ],
   "source": [
    "## Selecting only nonCCG organisations to work with\n",
    "nonccg_varenicline  = df_varenicline.loc[df_varenicline.org_type !='CCG']\n",
    "nonccg_varenicline.head()"
   ]
  },
  {
   "cell_type": "code",
   "execution_count": 12,
   "metadata": {},
   "outputs": [
    {
     "data": {
      "text/html": [
       "<div>\n",
       "<style scoped>\n",
       "    .dataframe tbody tr th:only-of-type {\n",
       "        vertical-align: middle;\n",
       "    }\n",
       "\n",
       "    .dataframe tbody tr th {\n",
       "        vertical-align: top;\n",
       "    }\n",
       "\n",
       "    .dataframe thead th {\n",
       "        text-align: right;\n",
       "    }\n",
       "</style>\n",
       "<table border=\"1\" class=\"dataframe\">\n",
       "  <thead>\n",
       "    <tr style=\"text-align: right;\">\n",
       "      <th></th>\n",
       "      <th>year</th>\n",
       "      <th>bnfcode</th>\n",
       "      <th>bnfname</th>\n",
       "      <th>org_type</th>\n",
       "      <th>total_items</th>\n",
       "      <th>total_qty</th>\n",
       "      <th>actual_cost</th>\n",
       "    </tr>\n",
       "  </thead>\n",
       "  <tbody>\n",
       "    <tr>\n",
       "      <th>2</th>\n",
       "      <td>2018</td>\n",
       "      <td>0410020C0AAACAC</td>\n",
       "      <td>Varenicline Tart_2Wk Init(Tab 0.5mg/1mg)</td>\n",
       "      <td>Unknown</td>\n",
       "      <td>2059</td>\n",
       "      <td>2082</td>\n",
       "      <td>52786.43</td>\n",
       "    </tr>\n",
       "    <tr>\n",
       "      <th>27</th>\n",
       "      <td>2018</td>\n",
       "      <td>0410020C0AAABAB</td>\n",
       "      <td>Varenicline Tart_Tab 1mg</td>\n",
       "      <td>Unknown</td>\n",
       "      <td>3559</td>\n",
       "      <td>109938</td>\n",
       "      <td>99511.09</td>\n",
       "    </tr>\n",
       "    <tr>\n",
       "      <th>49</th>\n",
       "      <td>2018</td>\n",
       "      <td>0410020C0AAAAAA</td>\n",
       "      <td>Varenicline Tart_Tab 0.5mg</td>\n",
       "      <td>Unknown</td>\n",
       "      <td>278</td>\n",
       "      <td>7306</td>\n",
       "      <td>6636.92</td>\n",
       "    </tr>\n",
       "    <tr>\n",
       "      <th>64</th>\n",
       "      <td>2018</td>\n",
       "      <td>0410020C0BBABAB</td>\n",
       "      <td>Champix_Tab 1mg</td>\n",
       "      <td>Unknown</td>\n",
       "      <td>577</td>\n",
       "      <td>16843</td>\n",
       "      <td>15244.69</td>\n",
       "    </tr>\n",
       "    <tr>\n",
       "      <th>67</th>\n",
       "      <td>2018</td>\n",
       "      <td>0410020C0BBACAC</td>\n",
       "      <td>Champix_2Wk Tt Init Pack (Tab 0.5mg/1mg)</td>\n",
       "      <td>Unknown</td>\n",
       "      <td>325</td>\n",
       "      <td>327</td>\n",
       "      <td>8290.07</td>\n",
       "    </tr>\n",
       "  </tbody>\n",
       "</table>\n",
       "</div>"
      ],
      "text/plain": [
       "    year          bnfcode                                   bnfname org_type  \\\n",
       "2   2018  0410020C0AAACAC  Varenicline Tart_2Wk Init(Tab 0.5mg/1mg)  Unknown   \n",
       "27  2018  0410020C0AAABAB                  Varenicline Tart_Tab 1mg  Unknown   \n",
       "49  2018  0410020C0AAAAAA                Varenicline Tart_Tab 0.5mg  Unknown   \n",
       "64  2018  0410020C0BBABAB                           Champix_Tab 1mg  Unknown   \n",
       "67  2018  0410020C0BBACAC  Champix_2Wk Tt Init Pack (Tab 0.5mg/1mg)  Unknown   \n",
       "\n",
       "    total_items  total_qty  actual_cost  \n",
       "2          2059       2082     52786.43  \n",
       "27         3559     109938     99511.09  \n",
       "49          278       7306      6636.92  \n",
       "64          577      16843     15244.69  \n",
       "67          325        327      8290.07  "
      ]
     },
     "execution_count": 12,
     "metadata": {},
     "output_type": "execute_result"
    }
   ],
   "source": [
    "## Restricting data to 2018 calendar year\n",
    "nonccg_varenicline_2018 = nonccg_varenicline.loc[(nonccg_varenicline[\"year\"] == 2018)]\n",
    "nonccg_varenicline_2018.head()"
   ]
  },
  {
   "cell_type": "code",
   "execution_count": 13,
   "metadata": {},
   "outputs": [
    {
     "data": {
      "text/plain": [
       "year                                                       14126\n",
       "bnfcode        0410020C0AAACAC0410020C0AAABAB0410020C0AAAAAA0...\n",
       "bnfname        Varenicline Tart_2Wk Init(Tab 0.5mg/1mg)Vareni...\n",
       "org_type       UnknownUnknownUnknownUnknownUnknownUnknownUnknown\n",
       "total_items                                                 6855\n",
       "total_qty                                                 138405\n",
       "actual_cost                                            184238.79\n",
       "dtype: object"
      ]
     },
     "execution_count": 13,
     "metadata": {},
     "output_type": "execute_result"
    }
   ],
   "source": [
    "nonccg_varenicline_2018.sum()"
   ]
  },
  {
   "cell_type": "code",
   "execution_count": null,
   "metadata": {},
   "outputs": [],
   "source": []
  }
 ],
 "metadata": {
  "kernelspec": {
   "display_name": "Python 3",
   "language": "python",
   "name": "python3"
  },
  "language_info": {
   "codemirror_mode": {
    "name": "ipython",
    "version": 3
   },
   "file_extension": ".py",
   "mimetype": "text/x-python",
   "name": "python",
   "nbconvert_exporter": "python",
   "pygments_lexer": "ipython3",
   "version": "3.6.5"
  }
 },
 "nbformat": 4,
 "nbformat_minor": 2
}
