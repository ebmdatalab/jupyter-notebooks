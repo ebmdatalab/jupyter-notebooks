{
 "cells": [
  {
   "cell_type": "code",
   "execution_count": null,
   "metadata": {},
   "outputs": [],
   "source": [
    "#import libraries required for analysis\n",
    "import pandas as pd\n",
    "import numpy as np\n",
    "import matplotlib\n",
    "import matplotlib.pyplot as plt\n",
    "from ebmdatalab import bq\n",
    "from ebmdatalab import charts\n",
    "from ebmdatalab import maps"
   ]
  },
  {
   "cell_type": "code",
   "execution_count": null,
   "metadata": {},
   "outputs": [],
   "source": [
    "sql = \"\"\"\n",
    "SELECT\n",
    "  rx.month,\n",
    "  rx.pct,\n",
    "  SUM(CASE\n",
    "      WHEN cmpa.type = 'AAF' THEN items --calculate AAF items\n",
    "      ELSE 0 END) AS aaf_items,\n",
    "  SUM(CASE\n",
    "      WHEN cmpa.type = 'AAF' THEN actual_cost -- calculate AAF cost\n",
    "      ELSE 0 END) AS aaf_cost,\n",
    "  SUM(CASE\n",
    "      WHEN cmpa.type <> 'exclude' THEN items --calculate all CMPA items\n",
    "      ELSE 0 END) AS all_items,\n",
    "  SUM(CASE\n",
    "      WHEN cmpa.type <> 'exclude' THEN actual_cost -- calculate all CMPA cost\n",
    "      ELSE 0 END) AS all_cost,\n",
    "  IEEE_DIVIDE(SUM(CASE\n",
    "        WHEN cmpa.type = 'AAF' THEN items\n",
    "        ELSE 0 END), SUM(CASE\n",
    "      WHEN cmpa.type <> 'exclude' THEN items\n",
    "      ELSE 0 END)) AS aaf_percent_items,   -- calculate AAF items proportion\n",
    "  -- calculate AAF items proportion\n",
    "  IEEE_DIVIDE(SUM(CASE\n",
    "        WHEN cmpa.type = 'AAF' THEN actual_cost\n",
    "        ELSE 0 END), SUM(CASE\n",
    "      WHEN cmpa.type <> 'exclude' THEN actual_cost\n",
    "      ELSE 0 END)) AS aaf_percent_cost  -- calculate AAF cost proportion\n",
    "FROM\n",
    "  hscic.normalised_prescribing_standard AS rx\n",
    "JOIN\n",
    "  measures.cmpa_products AS cmpa --join with CPMA products table\n",
    "ON\n",
    "  rx.bnf_code=cmpa.bnf_code\n",
    "WHERE\n",
    "  rx.bnf_code IN (\n",
    "  SELECT\n",
    "    bnf_code\n",
    "  FROM\n",
    "    measures.cmpa_products)\n",
    "GROUP BY\n",
    "  month,\n",
    "  pct\n",
    "ORDER BY\n",
    "  month\n",
    "\"\"\"\n",
    "cmpa_df = bq.cached_read(sql, csv_path='cmpa_df.csv', use_cache=True)\n",
    "cmpa_df['month'] = cmpa_df['month'].astype('datetime64[ns]')"
   ]
  }
 ],
 "metadata": {
  "kernelspec": {
   "display_name": "Python 3",
   "language": "python",
   "name": "python3"
  },
  "language_info": {
   "codemirror_mode": {
    "name": "ipython",
    "version": 3
   },
   "file_extension": ".py",
   "mimetype": "text/x-python",
   "name": "python",
   "nbconvert_exporter": "python",
   "pygments_lexer": "ipython3",
   "version": "3.7.1"
  }
 },
 "nbformat": 4,
 "nbformat_minor": 2
}
