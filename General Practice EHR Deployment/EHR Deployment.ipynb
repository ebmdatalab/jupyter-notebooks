{
 "cells": [
  {
   "cell_type": "markdown",
   "metadata": {},
   "source": [
    "This notebook illustrates geographic distribution of deployment of different electronic health record (EHR) software across England by CCG.\n",
    "\n",
    "This is generated from a file available on request from NHS Digital."
   ]
  },
  {
   "cell_type": "code",
   "execution_count": null,
   "metadata": {},
   "outputs": [],
   "source": [
    "##import libraries neededd\n",
    "from ebmdatalab import bq\n",
    "from ebmdatalab import maps\n",
    "import pandas as pd\n",
    "import matplotlib.pyplot as plt\n",
    "import matplotlib.gridspec as gridspec\n"
   ]
  },
  {
   "cell_type": "code",
   "execution_count": 8,
   "metadata": {},
   "outputs": [
    {
     "name": "stderr",
     "output_type": "stream",
     "text": [
      "C:\\Users\\bmackenna\\Anaconda3\\lib\\site-packages\\pandas\\io\\gbq.py:149: FutureWarning: verbose is deprecated and will be removed in a future version. Set logging level in order to vary verbosity\n",
      "  credentials=credentials, verbose=verbose, private_key=private_key)\n"
     ]
    }
   ],
   "source": [
    "sql = \"\"\"\n",
    "WITH\n",
    "  practice_count AS (\n",
    "  SELECT\n",
    "    ccg_id,\n",
    "    COUNT(*) AS total_practices\n",
    "  FROM\n",
    "    hscic.practices\n",
    "  WHERE\n",
    "    setting = 4 ##this is the code for a \"normal\" general practice in NHS BSA terms\n",
    "    AND status_code = 'A'\n",
    "  GROUP BY\n",
    "    ccg_id)\n",
    "SELECT\n",
    "  TRIM(Principal_Supplier) AS supplier,\n",
    "  practices.ccg_id AS pct,\n",
    "  COUNT(*) AS count,\n",
    "  total_practices\n",
    "FROM\n",
    "  hscic.vendors software ##this is the BQ place where we have saved NHS Digital monthly extracts\n",
    "JOIN\n",
    "  hscic.practices\n",
    "ON\n",
    "  practices.code = software.ODS\n",
    "JOIN\n",
    "  practice_count\n",
    "ON\n",
    "  practice_count.ccg_id = practices.ccg_id\n",
    "WHERE\n",
    "  practices.setting = 4\n",
    "  AND practices.status_code = 'A'\n",
    "  AND Date = '2018-12-01' ###latest data is December\n",
    "GROUP BY\n",
    "  supplier,\n",
    "  practices.ccg_id, total_practices\n",
    "  \n",
    "  \"\"\"\n",
    "\n",
    "ehr_by_ccg = bq.cached_read(sql, csv_path=\"ehr_by_ccg.csv\")"
   ]
  },
  {
   "cell_type": "code",
   "execution_count": 9,
   "metadata": {},
   "outputs": [
    {
     "data": {
      "text/html": [
       "<div>\n",
       "<style scoped>\n",
       "    .dataframe tbody tr th:only-of-type {\n",
       "        vertical-align: middle;\n",
       "    }\n",
       "\n",
       "    .dataframe tbody tr th {\n",
       "        vertical-align: top;\n",
       "    }\n",
       "\n",
       "    .dataframe thead th {\n",
       "        text-align: right;\n",
       "    }\n",
       "</style>\n",
       "<table border=\"1\" class=\"dataframe\">\n",
       "  <thead>\n",
       "    <tr style=\"text-align: right;\">\n",
       "      <th></th>\n",
       "      <th>supplier</th>\n",
       "      <th>pct</th>\n",
       "      <th>count</th>\n",
       "      <th>total_practices</th>\n",
       "      <th>percent</th>\n",
       "    </tr>\n",
       "  </thead>\n",
       "  <tbody>\n",
       "    <tr>\n",
       "      <th>0</th>\n",
       "      <td>TPP</td>\n",
       "      <td>00M</td>\n",
       "      <td>30</td>\n",
       "      <td>37</td>\n",
       "      <td>81.0</td>\n",
       "    </tr>\n",
       "    <tr>\n",
       "      <th>1</th>\n",
       "      <td>TPP</td>\n",
       "      <td>00L</td>\n",
       "      <td>32</td>\n",
       "      <td>41</td>\n",
       "      <td>78.0</td>\n",
       "    </tr>\n",
       "  </tbody>\n",
       "</table>\n",
       "</div>"
      ],
      "text/plain": [
       "  supplier  pct  count  total_practices  percent\n",
       "0      TPP  00M     30               37     81.0\n",
       "1      TPP  00L     32               41     78.0"
      ]
     },
     "execution_count": 9,
     "metadata": {},
     "output_type": "execute_result"
    }
   ],
   "source": [
    "##create an extra column with % deplyment across a CCG\n",
    "ehr_by_ccg['percent'] = (ehr_by_ccg['count'] / ehr_by_ccg['total_practices'] * 100).round()\n",
    "ehr_by_ccg = ehr_by_ccg.loc[ehr_by_ccg['pct']!='112'] ###ccg 112 is no longer a CCG so not supported by maps preApril2019\n",
    "ehr_by_ccg.head(2)"
   ]
  },
  {
   "cell_type": "code",
   "execution_count": null,
   "metadata": {},
   "outputs": [
    {
     "name": "stderr",
     "output_type": "stream",
     "text": [
      "C:\\Users\\bmackenna\\Anaconda3\\lib\\site-packages\\matplotlib\\colors.py:504: RuntimeWarning: invalid value encountered in less\n",
      "  xa[xa < 0] = -1\n"
     ]
    }
   ],
   "source": [
    "\n",
    "for supplier in ehr_by_ccg.supplier.unique():\n",
    "    if not supplier:\n",
    "        continue\n",
    "    plt.figure(figsize=(20, 7))\n",
    "    plt = maps.ccg_map(\n",
    "        ehr_by_ccg[ehr_by_ccg['supplier'] == supplier], \n",
    "        title=supplier, column='percent', \n",
    "        separate_london=False)\n",
    "    plt.show()"
   ]
  },
  {
   "cell_type": "code",
   "execution_count": null,
   "metadata": {},
   "outputs": [],
   "source": []
  }
 ],
 "metadata": {
  "kernelspec": {
   "display_name": "Python 3",
   "language": "python",
   "name": "python3"
  },
  "language_info": {
   "codemirror_mode": {
    "name": "ipython",
    "version": 3
   },
   "file_extension": ".py",
   "mimetype": "text/x-python",
   "name": "python",
   "nbconvert_exporter": "python",
   "pygments_lexer": "ipython3",
   "version": "3.6.5"
  }
 },
 "nbformat": 4,
 "nbformat_minor": 2
}
