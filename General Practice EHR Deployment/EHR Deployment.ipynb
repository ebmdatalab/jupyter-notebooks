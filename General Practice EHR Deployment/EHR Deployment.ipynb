{
 "cells": [
  {
   "cell_type": "code",
   "execution_count": null,
   "metadata": {},
   "outputs": [],
   "source": []
  },
  {
   "cell_type": "code",
   "execution_count": 1,
   "metadata": {},
   "outputs": [],
   "source": [
    "from ebmdatalab import bq\n",
    "from ebmdatalab import maps\n",
    "import pandas as pd\n"
   ]
  },
  {
   "cell_type": "code",
   "execution_count": 3,
   "metadata": {},
   "outputs": [
    {
     "name": "stderr",
     "output_type": "stream",
     "text": [
      "C:\\Users\\bmackenna\\Anaconda3\\lib\\site-packages\\pandas\\io\\gbq.py:149: FutureWarning: verbose is deprecated and will be removed in a future version. Set logging level in order to vary verbosity\n",
      "  credentials=credentials, verbose=verbose, private_key=private_key)\n"
     ]
    }
   ],
   "source": [
    "sql = \"\"\"\n",
    "WITH\n",
    "  practice_count AS (\n",
    "  SELECT\n",
    "    ccg_id,\n",
    "    COUNT(*) AS total_practices\n",
    "  FROM\n",
    "    hscic.practices\n",
    "  WHERE\n",
    "    setting = 4\n",
    "    AND status_code = 'A'\n",
    "  GROUP BY\n",
    "    ccg_id)\n",
    "SELECT\n",
    "  TRIM(Principal_Supplier) AS supplier,\n",
    "  practices.ccg_id AS pct,\n",
    "  COUNT(*) AS count,\n",
    "  total_practices\n",
    "FROM\n",
    "  hscic.vendors software\n",
    "JOIN\n",
    "  hscic.practices\n",
    "ON\n",
    "  practices.code = software.ODS\n",
    "JOIN\n",
    "  practice_count\n",
    "ON\n",
    "  practice_count.ccg_id = practices.ccg_id\n",
    "WHERE\n",
    "  practices.setting = 4\n",
    "  AND practices.status_code = 'A'\n",
    "  AND Date = '2018-12-01' ###latest data is December\n",
    "GROUP BY\n",
    "  supplier,\n",
    "  practices.ccg_id, total_practices\n",
    "  \n",
    "  \"\"\"\n",
    "\n",
    "ehr_by_ccg = bq.cached_read(sql, csv_path=\"ehr_by_ccg.csv\", use_cache=False)"
   ]
  },
  {
   "cell_type": "code",
   "execution_count": 6,
   "metadata": {},
   "outputs": [],
   "source": [
    "\n",
    "ehr_by_ccg['percent'] = (ehr_by_ccg['count'] / ehr_by_ccg['total_practices'] * 100).round()"
   ]
  },
  {
   "cell_type": "code",
   "execution_count": 9,
   "metadata": {},
   "outputs": [
    {
     "ename": "BaseException",
     "evalue": "Data contains CCG codes we don't know about: ['112']",
     "output_type": "error",
     "traceback": [
      "\u001b[1;31m---------------------------------------------------------------------------\u001b[0m",
      "\u001b[1;31mBaseException\u001b[0m                             Traceback (most recent call last)",
      "\u001b[1;32m<ipython-input-9-b9b0c6f26a20>\u001b[0m in \u001b[0;36m<module>\u001b[1;34m()\u001b[0m\n\u001b[0;32m      7\u001b[0m         \u001b[0mehr_by_ccg\u001b[0m\u001b[1;33m[\u001b[0m\u001b[0mehr_by_ccg\u001b[0m\u001b[1;33m[\u001b[0m\u001b[1;34m'supplier'\u001b[0m\u001b[1;33m]\u001b[0m \u001b[1;33m==\u001b[0m \u001b[0msupplier\u001b[0m\u001b[1;33m]\u001b[0m\u001b[1;33m,\u001b[0m\u001b[1;33m\u001b[0m\u001b[0m\n\u001b[0;32m      8\u001b[0m         \u001b[0mtitle\u001b[0m\u001b[1;33m=\u001b[0m\u001b[0msupplier\u001b[0m\u001b[1;33m,\u001b[0m \u001b[0mcolumn\u001b[0m\u001b[1;33m=\u001b[0m\u001b[1;34m'percent'\u001b[0m\u001b[1;33m,\u001b[0m\u001b[1;33m\u001b[0m\u001b[0m\n\u001b[1;32m----> 9\u001b[1;33m         separate_london=False)\n\u001b[0m\u001b[0;32m     10\u001b[0m     \u001b[0mplt\u001b[0m\u001b[1;33m.\u001b[0m\u001b[0mshow\u001b[0m\u001b[1;33m(\u001b[0m\u001b[1;33m)\u001b[0m\u001b[1;33m\u001b[0m\u001b[0m\n",
      "\u001b[1;32m~\\Anaconda3\\lib\\site-packages\\ebmdatalab\\maps.py\u001b[0m in \u001b[0;36mccg_map\u001b[1;34m(df, title, column, separate_london, london_layout, cartogram, subplot_spec, show_legend, map_year)\u001b[0m\n\u001b[0;32m     34\u001b[0m     \u001b[0mdiff\u001b[0m \u001b[1;33m=\u001b[0m \u001b[0mnp\u001b[0m\u001b[1;33m.\u001b[0m\u001b[0msetdiff1d\u001b[0m\u001b[1;33m(\u001b[0m\u001b[0mdf\u001b[0m\u001b[1;33m[\u001b[0m\u001b[1;34m\"pct\"\u001b[0m\u001b[1;33m]\u001b[0m\u001b[1;33m,\u001b[0m \u001b[0mnames\u001b[0m\u001b[1;33m[\u001b[0m\u001b[1;34m'code'\u001b[0m\u001b[1;33m]\u001b[0m\u001b[1;33m)\u001b[0m\u001b[1;33m\u001b[0m\u001b[0m\n\u001b[0;32m     35\u001b[0m     \u001b[1;32mif\u001b[0m \u001b[0mlen\u001b[0m\u001b[1;33m(\u001b[0m\u001b[0mdiff\u001b[0m\u001b[1;33m)\u001b[0m \u001b[1;33m>\u001b[0m \u001b[1;36m0\u001b[0m\u001b[1;33m:\u001b[0m\u001b[1;33m\u001b[0m\u001b[0m\n\u001b[1;32m---> 36\u001b[1;33m         \u001b[1;32mraise\u001b[0m \u001b[0mBaseException\u001b[0m\u001b[1;33m(\u001b[0m\u001b[1;34m\"Data contains CCG codes we don't know about: {}\"\u001b[0m\u001b[1;33m.\u001b[0m\u001b[0mformat\u001b[0m\u001b[1;33m(\u001b[0m\u001b[0mdiff\u001b[0m\u001b[1;33m)\u001b[0m\u001b[1;33m)\u001b[0m\u001b[1;33m\u001b[0m\u001b[0m\n\u001b[0m\u001b[0;32m     37\u001b[0m \u001b[1;33m\u001b[0m\u001b[0m\n\u001b[0;32m     38\u001b[0m     df = df.merge(names[['code', 'name', 'is_london']],\n",
      "\u001b[1;31mBaseException\u001b[0m: Data contains CCG codes we don't know about: ['112']"
     ]
    }
   ],
   "source": [
    "import importlib\n",
    "importlib.reload(maps)\n",
    "for supplier in ehr_by_ccg.supplier.unique():\n",
    "    if not supplier:\n",
    "        continue\n",
    "    plt = maps.ccg_map(\n",
    "        ehr_by_ccg[ehr_by_ccg['supplier'] == supplier], \n",
    "        title=supplier, column='percent', \n",
    "        separate_london=False)\n",
    "    plt.show()"
   ]
  },
  {
   "cell_type": "code",
   "execution_count": null,
   "metadata": {},
   "outputs": [],
   "source": []
  }
 ],
 "metadata": {
  "kernelspec": {
   "display_name": "Python 3",
   "language": "python",
   "name": "python3"
  },
  "language_info": {
   "codemirror_mode": {
    "name": "ipython",
    "version": 3
   },
   "file_extension": ".py",
   "mimetype": "text/x-python",
   "name": "python",
   "nbconvert_exporter": "python",
   "pygments_lexer": "ipython3",
   "version": "3.6.5"
  }
 },
 "nbformat": 4,
 "nbformat_minor": 2
}
