{
 "cells": [
  {
   "cell_type": "markdown",
   "metadata": {},
   "source": [
    "The policy f generic prescribing is frequently cited as a policy that has saved the NHS significant amount of money. One [estimate] puts a figure of £7.1billion of savings over the last 40 years. Here we seek to identify missed savings over the last few years. \n",
    "\n",
    "At OpenPrescribing our [PPU tool](https://openprescribing.net/all-england/price-per-unit/) identifies the wide variation in the unit cost of a number of medicines prescribed across England estimates what could be saved if every organisation were prescribing as well as the best 10%. WE will seek to isolate the brand -> generic savings only"
   ]
  },
  {
   "cell_type": "markdown",
   "metadata": {},
   "source": [
    "### Library Imports"
   ]
  },
  {
   "cell_type": "code",
   "execution_count": 1,
   "metadata": {},
   "outputs": [],
   "source": [
    "import pandas as pd\n",
    "import numpy as np\n",
    "from ebmdatalab import bq, maps, charts"
   ]
  },
  {
   "cell_type": "code",
   "execution_count": 2,
   "metadata": {},
   "outputs": [],
   "source": [
    "## ensuring the format is consistent for pounds and pence\n",
    "pd.set_option('display.float_format', lambda x: '%.2f' % x)"
   ]
  },
  {
   "cell_type": "markdown",
   "metadata": {},
   "source": [
    "### Data Imports"
   ]
  },
  {
   "cell_type": "code",
   "execution_count": 3,
   "metadata": {},
   "outputs": [
    {
     "data": {
      "text/html": [
       "<div>\n",
       "<style scoped>\n",
       "    .dataframe tbody tr th:only-of-type {\n",
       "        vertical-align: middle;\n",
       "    }\n",
       "\n",
       "    .dataframe tbody tr th {\n",
       "        vertical-align: top;\n",
       "    }\n",
       "\n",
       "    .dataframe thead th {\n",
       "        text-align: right;\n",
       "    }\n",
       "</style>\n",
       "<table border=\"1\" class=\"dataframe\">\n",
       "  <thead>\n",
       "    <tr style=\"text-align: right;\">\n",
       "      <th></th>\n",
       "      <th>date</th>\n",
       "      <th>bnf_code</th>\n",
       "      <th>pres_stat</th>\n",
       "      <th>name</th>\n",
       "      <th>target_ppu</th>\n",
       "      <th>cost</th>\n",
       "      <th>quantity</th>\n",
       "      <th>target_cost</th>\n",
       "      <th>saving</th>\n",
       "    </tr>\n",
       "  </thead>\n",
       "  <tbody>\n",
       "    <tr>\n",
       "      <th>0</th>\n",
       "      <td>2017-08-01</td>\n",
       "      <td>0408010AEAAACAC</td>\n",
       "      <td>1</td>\n",
       "      <td>Pregabalin_Cap 75mg</td>\n",
       "      <td>0.25</td>\n",
       "      <td>1155933.06</td>\n",
       "      <td>1653845</td>\n",
       "      <td>413461.25</td>\n",
       "      <td>742471.81</td>\n",
       "    </tr>\n",
       "    <tr>\n",
       "      <th>1</th>\n",
       "      <td>2016-09-01</td>\n",
       "      <td>0301020S0AAAAAA</td>\n",
       "      <td>1</td>\n",
       "      <td>Glycopyrronium Brom_Inh Cap 55mcg + Dev</td>\n",
       "      <td>0.92</td>\n",
       "      <td>692256.94</td>\n",
       "      <td>25173</td>\n",
       "      <td>23075.25</td>\n",
       "      <td>669181.69</td>\n",
       "    </tr>\n",
       "    <tr>\n",
       "      <th>2</th>\n",
       "      <td>2016-08-01</td>\n",
       "      <td>0301020S0AAAAAA</td>\n",
       "      <td>1</td>\n",
       "      <td>Glycopyrronium Brom_Inh Cap 55mcg + Dev</td>\n",
       "      <td>0.92</td>\n",
       "      <td>674547.50</td>\n",
       "      <td>24529</td>\n",
       "      <td>22484.92</td>\n",
       "      <td>652062.58</td>\n",
       "    </tr>\n",
       "    <tr>\n",
       "      <th>3</th>\n",
       "      <td>2011-07-01</td>\n",
       "      <td>0803041B0AAAAAA</td>\n",
       "      <td>1</td>\n",
       "      <td>Anastrozole_Tab 1mg</td>\n",
       "      <td>0.28</td>\n",
       "      <td>714975.61</td>\n",
       "      <td>306619</td>\n",
       "      <td>86072.33</td>\n",
       "      <td>628903.28</td>\n",
       "    </tr>\n",
       "    <tr>\n",
       "      <th>4</th>\n",
       "      <td>2017-09-01</td>\n",
       "      <td>0408010AEAAACAC</td>\n",
       "      <td>1</td>\n",
       "      <td>Pregabalin_Cap 75mg</td>\n",
       "      <td>0.14</td>\n",
       "      <td>796632.82</td>\n",
       "      <td>1214346</td>\n",
       "      <td>168080.91</td>\n",
       "      <td>628551.91</td>\n",
       "    </tr>\n",
       "  </tbody>\n",
       "</table>\n",
       "</div>"
      ],
      "text/plain": [
       "         date         bnf_code  pres_stat  \\\n",
       "0  2017-08-01  0408010AEAAACAC          1   \n",
       "1  2016-09-01  0301020S0AAAAAA          1   \n",
       "2  2016-08-01  0301020S0AAAAAA          1   \n",
       "3  2011-07-01  0803041B0AAAAAA          1   \n",
       "4  2017-09-01  0408010AEAAACAC          1   \n",
       "\n",
       "                                      name  target_ppu       cost  quantity  \\\n",
       "0                      Pregabalin_Cap 75mg        0.25 1155933.06   1653845   \n",
       "1  Glycopyrronium Brom_Inh Cap 55mcg + Dev        0.92  692256.94     25173   \n",
       "2  Glycopyrronium Brom_Inh Cap 55mcg + Dev        0.92  674547.50     24529   \n",
       "3                      Anastrozole_Tab 1mg        0.28  714975.61    306619   \n",
       "4                      Pregabalin_Cap 75mg        0.14  796632.82   1214346   \n",
       "\n",
       "   target_cost    saving  \n",
       "0    413461.25 742471.81  \n",
       "1     23075.25 669181.69  \n",
       "2     22484.92 652062.58  \n",
       "3     86072.33 628903.28  \n",
       "4    168080.91 628551.91  "
      ]
     },
     "execution_count": 3,
     "metadata": {},
     "output_type": "execute_result"
    }
   ],
   "source": [
    "sql = '''WITH generic_ppus AS (\n",
    "  SELECT\n",
    "    presentation.bnf_code,\n",
    "    presentation.name,\n",
    "    vw__median_price_per_unit.date,\n",
    "    vw__median_price_per_unit.median_price_per_unit\n",
    "  FROM\n",
    "    measures.vw__median_price_per_unit\n",
    "  INNER JOIN\n",
    "    hscic.presentation\n",
    "  ON\n",
    "    vw__median_price_per_unit.bnf_code = presentation.bnf_code\n",
    "  INNER JOIN\n",
    "    dmd.vmpp\n",
    "  ON vmpp.bnf_code = presentation.bnf_code\n",
    "  INNER JOIN dmd.dtinfo\n",
    "  ON vmpp.id = dtinfo.vmpp\n",
    "  WHERE\n",
    "    substr(presentation.bnf_code, 10, 2) = 'AA' -- generic\n",
    "   AND dtinfo.pay_cat IN (1,3,11)),\n",
    "\n",
    "branded_prescribing AS (\n",
    "  SELECT\n",
    "    *,\n",
    "    CONCAT(SUBSTR(bnf_code, 1, 9), 'AA', SUBSTR(bnf_code, 12, 4)) AS generic_bnf_code\n",
    "  FROM\n",
    "    hscic.normalised_prescribing_standard\n",
    "  WHERE\n",
    "    substr(bnf_code, 10, 2) != 'AA' -- not generic\n",
    "  )\n",
    "\n",
    "\n",
    "SELECT\n",
    "  CAST(generic_ppus.date AS date) AS date,\n",
    "  generic_ppus.bnf_code,\n",
    "  pres_stat,\n",
    "  generic_ppus.name,\n",
    "  generic_ppus.median_price_per_unit AS target_ppu,\n",
    "  SUM(branded_prescribing.net_cost) AS cost,\n",
    "  SUM(branded_prescribing.quantity) AS quantity,\n",
    "  SUM(branded_prescribing.quantity) * generic_ppus.median_price_per_unit AS target_cost,\n",
    "  SUM(branded_prescribing.net_cost) - SUM(branded_prescribing.quantity) * generic_ppus.median_price_per_unit AS saving\n",
    "FROM\n",
    "  generic_ppus\n",
    "INNER JOIN\n",
    "  branded_prescribing\n",
    "ON\n",
    "  generic_ppus.bnf_code = branded_prescribing.generic_bnf_code\n",
    "  AND generic_ppus.date = branded_prescribing.month\n",
    "INNER JOIN\n",
    "ebmdatalab.dmd.vmp AS vmp\n",
    "ON\n",
    "generic_ppus.bnf_code = vmp.bnf_code\n",
    "GROUP BY\n",
    "  generic_ppus.date,\n",
    "  generic_ppus.bnf_code,\n",
    "  pres_stat,\n",
    "  generic_ppus.name,\n",
    "  target_ppu\n",
    "ORDER BY\n",
    "  saving DESC'''\n",
    "\n",
    "df_generic_saving = bq.cached_read(sql, csv_path='generic_saving.csv', use_cache=True)\n",
    "df_generic_saving.head()"
   ]
  },
  {
   "cell_type": "markdown",
   "metadata": {},
   "source": [
    "### Analysis"
   ]
  },
  {
   "cell_type": "code",
   "execution_count": 4,
   "metadata": {},
   "outputs": [
    {
     "data": {
      "text/plain": [
       "date           2017-08-012016-09-012016-08-012011-07-012017-0...\n",
       "bnf_code       0408010AEAAACAC0301020S0AAAAAA0301020S0AAAAAA0...\n",
       "pres_stat                                                 165074\n",
       "name           Pregabalin_Cap 75mgGlycopyrronium Brom_Inh Cap...\n",
       "target_ppu                                            1570361.70\n",
       "cost                                               6345468237.19\n",
       "quantity                                             12724357373\n",
       "target_cost                                        6060642891.02\n",
       "saving                                              284825346.17\n",
       "dtype: object"
      ]
     },
     "execution_count": 4,
     "metadata": {},
     "output_type": "execute_result"
    }
   ],
   "source": [
    "df_generic_saving.sum()"
   ]
  },
  {
   "cell_type": "code",
   "execution_count": 5,
   "metadata": {},
   "outputs": [],
   "source": [
    "df_2019 = df_generic_saving.loc[(df_generic_saving[\"date\"] >=\"2019-01-01\")] \n"
   ]
  },
  {
   "cell_type": "code",
   "execution_count": 6,
   "metadata": {},
   "outputs": [
    {
     "data": {
      "text/plain": [
       "date           2019-05-012019-01-012019-03-012019-04-012019-0...\n",
       "bnf_code       0408010A0AAABAB0408010A0AAABAB0408010A0AAABAB0...\n",
       "pres_stat                                                   9164\n",
       "name           Levetiracetam_Tab 500mgLevetiracetam_Tab 500mg...\n",
       "target_ppu                                              83906.18\n",
       "cost                                                373365660.71\n",
       "quantity                                               605301743\n",
       "target_cost                                         345134072.58\n",
       "saving                                               28231588.13\n",
       "dtype: object"
      ]
     },
     "execution_count": 6,
     "metadata": {},
     "output_type": "execute_result"
    }
   ],
   "source": [
    "df_2019.sum()"
   ]
  },
  {
   "cell_type": "code",
   "execution_count": 7,
   "metadata": {},
   "outputs": [],
   "source": [
    "df_generic_saving_2019 =  df_2019.loc[(df_generic_saving[\"pres_stat\"] == 1)] ## we restrict to products that should only be prescribed as a VMP e.g. exlcude branded prescribing for narrow TI meds\n"
   ]
  },
  {
   "cell_type": "code",
   "execution_count": 8,
   "metadata": {},
   "outputs": [
    {
     "data": {
      "text/plain": [
       "date           2019-05-012019-01-012019-03-012019-04-012019-0...\n",
       "bnf_code       0408010A0AAABAB0408010A0AAABAB0408010A0AAABAB0...\n",
       "pres_stat                                                   6896\n",
       "name           Levetiracetam_Tab 500mgLevetiracetam_Tab 500mg...\n",
       "target_ppu                                              79828.28\n",
       "cost                                                275042266.01\n",
       "quantity                                               584519973\n",
       "target_cost                                         244248724.05\n",
       "saving                                               30793541.96\n",
       "dtype: object"
      ]
     },
     "execution_count": 8,
     "metadata": {},
     "output_type": "execute_result"
    }
   ],
   "source": [
    "df_generic_saving_2019.sum()"
   ]
  },
  {
   "cell_type": "markdown",
   "metadata": {},
   "source": [
    "The saving is approx £30million in first 6 months of 2019"
   ]
  },
  {
   "cell_type": "code",
   "execution_count": null,
   "metadata": {},
   "outputs": [],
   "source": []
  }
 ],
 "metadata": {
  "kernelspec": {
   "display_name": "Python 3",
   "language": "python",
   "name": "python3"
  },
  "language_info": {
   "codemirror_mode": {
    "name": "ipython",
    "version": 3
   },
   "file_extension": ".py",
   "mimetype": "text/x-python",
   "name": "python",
   "nbconvert_exporter": "python",
   "pygments_lexer": "ipython3",
   "version": "3.6.5"
  }
 },
 "nbformat": 4,
 "nbformat_minor": 2
}
