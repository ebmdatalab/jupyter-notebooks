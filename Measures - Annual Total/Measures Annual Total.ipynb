{
 "cells": [
  {
   "cell_type": "markdown",
   "metadata": {},
   "source": [
    "This notebook sets out to analyse the total spend and volume in the last 12 months of a subset of measures"
   ]
  },
  {
   "cell_type": "code",
   "execution_count": null,
   "metadata": {},
   "outputs": [],
   "source": [
    "import importlib\n",
    "import pandas as pd\n",
    "import numpy as np\n",
    "from ebmdatalab import bq, maps, charts"
   ]
  },
  {
   "cell_type": "code",
   "execution_count": null,
   "metadata": {},
   "outputs": [],
   "source": [
    "## ensuring the format is consistent for pounds and pence\n",
    "pd.set_option('display.float_format', lambda x: '%.2f' % x)"
   ]
  },
  {
   "cell_type": "code",
   "execution_count": null,
   "metadata": {},
   "outputs": [],
   "source": [
    "import importlib\n",
    "importlib.reload(bq)\n",
    "measures = ['statinintensity', 'lyrica', 'desogestrel', \n",
    "            'glaucoma', 'fungal', 'glaucoma', 'methotrexate', 'keppra', 'ktt13_nsaids_ibuprofen',\n",
    "           'other_lipid_modifying_drugs', 'tramadol', 'silver']\n",
    "\n",
    "def get_data(measure_id):\n",
    "    sql = \"\"\"\n",
    "SELECT\n",
    "pct_id,\n",
    "SUM(numerator) AS numerator_items,\n",
    "SUM(denominator) AS denominator_items,\n",
    "IEEE_DIVIDE(SUM(numerator), SUM(denominator)) AS calc_value, \n",
    "  '{measure_id}' AS measure_id\n",
    "FROM\n",
    "  measures.ccg_data_{measure_id} AS m\n",
    "WHERE\n",
    "month >= '2018-07-01' AND month <= '2019-06-01'\n",
    "GROUP BY\n",
    "  pct_id,\n",
    "  measure_id\n",
    "\"\"\".format(measure_id=measure_id)\n",
    "    import pandas as pd\n",
    "    df = bq.cached_read(sql, csv_path=\"measures_annual_total.csv\".format(measure_id))\n",
    "    return df\n",
    "\n",
    "def get_dataframe(measures):\n",
    "    df = pd.DataFrame()\n",
    "    for measure in measures:\n",
    "        df = df.append(get_data(measure))\n",
    "    return df\n",
    "df = get_dataframe(measures)"
   ]
  },
  {
   "cell_type": "code",
   "execution_count": null,
   "metadata": {},
   "outputs": [],
   "source": [
    "df.head(10)"
   ]
  },
  {
   "cell_type": "code",
   "execution_count": null,
   "metadata": {},
   "outputs": [],
   "source": [
    "print(df)"
   ]
  },
  {
   "cell_type": "code",
   "execution_count": null,
   "metadata": {},
   "outputs": [],
   "source": [
    "df.to_csv(\"test_measure.csv\")"
   ]
  },
  {
   "cell_type": "code",
   "execution_count": null,
   "metadata": {},
   "outputs": [],
   "source": []
  }
 ],
 "metadata": {
  "kernelspec": {
   "display_name": "Python 3",
   "language": "python",
   "name": "python3"
  },
  "language_info": {
   "codemirror_mode": {
    "name": "ipython",
    "version": 3
   },
   "file_extension": ".py",
   "mimetype": "text/x-python",
   "name": "python",
   "nbconvert_exporter": "python",
   "pygments_lexer": "ipython3",
   "version": "3.6.5"
  }
 },
 "nbformat": 4,
 "nbformat_minor": 2
}
