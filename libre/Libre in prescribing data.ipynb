{
 "cells": [
  {
   "cell_type": "code",
   "execution_count": 62,
   "metadata": {},
   "outputs": [],
   "source": [
    "import pandas as pd\n",
    "import matplotlib\n",
    "\n",
    "%matplotlib inline\n",
    "\n",
    "GBQ_PROJECT_ID = '620265099307'\n",
    "# This appears to be the \"FreeStyle Libre Sensor\" only (i.e. not the full kit), of which you need 2 per month\n",
    "\n",
    "libre_code = \"21480000100\"  \n",
    "test_strip_code = \"0601060D0%\"\n",
    "type_one_in_england = 311640 # see below"
   ]
  },
  {
   "cell_type": "markdown",
   "metadata": {},
   "source": [
    "\n",
    "> It is estimated that between 3% and 5% of patients with type 1 diabetes in England have access to Freestyle Libre, but if all CCGs followed the guidance correctly this figure could rise to around 25%\n",
    "\n",
    "and\n",
    "\n",
    "> Official prescribing data collated by the diabetes campaigner Nick Cahm and shared with The BMJ indicate that only 2% of patients in England with type 1 diabetes are getting FreeStyle Libre on GP prescription, a much smaller proportion than the 11% in Scotland, 16% in Wales, and 35% in Northern Ireland"
   ]
  },
  {
   "cell_type": "markdown",
   "metadata": {},
   "source": [
    "## Background data\n",
    "\n",
    "Approximately 400,000 people are currently living with type 1 diabetes in the UK, with over 29,000 of them children [1](https://jdrf.org.uk/information-support/about-type-1-diabetes/facts-and-figures/)\n",
    "\n",
    "|Prevalence|\t2016 - 2017|\n",
    "|---|---|\n",
    "|England\t| 3,116,399|\n",
    "|Northern Ireland |\t92,480|\n",
    "|Scotland|\t289,040|\n",
    "|Wales|\t191,590|\n",
    "|UK|\t3,689,509|\n",
    "[2](https://www.diabetes.org.uk/professionals/position-statements-reports/statistics/diabetes-prevalence-2017)\n",
    "\n",
    "\n",
    "Around 90% of people have Type 2 diabetes. Around 10% of people have Type 1 diabetes. [3](https://www.gov.uk/government/news/38-million-people-in-england-now-have-diabetes)\n",
    "\n",
    "That gives us approx 311,640 people with Type 1.\n",
    "\n",
    "The 2015 NICE guidelines recommend that people with type 1 diabetes test their blood glucose at least 4 times per day\n",
    "\n",
    "For Type 2, the recommendation is:\n",
    "\n",
    "> Self-monitoring isn't suitable for everyone with type 2 diabetes, and you should only self-monitor if your doctor or nurse advises it.\n",
    "\n",
    "### How are sensors prescribed?\n",
    "\n",
    "Libre sensors last for 14 days.\n",
    "\n",
    "Drug Tariff IXA says \"FreeStyle Libre Sensor\" (contains 1 sensor, 1 sensor applicator and 1 wipe) - £35\n",
    "\n",
    "The Freestyle Libre reader is not available on prescription and is provided free of charge by the\n",
    "company. \n",
    "        \n",
    "\n",
    "### RMOC guidance\n",
    "\n",
    "1. Patients who undertake intensive monitoring >8 times daily\n",
    "2. Those who meet the current NICE criteria for insulin pump therapy (HbA1c >8.5% (69.4mmol/mol) or disabling hypoglycemia as described in NICE TA151) where a successful trial of FreeStyle Libre® may avoid the need for pump therapy.\n",
    "3. Those who have recently developed impaired awareness of hypoglycaemia. It is\n",
    "noted that for persistent hypoglycaemia unawareness, NICE recommend\n",
    "continuous glucose monitoring with alarms and Freestyle Libre does currently\n",
    "not have that function.\n",
    "4. Frequent admissions (>2 per year) with DKA or hypoglycaemia.\n",
    "5. Those who require third parties to carry out monitoring and where conventional\n",
    "blood testing is not possible.\n",
    "\n"
   ]
  },
  {
   "cell_type": "code",
   "execution_count": 9,
   "metadata": {},
   "outputs": [
    {
     "name": "stderr",
     "output_type": "stream",
     "text": [
      "/home/seb/.local/share/virtualenvs/jupyter/local/lib/python3.6/site-packages/pandas/io/gbq.py:108: FutureWarning: verbose is deprecated and will be removed in a future version. Set logging level in order to vary verbosity\n",
      "  **kwargs)\n"
     ]
    }
   ],
   "source": [
    "query = \"\"\"\n",
    "SELECT\n",
    "  Quantity AS quantity,\n",
    "  SUM(Items) AS items\n",
    "FROM\n",
    "  ebmdatalab.tmp_eu.raw_prescribing_data_2018_08\n",
    "WHERE\n",
    "  BNF_Code LIKE '{test_strip_code}'\n",
    "GROUP BY\n",
    "  Quantity\n",
    "\n",
    "\"\"\".format(test_strip_code=test_strip_code)\n",
    "\n",
    "test_strips = pd.read_gbq(query, GBQ_PROJECT_ID, dialect='standard', verbose=False)"
   ]
  },
  {
   "cell_type": "code",
   "execution_count": 86,
   "metadata": {},
   "outputs": [
    {
     "name": "stderr",
     "output_type": "stream",
     "text": [
      "/home/seb/.local/share/virtualenvs/jupyter/local/lib/python3.6/site-packages/pandas/io/gbq.py:108: FutureWarning: verbose is deprecated and will be removed in a future version. Set logging level in order to vary verbosity\n",
      "  **kwargs)\n"
     ]
    }
   ],
   "source": [
    "query = \"\"\"SELECT\n",
    "  month, SUM(quantity) AS quantity\n",
    "FROM\n",
    "  `ebmdatalab.hscic.normalised_prescribing_standard`\n",
    "WHERE\n",
    "  bnf_code = '{libre_code}'\n",
    "GROUP BY month\n",
    "ORDER BY month\n",
    "  \n",
    "\"\"\".format(libre_code=libre_code)\n",
    "libres_by_month = pd.read_gbq(query, GBQ_PROJECT_ID, dialect='standard', verbose=False)"
   ]
  },
  {
   "cell_type": "code",
   "execution_count": 75,
   "metadata": {},
   "outputs": [
    {
     "name": "stdout",
     "output_type": "stream",
     "text": [
      "Assuming all Libre prescriptions are for Type 1 patients, about 2.0% of Type 1 patients in England have Libre prescribed\n"
     ]
    }
   ],
   "source": [
    "libre_quantity = libres_by_month.iloc[-1]['quantity']/2\n",
    "print(\"Assuming all Libre prescriptions are for Type 1 patients, about {}% of Type 1 patients in England have Libre prescribed\".format(\n",
    "    round((libre_quantity / type_one_in_england) * 100)))"
   ]
  },
  {
   "cell_type": "code",
   "execution_count": 85,
   "metadata": {},
   "outputs": [
    {
     "name": "stdout",
     "output_type": "stream",
     "text": [
      "3.0% of items in England are for high prescriptions meeting RMOC criteria.\n",
      "597192 items (~patients) in the most recent month\n",
      "If we assume all Type 1 are in that group, then that's 285552 Type 2 patients and non-diabetics\n",
      "If every high prescription was for a Type 1 patient then that's at most 6.0% on high prescriptions\n"
     ]
    }
   ],
   "source": [
    "per_day = 8\n",
    "per_month = 8 * 31\n",
    "high_prescription_items = test_strips[test_strips['quantity'] >= per_month]['items'].sum()\n",
    "all_items = test_strips['items'].sum()\n",
    "print(\"{}% of items in England are for high prescriptions meeting RMOC criteria.\".format(\n",
    "    round(high_prescription_items/(all_items + libres_by_month.iloc[-1]['quantity']/2) * 100)))\n",
    "print(\"{all_items} items (~patients) in the most recent month\".format(all_items=all_items))\n",
    "type_2_and_other_glucose = all_items - type_one_in_england\n",
    "print(\"If we assume all Type 1 are in that group, then that's {type_2_and_other_glucose} Type 2 patients and non-diabetics\".format(type_2_and_other_glucose=type_2_and_other_glucose))\n",
    "print(\"If every high prescription was for a Type 1 patient then that's at most {}% on high prescriptions\".format(\n",
    "    round(high_prescription_items/(type_one_in_england + libres_by_month.iloc[-1]['quantity']/2) * 100)))"
   ]
  },
  {
   "cell_type": "markdown",
   "metadata": {},
   "source": [
    "## Conclusions\n",
    "\n",
    "* Approximately 2% of Type 1 patients are prescribed Libre\n",
    "* At most 3% of *all* patients prescribed test strips meet RMOC criteria, based on test strip prescribing alone (criteron 1 above). If only Type 1 patients were prescribed at high levels, then at most 6% of Type 1 patients are on high test strip prescriptions or Libres. Where does the claim that 25% *should* be getting Libre come from?\n",
    "\n",
    "### Questions\n",
    "* Is test strip prescribing/use evenly distributed between people with Type 1 and Type 2? Or are Type 1 patients more likely to have to test more often? \n"
   ]
  }
 ],
 "metadata": {
  "kernelspec": {
   "display_name": "Python 3",
   "language": "python",
   "name": "python3"
  },
  "language_info": {
   "codemirror_mode": {
    "name": "ipython",
    "version": 3
   },
   "file_extension": ".py",
   "mimetype": "text/x-python",
   "name": "python",
   "nbconvert_exporter": "python",
   "pygments_lexer": "ipython3",
   "version": "3.6.5"
  }
 },
 "nbformat": 4,
 "nbformat_minor": 2
}
